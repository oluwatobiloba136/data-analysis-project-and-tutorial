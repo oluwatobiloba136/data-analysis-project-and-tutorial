{
 "cells": [
  {
   "cell_type": "code",
   "execution_count": 1,
   "metadata": {},
   "outputs": [],
   "source": [
    "import pandas as pd \n",
    "import numpy as np\n",
    "import matplotlib.pyplot as plt\n",
    "import seaborn as sns\n",
    "import matplotlib as mpl"
   ]
  },
  {
   "cell_type": "code",
   "execution_count": 2,
   "metadata": {},
   "outputs": [],
   "source": [
    "pd.set_option('display.max_columns',40)\n",
    "pd.set_option('display.max_rows',None)"
   ]
  },
  {
   "cell_type": "code",
   "execution_count": 3,
   "metadata": {},
   "outputs": [],
   "source": [
    "nmis = pd.read_csv('data/NMIS_Health_Dataset.csv')"
   ]
  },
  {
   "cell_type": "code",
   "execution_count": 4,
   "metadata": {},
   "outputs": [
    {
     "data": {
      "text/html": [
       "<div>\n",
       "<style scoped>\n",
       "    .dataframe tbody tr th:only-of-type {\n",
       "        vertical-align: middle;\n",
       "    }\n",
       "\n",
       "    .dataframe tbody tr th {\n",
       "        vertical-align: top;\n",
       "    }\n",
       "\n",
       "    .dataframe thead th {\n",
       "        text-align: right;\n",
       "    }\n",
       "</style>\n",
       "<table border=\"1\" class=\"dataframe\">\n",
       "  <thead>\n",
       "    <tr style=\"text-align: right;\">\n",
       "      <th></th>\n",
       "      <th>maternal_health_delivery_services</th>\n",
       "      <th>facility_type_display</th>\n",
       "      <th>management</th>\n",
       "      <th>emergency_transport</th>\n",
       "      <th>skilled_birth_attendant</th>\n",
       "      <th>phcn_electricity</th>\n",
       "      <th>c_section_yn</th>\n",
       "      <th>child_health_measles_immun_calc</th>\n",
       "      <th>improved_water_supply</th>\n",
       "      <th>improved_sanitation</th>\n",
       "      <th>vaccines_fridge_freezer</th>\n",
       "      <th>antenatal_care_yn</th>\n",
       "      <th>family_planning_yn</th>\n",
       "      <th>malaria_treatment_artemisinin</th>\n",
       "      <th>num_chews_fulltime</th>\n",
       "      <th>num_nurses_fulltime</th>\n",
       "      <th>num_nursemidwives_fulltime</th>\n",
       "      <th>num_doctors_fulltime</th>\n",
       "      <th>latitude</th>\n",
       "      <th>longitude</th>\n",
       "    </tr>\n",
       "  </thead>\n",
       "  <tbody>\n",
       "    <tr>\n",
       "      <th>0</th>\n",
       "      <td>True</td>\n",
       "      <td>Health Post</td>\n",
       "      <td>public</td>\n",
       "      <td>True</td>\n",
       "      <td>False</td>\n",
       "      <td>True</td>\n",
       "      <td>False</td>\n",
       "      <td>True</td>\n",
       "      <td>False</td>\n",
       "      <td>False</td>\n",
       "      <td>False</td>\n",
       "      <td>True</td>\n",
       "      <td>False</td>\n",
       "      <td>True</td>\n",
       "      <td>1.0</td>\n",
       "      <td>0.0</td>\n",
       "      <td>0.0</td>\n",
       "      <td>0.0</td>\n",
       "      <td>6.543408</td>\n",
       "      <td>9.084703</td>\n",
       "    </tr>\n",
       "    <tr>\n",
       "      <th>1</th>\n",
       "      <td>True</td>\n",
       "      <td>Primary Health Centre (PHC)</td>\n",
       "      <td>private</td>\n",
       "      <td>True</td>\n",
       "      <td>True</td>\n",
       "      <td>True</td>\n",
       "      <td>False</td>\n",
       "      <td>True</td>\n",
       "      <td>False</td>\n",
       "      <td>True</td>\n",
       "      <td>True</td>\n",
       "      <td>True</td>\n",
       "      <td>False</td>\n",
       "      <td>True</td>\n",
       "      <td>4.0</td>\n",
       "      <td>1.0</td>\n",
       "      <td>1.0</td>\n",
       "      <td>1.0</td>\n",
       "      <td>9.007209</td>\n",
       "      <td>7.677808</td>\n",
       "    </tr>\n",
       "    <tr>\n",
       "      <th>2</th>\n",
       "      <td>True</td>\n",
       "      <td>Basic Health Centre / Primary Health Clinic</td>\n",
       "      <td>public</td>\n",
       "      <td>True</td>\n",
       "      <td>True</td>\n",
       "      <td>True</td>\n",
       "      <td>True</td>\n",
       "      <td>True</td>\n",
       "      <td>True</td>\n",
       "      <td>True</td>\n",
       "      <td>True</td>\n",
       "      <td>True</td>\n",
       "      <td>True</td>\n",
       "      <td>True</td>\n",
       "      <td>2.0</td>\n",
       "      <td>4.0</td>\n",
       "      <td>11.0</td>\n",
       "      <td>2.0</td>\n",
       "      <td>5.129700</td>\n",
       "      <td>7.159200</td>\n",
       "    </tr>\n",
       "    <tr>\n",
       "      <th>3</th>\n",
       "      <td>True</td>\n",
       "      <td>Primary Health Centre (PHC)</td>\n",
       "      <td>public</td>\n",
       "      <td>False</td>\n",
       "      <td>False</td>\n",
       "      <td>False</td>\n",
       "      <td>False</td>\n",
       "      <td>True</td>\n",
       "      <td>True</td>\n",
       "      <td>False</td>\n",
       "      <td>False</td>\n",
       "      <td>True</td>\n",
       "      <td>True</td>\n",
       "      <td>True</td>\n",
       "      <td>2.0</td>\n",
       "      <td>0.0</td>\n",
       "      <td>0.0</td>\n",
       "      <td>0.0</td>\n",
       "      <td>5.463300</td>\n",
       "      <td>8.146400</td>\n",
       "    </tr>\n",
       "    <tr>\n",
       "      <th>4</th>\n",
       "      <td>True</td>\n",
       "      <td>Health Post</td>\n",
       "      <td>public</td>\n",
       "      <td>False</td>\n",
       "      <td>False</td>\n",
       "      <td>False</td>\n",
       "      <td>False</td>\n",
       "      <td>True</td>\n",
       "      <td>False</td>\n",
       "      <td>False</td>\n",
       "      <td>False</td>\n",
       "      <td>True</td>\n",
       "      <td>True</td>\n",
       "      <td>True</td>\n",
       "      <td>0.0</td>\n",
       "      <td>0.0</td>\n",
       "      <td>0.0</td>\n",
       "      <td>0.0</td>\n",
       "      <td>5.504000</td>\n",
       "      <td>8.025100</td>\n",
       "    </tr>\n",
       "  </tbody>\n",
       "</table>\n",
       "</div>"
      ],
      "text/plain": [
       "  maternal_health_delivery_services  \\\n",
       "0                              True   \n",
       "1                              True   \n",
       "2                              True   \n",
       "3                              True   \n",
       "4                              True   \n",
       "\n",
       "                         facility_type_display management  \\\n",
       "0                                  Health Post     public   \n",
       "1                  Primary Health Centre (PHC)    private   \n",
       "2  Basic Health Centre / Primary Health Clinic     public   \n",
       "3                  Primary Health Centre (PHC)     public   \n",
       "4                                  Health Post     public   \n",
       "\n",
       "   emergency_transport skilled_birth_attendant phcn_electricity c_section_yn  \\\n",
       "0                 True                   False             True        False   \n",
       "1                 True                    True             True        False   \n",
       "2                 True                    True             True         True   \n",
       "3                False                   False            False        False   \n",
       "4                False                   False            False        False   \n",
       "\n",
       "  child_health_measles_immun_calc improved_water_supply improved_sanitation  \\\n",
       "0                            True                 False               False   \n",
       "1                            True                 False                True   \n",
       "2                            True                  True                True   \n",
       "3                            True                  True               False   \n",
       "4                            True                 False               False   \n",
       "\n",
       "  vaccines_fridge_freezer antenatal_care_yn family_planning_yn  \\\n",
       "0                   False              True              False   \n",
       "1                    True              True              False   \n",
       "2                    True              True               True   \n",
       "3                   False              True               True   \n",
       "4                   False              True               True   \n",
       "\n",
       "  malaria_treatment_artemisinin  num_chews_fulltime  num_nurses_fulltime  \\\n",
       "0                          True                 1.0                  0.0   \n",
       "1                          True                 4.0                  1.0   \n",
       "2                          True                 2.0                  4.0   \n",
       "3                          True                 2.0                  0.0   \n",
       "4                          True                 0.0                  0.0   \n",
       "\n",
       "   num_nursemidwives_fulltime  num_doctors_fulltime  latitude  longitude  \n",
       "0                         0.0                   0.0  6.543408   9.084703  \n",
       "1                         1.0                   1.0  9.007209   7.677808  \n",
       "2                        11.0                   2.0  5.129700   7.159200  \n",
       "3                         0.0                   0.0  5.463300   8.146400  \n",
       "4                         0.0                   0.0  5.504000   8.025100  "
      ]
     },
     "execution_count": 4,
     "metadata": {},
     "output_type": "execute_result"
    }
   ],
   "source": [
    "nmis.head()"
   ]
  },
  {
   "cell_type": "code",
   "execution_count": 5,
   "metadata": {},
   "outputs": [
    {
     "data": {
      "text/plain": [
       "(34139, 20)"
      ]
     },
     "execution_count": 5,
     "metadata": {},
     "output_type": "execute_result"
    }
   ],
   "source": [
    "nmis.shape"
   ]
  },
  {
   "cell_type": "code",
   "execution_count": 6,
   "metadata": {},
   "outputs": [
    {
     "name": "stdout",
     "output_type": "stream",
     "text": [
      "The data has 34139 rows and 20 columns\n"
     ]
    }
   ],
   "source": [
    "print(f'The data has {nmis.shape[0]} rows and {nmis.shape[1]} columns')"
   ]
  },
  {
   "cell_type": "code",
   "execution_count": 7,
   "metadata": {},
   "outputs": [
    {
     "data": {
      "text/plain": [
       "maternal_health_delivery_services     object\n",
       "facility_type_display                 object\n",
       "management                            object\n",
       "emergency_transport                     bool\n",
       "skilled_birth_attendant               object\n",
       "phcn_electricity                      object\n",
       "c_section_yn                          object\n",
       "child_health_measles_immun_calc       object\n",
       "improved_water_supply                 object\n",
       "improved_sanitation                   object\n",
       "vaccines_fridge_freezer               object\n",
       "antenatal_care_yn                     object\n",
       "family_planning_yn                    object\n",
       "malaria_treatment_artemisinin         object\n",
       "num_chews_fulltime                   float64\n",
       "num_nurses_fulltime                  float64\n",
       "num_nursemidwives_fulltime           float64\n",
       "num_doctors_fulltime                 float64\n",
       "latitude                             float64\n",
       "longitude                            float64\n",
       "dtype: object"
      ]
     },
     "execution_count": 7,
     "metadata": {},
     "output_type": "execute_result"
    }
   ],
   "source": [
    "nmis.dtypes"
   ]
  },
  {
   "cell_type": "code",
   "execution_count": 8,
   "metadata": {},
   "outputs": [
    {
     "name": "stdout",
     "output_type": "stream",
     "text": [
      "<class 'pandas.core.frame.DataFrame'>\n",
      "RangeIndex: 34139 entries, 0 to 34138\n",
      "Data columns (total 20 columns):\n",
      "maternal_health_delivery_services    33451 non-null object\n",
      "facility_type_display                34024 non-null object\n",
      "management                           29385 non-null object\n",
      "emergency_transport                  34139 non-null bool\n",
      "skilled_birth_attendant              33255 non-null object\n",
      "phcn_electricity                     29781 non-null object\n",
      "c_section_yn                         33578 non-null object\n",
      "child_health_measles_immun_calc      29351 non-null object\n",
      "improved_water_supply                29715 non-null object\n",
      "improved_sanitation                  34071 non-null object\n",
      "vaccines_fridge_freezer              29285 non-null object\n",
      "antenatal_care_yn                    33473 non-null object\n",
      "family_planning_yn                   33385 non-null object\n",
      "malaria_treatment_artemisinin        33476 non-null object\n",
      "num_chews_fulltime                   33705 non-null float64\n",
      "num_nurses_fulltime                  31643 non-null float64\n",
      "num_nursemidwives_fulltime           33166 non-null float64\n",
      "num_doctors_fulltime                 31974 non-null float64\n",
      "latitude                             34139 non-null float64\n",
      "longitude                            34139 non-null float64\n",
      "dtypes: bool(1), float64(6), object(13)\n",
      "memory usage: 5.0+ MB\n"
     ]
    }
   ],
   "source": [
    "nmis.info()"
   ]
  },
  {
   "cell_type": "code",
   "execution_count": 9,
   "metadata": {},
   "outputs": [
    {
     "name": "stdout",
     "output_type": "stream",
     "text": [
      "<class 'pandas.core.frame.DataFrame'>\n",
      "RangeIndex: 34139 entries, 0 to 34138\n",
      "Data columns (total 20 columns):\n",
      "maternal_health_delivery_services    33451 non-null object\n",
      "facility_type_display                34024 non-null object\n",
      "management                           29385 non-null object\n",
      "emergency_transport                  34139 non-null bool\n",
      "skilled_birth_attendant              33255 non-null object\n",
      "phcn_electricity                     29781 non-null object\n",
      "c_section_yn                         33578 non-null object\n",
      "child_health_measles_immun_calc      29351 non-null object\n",
      "improved_water_supply                29715 non-null object\n",
      "improved_sanitation                  34071 non-null object\n",
      "vaccines_fridge_freezer              29285 non-null object\n",
      "antenatal_care_yn                    33473 non-null object\n",
      "family_planning_yn                   33385 non-null object\n",
      "malaria_treatment_artemisinin        33476 non-null object\n",
      "num_chews_fulltime                   33705 non-null float64\n",
      "num_nurses_fulltime                  31643 non-null float64\n",
      "num_nursemidwives_fulltime           33166 non-null float64\n",
      "num_doctors_fulltime                 31974 non-null float64\n",
      "latitude                             34139 non-null float64\n",
      "longitude                            34139 non-null float64\n",
      "dtypes: bool(1), float64(6), object(13)\n",
      "memory usage: 18.1 MB\n"
     ]
    }
   ],
   "source": [
    "nmis.info(memory_usage='deep')"
   ]
  },
  {
   "cell_type": "code",
   "execution_count": 10,
   "metadata": {},
   "outputs": [
    {
     "data": {
      "text/plain": [
       "Index                                     80\n",
       "maternal_health_delivery_services    1176128\n",
       "facility_type_display                2616237\n",
       "management                           2008081\n",
       "emergency_transport                    34139\n",
       "skilled_birth_attendant              1146268\n",
       "phcn_electricity                     1140344\n",
       "c_section_yn                         1113432\n",
       "child_health_measles_immun_calc      1178456\n",
       "improved_water_supply                1148172\n",
       "improved_sanitation                  1154372\n",
       "vaccines_fridge_freezer              1117528\n",
       "antenatal_care_yn                    1190212\n",
       "family_planning_yn                   1170108\n",
       "malaria_treatment_artemisinin        1197020\n",
       "num_chews_fulltime                    273112\n",
       "num_nurses_fulltime                   273112\n",
       "num_nursemidwives_fulltime            273112\n",
       "num_doctors_fulltime                  273112\n",
       "latitude                              273112\n",
       "longitude                             273112\n",
       "dtype: int64"
      ]
     },
     "execution_count": 10,
     "metadata": {},
     "output_type": "execute_result"
    }
   ],
   "source": [
    "nmis.memory_usage(deep=True)"
   ]
  },
  {
   "cell_type": "code",
   "execution_count": 11,
   "metadata": {},
   "outputs": [],
   "source": [
    "?nmis.sample(frac=0.1)"
   ]
  },
  {
   "cell_type": "code",
   "execution_count": null,
   "metadata": {},
   "outputs": [],
   "source": []
  }
 ],
 "metadata": {
  "kernelspec": {
   "display_name": "Python 3",
   "language": "python",
   "name": "python3"
  },
  "language_info": {
   "codemirror_mode": {
    "name": "ipython",
    "version": 3
   },
   "file_extension": ".py",
   "mimetype": "text/x-python",
   "name": "python",
   "nbconvert_exporter": "python",
   "pygments_lexer": "ipython3",
   "version": "3.6.4"
  }
 },
 "nbformat": 4,
 "nbformat_minor": 2
}
