{
 "cells": [
  {
   "cell_type": "markdown",
   "metadata": {},
   "source": [
    "<div style=\"display:flex;\">\n",
    "    <img src=\"./figs/dsa-logo.png\" alt=\"DSA_Logo\" width=\"70\" style=\"margin:0\"/> \n",
    "    <div style=\"margin-left:100px\">\n",
    "        <h2 style=\"\">Introduction to Data Science - Tutorial </h2>\n",
    "        <h4>Prepared by <a href=\"https://twitter.com/DMachuve\">Dina Machuve</a> and <a href=\"https://twitter.com/tejuafonja\">Tejumade Afonja</a>\n",
    "        </h4>\n",
    "    </div>\n",
    "</div>"
   ]
  },
  {
   "cell_type": "markdown",
   "metadata": {},
   "source": [
    "This tutorial will take you through some of the basic stages of a Data Science project. The stages for End to End Data Science include:\n",
    "1. [**Define the Goal**](#A)\n",
    "2. [**Data Preparation**](#B)\n",
    "3. [**Feature Selection**](#C)\n",
    "4. Model Training\n",
    "5. Model Validation\n",
    "6. Model Deployment"
   ]
  },
  {
   "cell_type": "markdown",
   "metadata": {},
   "source": [
    "### A. Define the Goal<a id='A'></a>\n",
    "### Goal: Predict the maternal health delivery services given other attributes"
   ]
  },
  {
   "cell_type": "raw",
   "metadata": {
    "collapsed": true
   },
   "source": []
  },
  {
   "cell_type": "markdown",
   "metadata": {},
   "source": [
    "### B. Data Preparation and Exploration<a id='B'></a>\n",
    "#### Data Source:  Nigeria MDG (Millennium Development Goals) Information System – [NMIS health facility data](https://www.kaggle.com/alaowerre/nigeria-nmis-health-facility-data). You can read more [here](http://www.sparc-nigeria.com/RC/files/4.2.21_MDGs_NMIS_flyer.pdf)\n",
    "\n",
    "In this part, we will load a dataset provided with this exercise, prepare it by converting to the right types and finally plot it to explore the data."
   ]
  },
  {
   "cell_type": "markdown",
   "metadata": {},
   "source": [
    "The purpose of the EDA approach is to:\n",
    "* maximize insight into a data set\n",
    "* uncover underlying structure\n",
    "* extract important variables\n",
    "* detect outliers and anomalies\n",
    "* test underlying assumptions\n",
    "* develop simple models with great explanatory predictive power\n",
    "* determine optimal factor settings"
   ]
  },
  {
   "cell_type": "code",
   "execution_count": null,
   "metadata": {},
   "outputs": [],
   "source": [
    "# Load some common libraries used here\n",
    "import pandas as pd\n",
    "import numpy as np\n",
    "import seaborn as sns\n",
    "\n",
    "from matplotlib import pyplot as plt\n",
    "%matplotlib inline"
   ]
  },
  {
   "cell_type": "markdown",
   "metadata": {},
   "source": [
    "#### Using the libraries above write a function to read the dataset.\n",
    "\n",
    "The filename specified below. The final dataset should be a numpy array."
   ]
  },
  {
   "cell_type": "code",
   "execution_count": null,
   "metadata": {},
   "outputs": [],
   "source": [
    "ORIGINAL_NAME = './data/NMIS_Health_Dataset.csv'"
   ]
  },
  {
   "cell_type": "code",
   "execution_count": null,
   "metadata": {},
   "outputs": [],
   "source": [
    "#load the dataset\n",
    "nmisdf = pd.read_csv(ORIGINAL_NAME)\n",
    "nmisdf.head() #view the first 5 records"
   ]
  },
  {
   "cell_type": "code",
   "execution_count": null,
   "metadata": {},
   "outputs": [],
   "source": [
    "nmisdf.shape  # 20 variables and 34,139 records"
   ]
  },
  {
   "cell_type": "code",
   "execution_count": null,
   "metadata": {},
   "outputs": [],
   "source": [
    "#list all variables and corresponding data type\n",
    "nmisdf.dtypes"
   ]
  },
  {
   "cell_type": "code",
   "execution_count": null,
   "metadata": {},
   "outputs": [],
   "source": [
    "# Get some information about the dataframe\n",
    "nmisdf.info()"
   ]
  },
  {
   "cell_type": "markdown",
   "metadata": {},
   "source": [
    "## B1. Descriptive Statistics  From Data\n",
    "\n",
    "Descriptive statistics can give you great insight into the shape of each attribute. The **describe()** function on the Pandas DataFrame lists 8 statistical properties of each attribute of the numerical data:\n",
    "\n",
    "* Count\n",
    "* Mean\n",
    "* Standard Deviation\n",
    "* Minimum Value\n",
    "* 25th Percentile\n",
    "* 50th Percentile (Median)\n",
    "* 75th Percentile\n",
    "* Maximum Value\n",
    "\n",
    "The **describe(include='O')** function on the Pandas DataFrame lists 4 properties of each attribute of the categorical data:\n",
    "\n",
    "* count\n",
    "* unique\n",
    "* top\n",
    "* freq\n",
    "\n",
    "For example to obtain the statistics summary  for numeric data."
   ]
  },
  {
   "cell_type": "code",
   "execution_count": null,
   "metadata": {
    "scrolled": true
   },
   "outputs": [],
   "source": [
    "# Statistics on the dataset\n",
    "nmisdf.describe()"
   ]
  },
  {
   "cell_type": "code",
   "execution_count": null,
   "metadata": {},
   "outputs": [],
   "source": [
    "nmisdf.describe(include='object')"
   ]
  },
  {
   "cell_type": "markdown",
   "metadata": {},
   "source": [
    "To obtain descriptive statistics of a particular column use:"
   ]
  },
  {
   "cell_type": "markdown",
   "metadata": {},
   "source": [
    "## B2. Handling Missing Data\n",
    "\n",
    "Real-world data is rarely clean and homogeneous. In particular, many interesting datasets will have some amount of data missing.\n",
    "\n",
    "Pandas treats **None** and **NaN** as essentially interchangeable for indicating missing or null values.\n",
    "\n",
    "Pandas Methods for missing values:\n",
    "\n",
    "* isnull(): Generate a boolean mask indicating missing values\n",
    "* notnull(): Opposite of isnull()\n",
    "* dropna(): Return a filtered version of the data\n",
    "* fillna(): Return a copy of the data with missing values filled or imputed\n",
    "\n"
   ]
  },
  {
   "cell_type": "markdown",
   "metadata": {},
   "source": [
    "**Detecting null values**"
   ]
  },
  {
   "cell_type": "code",
   "execution_count": null,
   "metadata": {
    "scrolled": false
   },
   "outputs": [],
   "source": [
    "nmisdf.isnull().tail()"
   ]
  },
  {
   "cell_type": "code",
   "execution_count": null,
   "metadata": {
    "scrolled": false
   },
   "outputs": [],
   "source": [
    "## Total missing values in each columns\n",
    "nmisdf.isnull().sum()"
   ]
  },
  {
   "cell_type": "code",
   "execution_count": null,
   "metadata": {},
   "outputs": [],
   "source": [
    "#nmisdf.notnull()"
   ]
  },
  {
   "cell_type": "markdown",
   "metadata": {},
   "source": [
    "### Getting rid of missing data points\n",
    "\n",
    "#### Drop all missing data\n",
    "\n",
    "``.dropna()``: will drop all rows that have any missing values."
   ]
  },
  {
   "cell_type": "code",
   "execution_count": null,
   "metadata": {},
   "outputs": [],
   "source": [
    "clean_nmisdf = nmisdf.dropna()"
   ]
  },
  {
   "cell_type": "code",
   "execution_count": null,
   "metadata": {
    "scrolled": false
   },
   "outputs": [],
   "source": [
    "clean_nmisdf.isnull().sum()"
   ]
  },
  {
   "cell_type": "code",
   "execution_count": null,
   "metadata": {},
   "outputs": [],
   "source": [
    "#Size of Clean dataset\n",
    "clean_nmisdf.shape"
   ]
  },
  {
   "cell_type": "code",
   "execution_count": null,
   "metadata": {},
   "outputs": [],
   "source": [
    "#Set boolean variables to 1 = True and 0=False\n",
    "boolean_columns = [\"maternal_health_delivery_services\", \"skilled_birth_attendant\", \n",
    "                   \"phcn_electricity\", \"c_section_yn\", \"improved_water_supply\", \n",
    "                   \"vaccines_fridge_freezer\", \"antenatal_care_yn\", \"malaria_treatment_artemisinin\",\n",
    "                   \"improved_sanitation\", \"family_planning_yn\", \"child_health_measles_immun_calc\",\n",
    "                   \"emergency_transport\"]"
   ]
  },
  {
   "cell_type": "code",
   "execution_count": null,
   "metadata": {},
   "outputs": [],
   "source": [
    "for col in boolean_columns:\n",
    "    clean_nmisdf.loc[:, col] = clean_nmisdf.loc[:, col].astype(float)"
   ]
  },
  {
   "cell_type": "code",
   "execution_count": null,
   "metadata": {},
   "outputs": [],
   "source": [
    "clean_nmisdf.info()"
   ]
  },
  {
   "cell_type": "code",
   "execution_count": null,
   "metadata": {},
   "outputs": [],
   "source": [
    "clean_nmisdf.describe()"
   ]
  },
  {
   "cell_type": "code",
   "execution_count": null,
   "metadata": {},
   "outputs": [],
   "source": [
    "clean_nmisdf.describe(include='O')"
   ]
  },
  {
   "cell_type": "code",
   "execution_count": null,
   "metadata": {},
   "outputs": [],
   "source": [
    "#Save it for future use\n",
    "clean_nmisdf.to_csv(\"./data/clean_data.csv\", encoding='utf-8', index=False)"
   ]
  },
  {
   "cell_type": "code",
   "execution_count": null,
   "metadata": {
    "scrolled": true
   },
   "outputs": [],
   "source": [
    "data = pd.read_csv(\"./data/clean_data.csv\")\n",
    "data.head()"
   ]
  },
  {
   "cell_type": "markdown",
   "metadata": {},
   "source": [
    "#### Filling null values\n",
    "\n",
    "\n",
    "Sometimes rather than dropping NA values, you'd rather replace them with a valid value. This value might be a single number like zero, or it might be some sort of imputation or interpolation from the good values"
   ]
  },
  {
   "cell_type": "markdown",
   "metadata": {},
   "source": [
    "### Understanding Data Relationship -- digging deeper"
   ]
  },
  {
   "cell_type": "code",
   "execution_count": null,
   "metadata": {},
   "outputs": [],
   "source": [
    "columns = data.columns\n",
    "for column in columns:\n",
    "    print('\\n-------{}------'.format(column))\n",
    "    print(data[column].value_counts())"
   ]
  },
  {
   "cell_type": "code",
   "execution_count": null,
   "metadata": {},
   "outputs": [],
   "source": [
    "fig, axes = plt.subplots(2,2,figsize=(12,8))\n",
    "for i,e in enumerate(['num_chews_fulltime', 'num_nurses_fulltime', 'num_nursemidwives_fulltime', 'num_doctors_fulltime']):\n",
    "    ax = axes.flatten()\n",
    "    data[e].plot.hist(bins=100, ax=ax[i])\n",
    "    ax[i].set_title(e)\n",
    "    fig.subplots_adjust(hspace=0.3, wspace=0.3)"
   ]
  },
  {
   "cell_type": "code",
   "execution_count": null,
   "metadata": {},
   "outputs": [],
   "source": [
    "# Number of Management with Maternal Health Delivery Services\n",
    "mgt_mhds = data[['management', 'maternal_health_delivery_services']]\n",
    "\n",
    "mgt_mhds.groupby(['management'], as_index=False).sum().sort_values(by='maternal_health_delivery_services', ascending=False)"
   ]
  },
  {
   "cell_type": "code",
   "execution_count": null,
   "metadata": {},
   "outputs": [],
   "source": [
    "# Count the total number of datapoints for each classes of management \n",
    "# data[['management', 'maternal_health_delivery_services']].groupby(['management'], as_index=False).count().sort_values(by='maternal_health_delivery_services', ascending=False)"
   ]
  },
  {
   "cell_type": "code",
   "execution_count": null,
   "metadata": {},
   "outputs": [],
   "source": [
    "plt.figure(figsize=(12,8))\n",
    "ax = sns.countplot(x = \"management\",data=data, hue='maternal_health_delivery_services', color=\"Brown\")\n",
    "_ = ax.set_xticklabels(ax.get_xticklabels(), rotation = 30)\n",
    "\n",
    "ax.set_xlabel(\"Management\")\n",
    "ax.set_ylabel(\"Frequency\")"
   ]
  },
  {
   "cell_type": "code",
   "execution_count": null,
   "metadata": {},
   "outputs": [],
   "source": [
    "plt.figure(figsize=(12,8))\n",
    "ax = sns.countplot(x =\"facility_type_display\",data = data, hue='maternal_health_delivery_services', color='Purple' )\n",
    "_ = ax.set_xticklabels(ax.get_xticklabels(), rotation = 90)"
   ]
  },
  {
   "cell_type": "code",
   "execution_count": null,
   "metadata": {},
   "outputs": [],
   "source": [
    "plt.figure(figsize=(12,8))\n",
    "ax = sns.countplot(x = \"child_health_measles_immun_calc\", hue='maternal_health_delivery_services', data = data, color = \"Brown\")"
   ]
  },
  {
   "cell_type": "markdown",
   "metadata": {},
   "source": [
    "### C. Feature Selection <a id='C'></a>"
   ]
  },
  {
   "cell_type": "markdown",
   "metadata": {},
   "source": [
    "Feature selection is a process where you automatically select those features in your data that contribute most to the prediction variable or output in which you are interested.\n",
    "\n",
    "<b >Note: Having too many irrelevant features in your data can decrease the accuracy of the models.</b>\n",
    "\n",
    "Three benefits of performing feature selection before modeling your data are:\n",
    "\n",
    "* Reduces Overfitting: Less redundant data means less opportunity to make decisions based on noise.\n",
    "* Improves Accuracy: Less misleading data means modeling accuracy improves.\n",
    "* Reduces Training Time: Less data means that algorithms train faster.\n",
    "\n",
    "You can use the following approach\n",
    "\n",
    "- Univariate statistics\n",
    "- Model-base selection\n",
    "- Iterative selection\n",
    "\n",
    "\n",
    "**Univariate statistics** \n",
    "- Check statistical significance relation between feature and target.\n",
    "- Select the one with high confidence\n",
    "\n",
    "Advantage: Very fast to compute, doesnt require building models\n",
    "\n",
    "Disadvantage: Independent of the model\n",
    "\n",
    "**Model-based Feature Selection**\n",
    "- Use a supervised machine learning model to judge the importance of each feature.\n",
    "\n",
    "Advantages: Consider all features at once.\n",
    "\n",
    "**Iterative Feature Selection**\n",
    "A series of models are built with varying number of features. Implemented in Sklearn as [Recursive feature elimination (RFE)](http://scikit-learn.org/stable/modules/generated/sklearn.feature_selection.RFE.html#sklearn.feature_selection.RFE)"
   ]
  },
  {
   "cell_type": "markdown",
   "metadata": {},
   "source": [
    "<h3> Model - based Feature Selection : Using Feature Importance </h3>\n",
    "\n",
    "<b>Using RandomForest Classifier</b>\n",
    "\n",
    "A [random forest](https://scikit-learn.org/stable/modules/generated/sklearn.ensemble.RandomForestClassifier.html) is a meta estimator that fits a number of decision tree classifiers on various sub-samples of the dataset and uses averaging to improve the predictive accuracy and control over-fitting. \n",
    "\n",
    "Some of the many hyper-paramenters we can tune:\n",
    "* Max_depth - The number of depth of the trees\n",
    "* n_estimators - The number of trees in the forest\n",
    "* min_samples_leaf - The minimun number of samples required to be at a leafnode\n",
    "* min_samples_split - The minimum number of samples required to split an internal node\n",
    "* random_state - The seed used by random number generator \n",
    "* etc"
   ]
  },
  {
   "cell_type": "code",
   "execution_count": null,
   "metadata": {},
   "outputs": [],
   "source": [
    "# Load the packages for modeling\n",
    "from sklearn.ensemble import RandomForestClassifier"
   ]
  },
  {
   "cell_type": "code",
   "execution_count": null,
   "metadata": {},
   "outputs": [],
   "source": [
    "# Define a classifier\n",
    "rforest = RandomForestClassifier(max_depth=15,n_estimators=70, min_samples_leaf=50,\n",
    "                                  min_samples_split=100, random_state=10)"
   ]
  },
  {
   "cell_type": "code",
   "execution_count": null,
   "metadata": {},
   "outputs": [],
   "source": [
    "#Load clean data\n",
    "data = pd.read_csv(\"./data/clean_data.csv\")\n",
    "data.head(5)"
   ]
  },
  {
   "cell_type": "code",
   "execution_count": null,
   "metadata": {},
   "outputs": [],
   "source": [
    "# Prepare Feature and Target\n",
    "data.columns"
   ]
  },
  {
   "cell_type": "code",
   "execution_count": null,
   "metadata": {},
   "outputs": [],
   "source": [
    "feature = ['skilled_birth_attendant',  'phcn_electricity', 'c_section_yn', \n",
    "           'improved_water_supply', 'vaccines_fridge_freezer','antenatal_care_yn', \n",
    "           'malaria_treatment_artemisinin','num_nurses_fulltime','num_nursemidwives_fulltime',\n",
    "          'num_doctors_fulltime']"
   ]
  },
  {
   "cell_type": "code",
   "execution_count": null,
   "metadata": {},
   "outputs": [],
   "source": [
    "X = data[feature]\n",
    "y = data.maternal_health_delivery_services"
   ]
  },
  {
   "cell_type": "code",
   "execution_count": null,
   "metadata": {},
   "outputs": [],
   "source": [
    "# Fit the model\n",
    "rforest.fit(X,y)"
   ]
  },
  {
   "cell_type": "code",
   "execution_count": null,
   "metadata": {},
   "outputs": [],
   "source": [
    "# Plot the important features\n",
    "imp_feat_rf = pd.Series(rforest.feature_importances_, index=X.columns).sort_values(ascending=False)\n",
    "imp_feat_rf.plot(kind='bar', title='Feature Importance with Random Forest', figsize=(10,6),color='g')\n",
    "plt.ylabel('Feature Importance values')\n",
    "plt.subplots_adjust(bottom=0.25)"
   ]
  },
  {
   "cell_type": "markdown",
   "metadata": {},
   "source": [
    "## Model - based feature Selection : Using **[SelectFromModel](https://scikit-learn.org/stable/modules/generated/sklearn.feature_selection.SelectFromModel.html)**"
   ]
  },
  {
   "cell_type": "code",
   "execution_count": null,
   "metadata": {},
   "outputs": [],
   "source": [
    "from sklearn.feature_selection import SelectFromModel\n",
    "\n",
    "select = SelectFromModel(RandomForestClassifier(n_estimators=100, random_state=42) , threshold=\"median\")"
   ]
  },
  {
   "cell_type": "code",
   "execution_count": null,
   "metadata": {},
   "outputs": [],
   "source": [
    "select.fit(X,y)"
   ]
  },
  {
   "cell_type": "code",
   "execution_count": null,
   "metadata": {},
   "outputs": [],
   "source": [
    "X_features = select.transform(X)\n",
    "print('Original features', X.shape)\n",
    "print('Selected features', X_features.shape)"
   ]
  },
  {
   "cell_type": "markdown",
   "metadata": {},
   "source": [
    "\n",
    "#### Print selected features"
   ]
  },
  {
   "cell_type": "code",
   "execution_count": null,
   "metadata": {},
   "outputs": [],
   "source": [
    "for feature_list_index in select.get_support(indices=True):\n",
    "    print(feature[feature_list_index])"
   ]
  },
  {
   "cell_type": "code",
   "execution_count": null,
   "metadata": {},
   "outputs": [],
   "source": [
    "data.corr()"
   ]
  },
  {
   "cell_type": "code",
   "execution_count": null,
   "metadata": {},
   "outputs": [],
   "source": []
  }
 ],
 "metadata": {
  "kernelspec": {
   "display_name": "Python [conda env:tf]",
   "language": "python",
   "name": "conda-env-tf-py"
  },
  "language_info": {
   "codemirror_mode": {
    "name": "ipython",
    "version": 3
   },
   "file_extension": ".py",
   "mimetype": "text/x-python",
   "name": "python",
   "nbconvert_exporter": "python",
   "pygments_lexer": "ipython3",
   "version": "3.6.6"
  }
 },
 "nbformat": 4,
 "nbformat_minor": 2
}
