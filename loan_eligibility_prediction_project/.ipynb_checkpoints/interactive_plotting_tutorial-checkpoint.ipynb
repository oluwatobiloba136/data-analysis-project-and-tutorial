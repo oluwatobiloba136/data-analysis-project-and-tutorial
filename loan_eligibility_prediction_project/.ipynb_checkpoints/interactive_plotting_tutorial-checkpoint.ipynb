{
 "cells": [
  {
   "cell_type": "code",
   "execution_count": 10,
   "metadata": {},
   "outputs": [],
   "source": [
    "%matplotlib notebook"
   ]
  },
  {
   "cell_type": "code",
   "execution_count": 11,
   "metadata": {},
   "outputs": [],
   "source": [
    "import matplotlib.pyplot as plt\n",
    "from matplotlib.animation import FuncAnimation"
   ]
  },
  {
   "cell_type": "code",
   "execution_count": 15,
   "metadata": {},
   "outputs": [],
   "source": [
    "from ipywidgets import interact, interactive, fixed, interact_manual\n"
   ]
  },
  {
   "cell_type": "code",
   "execution_count": 16,
   "metadata": {},
   "outputs": [],
   "source": [
    "import ipywidgets as widgets"
   ]
  },
  {
   "cell_type": "code",
   "execution_count": 18,
   "metadata": {},
   "outputs": [],
   "source": [
    "# import numpy as np\n",
    "import matplotlib as mpl\n",
    "plt.rcParams['figure.figsize'] = (6,4)\n",
    "plt.rcParams['figure.dpi'] = 150"
   ]
  },
  {
   "cell_type": "code",
   "execution_count": 21,
   "metadata": {},
   "outputs": [],
   "source": [
    "%matplotlib inline\n",
    "def f(x):\n",
    "    plt.plot(np.arange(0,10), x*np.arange(0,10))\n",
    "    plt.ylim(-30,30)"
   ]
  },
  {
   "cell_type": "code",
   "execution_count": 22,
   "metadata": {},
   "outputs": [
    {
     "data": {
      "image/png": "[encoded data removed]",
      "text/plain": [
       "<Figure size 432x288 with 1 Axes>"
      ]
     },
     "metadata": {
      "needs_background": "light"
     },
     "output_type": "display_data"
    }
   ],
   "source": [
    "f(10)"
   ]
  },
  {
   "cell_type": "code",
   "execution_count": 23,
   "metadata": {},
   "outputs": [
    {
     "data": {
      "application/vnd.jupyter.widget-view+json": {
       "model_id": "bf77a5a86efc465ebc88fc9b4ac9b0f2",
       "version_major": 2,
       "version_minor": 0
      },
      "text/html": [
       "<p>Failed to display Jupyter Widget of type <code>interactive</code>.</p>\n",
       "<p>\n",
       "  If you're reading this message in the Jupyter Notebook or JupyterLab Notebook, it may mean\n",
       "  that the widgets JavaScript is still loading. If this message persists, it\n",
       "  likely means that the widgets JavaScript library is either not installed or\n",
       "  not enabled. See the <a href=\"https://ipywidgets.readthedocs.io/en/stable/user_install.html\">Jupyter\n",
       "  Widgets Documentation</a> for setup instructions.\n",
       "</p>\n",
       "<p>\n",
       "  If you're reading this message in another frontend (for example, a static\n",
       "  rendering on GitHub or <a href=\"https://nbviewer.jupyter.org/\">NBViewer</a>),\n",
       "  it may mean that your frontend doesn't currently support widgets.\n",
       "</p>\n"
      ],
      "text/plain": [
       "interactive(children=(IntSlider(value=1, description='x', max=3, min=-1), Output()), _dom_classes=('widget-interact',))"
      ]
     },
     "metadata": {},
     "output_type": "display_data"
    },
    {
     "data": {
      "text/plain": [
       "<function __main__.f>"
      ]
     },
     "execution_count": 23,
     "metadata": {},
     "output_type": "execute_result"
    }
   ],
   "source": [
    "# integer slider\n",
    "interact(f, x=1)"
   ]
  },
  {
   "cell_type": "code",
   "execution_count": 24,
   "metadata": {},
   "outputs": [
    {
     "data": {
      "application/vnd.jupyter.widget-view+json": {
       "model_id": "f3792fa5bb874ef69eb669fc2ed3a1e8",
       "version_major": 2,
       "version_minor": 0
      },
      "text/html": [
       "<p>Failed to display Jupyter Widget of type <code>interactive</code>.</p>\n",
       "<p>\n",
       "  If you're reading this message in the Jupyter Notebook or JupyterLab Notebook, it may mean\n",
       "  that the widgets JavaScript is still loading. If this message persists, it\n",
       "  likely means that the widgets JavaScript library is either not installed or\n",
       "  not enabled. See the <a href=\"https://ipywidgets.readthedocs.io/en/stable/user_install.html\">Jupyter\n",
       "  Widgets Documentation</a> for setup instructions.\n",
       "</p>\n",
       "<p>\n",
       "  If you're reading this message in another frontend (for example, a static\n",
       "  rendering on GitHub or <a href=\"https://nbviewer.jupyter.org/\">NBViewer</a>),\n",
       "  it may mean that your frontend doesn't currently support widgets.\n",
       "</p>\n"
      ],
      "text/plain": [
       "interactive(children=(FloatSlider(value=0.0, description='x', max=3.0, min=-3.0, step=0.5), Output()), _dom_classes=('widget-interact',))"
      ]
     },
     "metadata": {},
     "output_type": "display_data"
    },
    {
     "data": {
      "text/plain": [
       "<function __main__.f>"
      ]
     },
     "execution_count": 24,
     "metadata": {},
     "output_type": "execute_result"
    }
   ],
   "source": [
    "interact(f, x=(-3,3,0.5))"
   ]
  },
  {
   "cell_type": "code",
   "execution_count": 25,
   "metadata": {},
   "outputs": [
    {
     "data": {
      "application/vnd.jupyter.widget-view+json": {
       "model_id": "43cb512585694b1f99d96d5369a2fd0b",
       "version_major": 2,
       "version_minor": 0
      },
      "text/html": [
       "<p>Failed to display Jupyter Widget of type <code>interactive</code>.</p>\n",
       "<p>\n",
       "  If you're reading this message in the Jupyter Notebook or JupyterLab Notebook, it may mean\n",
       "  that the widgets JavaScript is still loading. If this message persists, it\n",
       "  likely means that the widgets JavaScript library is either not installed or\n",
       "  not enabled. See the <a href=\"https://ipywidgets.readthedocs.io/en/stable/user_install.html\">Jupyter\n",
       "  Widgets Documentation</a> for setup instructions.\n",
       "</p>\n",
       "<p>\n",
       "  If you're reading this message in another frontend (for example, a static\n",
       "  rendering on GitHub or <a href=\"https://nbviewer.jupyter.org/\">NBViewer</a>),\n",
       "  it may mean that your frontend doesn't currently support widgets.\n",
       "</p>\n"
      ],
      "text/plain": [
       "interactive(children=(Checkbox(value=True, description='x'), Output()), _dom_classes=('widget-interact',))"
      ]
     },
     "metadata": {},
     "output_type": "display_data"
    },
    {
     "data": {
      "text/plain": [
       "<function __main__.f>"
      ]
     },
     "execution_count": 25,
     "metadata": {},
     "output_type": "execute_result"
    }
   ],
   "source": [
    "rands  = np.random.rand(100)\n",
    "def f(x):\n",
    "    if x:\n",
    "        plt.plot(rands, 'b')\n",
    "    else:\n",
    "        plt.plot(rands, 'r')\n",
    "interact(f, x=True)"
   ]
  },
  {
   "cell_type": "code",
   "execution_count": 26,
   "metadata": {},
   "outputs": [
    {
     "data": {
      "application/vnd.jupyter.widget-view+json": {
       "model_id": "475b860e69c14087a5dfb8d70004d5c5",
       "version_major": 2,
       "version_minor": 0
      },
      "text/html": [
       "<p>Failed to display Jupyter Widget of type <code>interactive</code>.</p>\n",
       "<p>\n",
       "  If you're reading this message in the Jupyter Notebook or JupyterLab Notebook, it may mean\n",
       "  that the widgets JavaScript is still loading. If this message persists, it\n",
       "  likely means that the widgets JavaScript library is either not installed or\n",
       "  not enabled. See the <a href=\"https://ipywidgets.readthedocs.io/en/stable/user_install.html\">Jupyter\n",
       "  Widgets Documentation</a> for setup instructions.\n",
       "</p>\n",
       "<p>\n",
       "  If you're reading this message in another frontend (for example, a static\n",
       "  rendering on GitHub or <a href=\"https://nbviewer.jupyter.org/\">NBViewer</a>),\n",
       "  it may mean that your frontend doesn't currently support widgets.\n",
       "</p>\n"
      ],
      "text/plain": [
       "interactive(children=(Text(value='Title of plot', description='x'), Output()), _dom_classes=('widget-interact',))"
      ]
     },
     "metadata": {},
     "output_type": "display_data"
    }
   ],
   "source": [
    "# decorator\n",
    "@interact(x='Title of plot')\n",
    "def f(x):\n",
    "    plt.title(x)"
   ]
  },
  {
   "cell_type": "code",
   "execution_count": 27,
   "metadata": {},
   "outputs": [
    {
     "data": {
      "application/vnd.jupyter.widget-view+json": {
       "model_id": "c65042ffde454c6693a5bd4820ee4380",
       "version_major": 2,
       "version_minor": 0
      },
      "text/html": [
       "<p>Failed to display Jupyter Widget of type <code>interactive</code>.</p>\n",
       "<p>\n",
       "  If you're reading this message in the Jupyter Notebook or JupyterLab Notebook, it may mean\n",
       "  that the widgets JavaScript is still loading. If this message persists, it\n",
       "  likely means that the widgets JavaScript library is either not installed or\n",
       "  not enabled. See the <a href=\"https://ipywidgets.readthedocs.io/en/stable/user_install.html\">Jupyter\n",
       "  Widgets Documentation</a> for setup instructions.\n",
       "</p>\n",
       "<p>\n",
       "  If you're reading this message in another frontend (for example, a static\n",
       "  rendering on GitHub or <a href=\"https://nbviewer.jupyter.org/\">NBViewer</a>),\n",
       "  it may mean that your frontend doesn't currently support widgets.\n",
       "</p>\n"
      ],
      "text/plain": [
       "interactive(children=(IntSlider(value=1, description='a', max=3, min=-1), IntSlider(value=3, description='b', max=9, min=-3), Output()), _dom_classes=('widget-interact',))"
      ]
     },
     "metadata": {},
     "output_type": "display_data"
    },
    {
     "data": {
      "text/plain": [
       "<function __main__.f>"
      ]
     },
     "execution_count": 27,
     "metadata": {},
     "output_type": "execute_result"
    }
   ],
   "source": [
    "# multiple widgets\n",
    "\n",
    "def f(a,b):\n",
    "    plt.plot(np.arange(0,10), a*np.power(np.arange(0,10), b))\n",
    "    plt.title('Power law: $x=ay^b$')\n",
    "interact(f, a=1, b=3)"
   ]
  },
  {
   "cell_type": "code",
   "execution_count": 28,
   "metadata": {},
   "outputs": [
    {
     "data": {
      "application/vnd.jupyter.widget-view+json": {
       "model_id": "278cae18b30a43daaf35e0dc02b494db",
       "version_major": 2,
       "version_minor": 0
      },
      "text/html": [
       "<p>Failed to display Jupyter Widget of type <code>interactive</code>.</p>\n",
       "<p>\n",
       "  If you're reading this message in the Jupyter Notebook or JupyterLab Notebook, it may mean\n",
       "  that the widgets JavaScript is still loading. If this message persists, it\n",
       "  likely means that the widgets JavaScript library is either not installed or\n",
       "  not enabled. See the <a href=\"https://ipywidgets.readthedocs.io/en/stable/user_install.html\">Jupyter\n",
       "  Widgets Documentation</a> for setup instructions.\n",
       "</p>\n",
       "<p>\n",
       "  If you're reading this message in another frontend (for example, a static\n",
       "  rendering on GitHub or <a href=\"https://nbviewer.jupyter.org/\">NBViewer</a>),\n",
       "  it may mean that your frontend doesn't currently support widgets.\n",
       "</p>\n"
      ],
      "text/plain": [
       "interactive(children=(IntSlider(value=1, description='a', max=3, min=-1), Output()), _dom_classes=('widget-interact',))"
      ]
     },
     "metadata": {},
     "output_type": "display_data"
    },
    {
     "data": {
      "text/plain": [
       "<function __main__.f>"
      ]
     },
     "execution_count": 28,
     "metadata": {},
     "output_type": "execute_result"
    }
   ],
   "source": [
    "# fixed value\n",
    "def f(a,b):\n",
    "    plt.plot(np.arange(0,10), a*np.power(np.arange(0,10), b))\n",
    "    plt.title('Power law: $x=ay^b$')\n",
    "interact(f, a=1, b=fixed(2))"
   ]
  },
  {
   "cell_type": "code",
   "execution_count": 30,
   "metadata": {},
   "outputs": [
    {
     "data": {
      "application/vnd.jupyter.widget-view+json": {
       "model_id": "88b570b1488f4f488f2b55ff42943c65",
       "version_major": 2,
       "version_minor": 0
      },
      "text/html": [
       "<p>Failed to display Jupyter Widget of type <code>interactive</code>.</p>\n",
       "<p>\n",
       "  If you're reading this message in the Jupyter Notebook or JupyterLab Notebook, it may mean\n",
       "  that the widgets JavaScript is still loading. If this message persists, it\n",
       "  likely means that the widgets JavaScript library is either not installed or\n",
       "  not enabled. See the <a href=\"https://ipywidgets.readthedocs.io/en/stable/user_install.html\">Jupyter\n",
       "  Widgets Documentation</a> for setup instructions.\n",
       "</p>\n",
       "<p>\n",
       "  If you're reading this message in another frontend (for example, a static\n",
       "  rendering on GitHub or <a href=\"https://nbviewer.jupyter.org/\">NBViewer</a>),\n",
       "  it may mean that your frontend doesn't currently support widgets.\n",
       "</p>\n"
      ],
      "text/plain": [
       "interactive(children=(Dropdown(description='colour', options=('red', 'green', 'blue'), value='red'), Output()), _dom_classes=('widget-interact',))"
      ]
     },
     "metadata": {},
     "output_type": "display_data"
    },
    {
     "data": {
      "text/plain": [
       "<function __main__.f>"
      ]
     },
     "execution_count": 30,
     "metadata": {},
     "output_type": "execute_result"
    }
   ],
   "source": [
    "# dropdowns\n",
    "\n",
    "def f(colour):\n",
    "    plt.plot(np.arange(0,10), np.power(np.arange(0,10), 5), c=colour)\n",
    "    plt.title('Power law: $x=ay^b$')\n",
    "    \n",
    "colours=['red', 'green','blue']\n",
    "interact(f, colour=colours)"
   ]
  },
  {
   "cell_type": "code",
   "execution_count": 34,
   "metadata": {},
   "outputs": [
    {
     "data": {
      "application/vnd.jupyter.widget-view+json": {
       "model_id": "e9639c12a72e4874a380382fd2f26520",
       "version_major": 2,
       "version_minor": 0
      },
      "text/html": [
       "<p>Failed to display Jupyter Widget of type <code>interactive</code>.</p>\n",
       "<p>\n",
       "  If you're reading this message in the Jupyter Notebook or JupyterLab Notebook, it may mean\n",
       "  that the widgets JavaScript is still loading. If this message persists, it\n",
       "  likely means that the widgets JavaScript library is either not installed or\n",
       "  not enabled. See the <a href=\"https://ipywidgets.readthedocs.io/en/stable/user_install.html\">Jupyter\n",
       "  Widgets Documentation</a> for setup instructions.\n",
       "</p>\n",
       "<p>\n",
       "  If you're reading this message in another frontend (for example, a static\n",
       "  rendering on GitHub or <a href=\"https://nbviewer.jupyter.org/\">NBViewer</a>),\n",
       "  it may mean that your frontend doesn't currently support widgets.\n",
       "</p>\n"
      ],
      "text/plain": [
       "interactive(children=(Dropdown(description='b', options={'one': 1, 'two': 2, 'three': 3}, value=1), Output()), _dom_classes=('widget-interact',))"
      ]
     },
     "metadata": {},
     "output_type": "display_data"
    },
    {
     "data": {
      "text/plain": [
       "<function __main__.f>"
      ]
     },
     "execution_count": 34,
     "metadata": {},
     "output_type": "execute_result"
    }
   ],
   "source": [
    "# dropdowns with dicts\n",
    "\n",
    "def f(b):\n",
    "    plt.plot(np.arange(0,10), np.power(np.arange(0,10), b))\n",
    "    plt.title('Power law: $x=ay^b$')\n",
    "\n",
    "powers = {'one':1, 'two':2,'three':3}\n",
    "# colours=['red', 'green','blue']\n",
    "interact(f, b=powers)"
   ]
  },
  {
   "cell_type": "code",
   "execution_count": 39,
   "metadata": {},
   "outputs": [
    {
     "data": {
      "application/vnd.jupyter.widget-view+json": {
       "model_id": "095e32acd5be4ad7b28dea9dc6eb1314",
       "version_major": 2,
       "version_minor": 0
      },
      "text/html": [
       "<p>Failed to display Jupyter Widget of type <code>Text</code>.</p>\n",
       "<p>\n",
       "  If you're reading this message in the Jupyter Notebook or JupyterLab Notebook, it may mean\n",
       "  that the widgets JavaScript is still loading. If this message persists, it\n",
       "  likely means that the widgets JavaScript library is either not installed or\n",
       "  not enabled. See the <a href=\"https://ipywidgets.readthedocs.io/en/stable/user_install.html\">Jupyter\n",
       "  Widgets Documentation</a> for setup instructions.\n",
       "</p>\n",
       "<p>\n",
       "  If you're reading this message in another frontend (for example, a static\n",
       "  rendering on GitHub or <a href=\"https://nbviewer.jupyter.org/\">NBViewer</a>),\n",
       "  it may mean that your frontend doesn't currently support widgets.\n",
       "</p>\n"
      ],
      "text/plain": [
       "Text(value='')"
      ]
     },
     "metadata": {},
     "output_type": "display_data"
    }
   ],
   "source": [
    "# part 2 start here (TYpes of widgets)\n",
    "\n",
    "# Text input\n",
    "# from ipython.display import display\n",
    "text = widgets.Text()\n",
    "display(text)\n",
    "\n",
    "def handle_submit(sender):\n",
    "    print(text.value)\n",
    "    \n",
    "text.on_submit(handle_submit)"
   ]
  },
  {
   "cell_type": "code",
   "execution_count": 41,
   "metadata": {},
   "outputs": [
    {
     "data": {
      "application/vnd.jupyter.widget-view+json": {
       "model_id": "7867cb28aa4c4ee787e6ae18a33a2614",
       "version_major": 2,
       "version_minor": 0
      },
      "text/html": [
       "<p>Failed to display Jupyter Widget of type <code>Button</code>.</p>\n",
       "<p>\n",
       "  If you're reading this message in the Jupyter Notebook or JupyterLab Notebook, it may mean\n",
       "  that the widgets JavaScript is still loading. If this message persists, it\n",
       "  likely means that the widgets JavaScript library is either not installed or\n",
       "  not enabled. See the <a href=\"https://ipywidgets.readthedocs.io/en/stable/user_install.html\">Jupyter\n",
       "  Widgets Documentation</a> for setup instructions.\n",
       "</p>\n",
       "<p>\n",
       "  If you're reading this message in another frontend (for example, a static\n",
       "  rendering on GitHub or <a href=\"https://nbviewer.jupyter.org/\">NBViewer</a>),\n",
       "  it may mean that your frontend doesn't currently support widgets.\n",
       "</p>\n"
      ],
      "text/plain": [
       "Button(description='Click Me', style=ButtonStyle())"
      ]
     },
     "metadata": {},
     "output_type": "display_data"
    },
    {
     "name": "stdout",
     "output_type": "stream",
     "text": [
      "Button clicked.\n",
      "Button clicked.\n"
     ]
    }
   ],
   "source": [
    "# buttons\n",
    "button = widgets.Button(description='Click Me')\n",
    "display(button)\n",
    "\n",
    "def on_button_clicked(b):\n",
    "    print('Button clicked.')\n",
    "    \n",
    "button.on_click(on_button_clicked)"
   ]
  },
  {
   "cell_type": "code",
   "execution_count": 42,
   "metadata": {},
   "outputs": [
    {
     "data": {
      "application/vnd.jupyter.widget-view+json": {
       "model_id": "594f396dd5474425a063d2064de928bb",
       "version_major": 2,
       "version_minor": 0
      },
      "text/html": [
       "<p>Failed to display Jupyter Widget of type <code>interactive</code>.</p>\n",
       "<p>\n",
       "  If you're reading this message in the Jupyter Notebook or JupyterLab Notebook, it may mean\n",
       "  that the widgets JavaScript is still loading. If this message persists, it\n",
       "  likely means that the widgets JavaScript library is either not installed or\n",
       "  not enabled. See the <a href=\"https://ipywidgets.readthedocs.io/en/stable/user_install.html\">Jupyter\n",
       "  Widgets Documentation</a> for setup instructions.\n",
       "</p>\n",
       "<p>\n",
       "  If you're reading this message in another frontend (for example, a static\n",
       "  rendering on GitHub or <a href=\"https://nbviewer.jupyter.org/\">NBViewer</a>),\n",
       "  it may mean that your frontend doesn't currently support widgets.\n",
       "</p>\n"
      ],
      "text/plain": [
       "interactive(children=(IntSlider(value=10, description='x', max=30, min=-10), Output()), _dom_classes=('widget-interact',))"
      ]
     },
     "metadata": {},
     "output_type": "display_data"
    },
    {
     "data": {
      "text/plain": [
       "<function __main__.f>"
      ]
     },
     "execution_count": 42,
     "metadata": {},
     "output_type": "execute_result"
    }
   ],
   "source": [
    "# Interact\n",
    "\n",
    "def f(x):\n",
    "    print(x)\n",
    "interact(f, x=10) # slider"
   ]
  },
  {
   "cell_type": "code",
   "execution_count": 43,
   "metadata": {},
   "outputs": [
    {
     "data": {
      "application/vnd.jupyter.widget-view+json": {
       "model_id": "99e6b1c43e5f4f36a5a55b46887fd77d",
       "version_major": 2,
       "version_minor": 0
      },
      "text/html": [
       "<p>Failed to display Jupyter Widget of type <code>interactive</code>.</p>\n",
       "<p>\n",
       "  If you're reading this message in the Jupyter Notebook or JupyterLab Notebook, it may mean\n",
       "  that the widgets JavaScript is still loading. If this message persists, it\n",
       "  likely means that the widgets JavaScript library is either not installed or\n",
       "  not enabled. See the <a href=\"https://ipywidgets.readthedocs.io/en/stable/user_install.html\">Jupyter\n",
       "  Widgets Documentation</a> for setup instructions.\n",
       "</p>\n",
       "<p>\n",
       "  If you're reading this message in another frontend (for example, a static\n",
       "  rendering on GitHub or <a href=\"https://nbviewer.jupyter.org/\">NBViewer</a>),\n",
       "  it may mean that your frontend doesn't currently support widgets.\n",
       "</p>\n"
      ],
      "text/plain": [
       "interactive(children=(Checkbox(value=True, description='x'), Output()), _dom_classes=('widget-interact',))"
      ]
     },
     "metadata": {},
     "output_type": "display_data"
    },
    {
     "data": {
      "text/plain": [
       "<function __main__.f>"
      ]
     },
     "execution_count": 43,
     "metadata": {},
     "output_type": "execute_result"
    }
   ],
   "source": [
    "# interact \n",
    "interact(f, x=True) # checkbox"
   ]
  },
  {
   "cell_type": "code",
   "execution_count": 44,
   "metadata": {},
   "outputs": [
    {
     "data": {
      "application/vnd.jupyter.widget-view+json": {
       "model_id": "e9617dc8ca02441ca275c49e819b8be5",
       "version_major": 2,
       "version_minor": 0
      },
      "text/html": [
       "<p>Failed to display Jupyter Widget of type <code>interactive</code>.</p>\n",
       "<p>\n",
       "  If you're reading this message in the Jupyter Notebook or JupyterLab Notebook, it may mean\n",
       "  that the widgets JavaScript is still loading. If this message persists, it\n",
       "  likely means that the widgets JavaScript library is either not installed or\n",
       "  not enabled. See the <a href=\"https://ipywidgets.readthedocs.io/en/stable/user_install.html\">Jupyter\n",
       "  Widgets Documentation</a> for setup instructions.\n",
       "</p>\n",
       "<p>\n",
       "  If you're reading this message in another frontend (for example, a static\n",
       "  rendering on GitHub or <a href=\"https://nbviewer.jupyter.org/\">NBViewer</a>),\n",
       "  it may mean that your frontend doesn't currently support widgets.\n",
       "</p>\n"
      ],
      "text/plain": [
       "interactive(children=(Text(value='text', description='x'), Output()), _dom_classes=('widget-interact',))"
      ]
     },
     "metadata": {},
     "output_type": "display_data"
    },
    {
     "data": {
      "text/plain": [
       "<function __main__.f>"
      ]
     },
     "execution_count": 44,
     "metadata": {},
     "output_type": "execute_result"
    }
   ],
   "source": [
    "interact(f, x='text') # textbox"
   ]
  },
  {
   "cell_type": "code",
   "execution_count": 45,
   "metadata": {},
   "outputs": [
    {
     "data": {
      "application/vnd.jupyter.widget-view+json": {
       "model_id": "649c46b5c84146f3936be3c677aa05ca",
       "version_major": 2,
       "version_minor": 0
      },
      "text/html": [
       "<p>Failed to display Jupyter Widget of type <code>Text</code>.</p>\n",
       "<p>\n",
       "  If you're reading this message in the Jupyter Notebook or JupyterLab Notebook, it may mean\n",
       "  that the widgets JavaScript is still loading. If this message persists, it\n",
       "  likely means that the widgets JavaScript library is either not installed or\n",
       "  not enabled. See the <a href=\"https://ipywidgets.readthedocs.io/en/stable/user_install.html\">Jupyter\n",
       "  Widgets Documentation</a> for setup instructions.\n",
       "</p>\n",
       "<p>\n",
       "  If you're reading this message in another frontend (for example, a static\n",
       "  rendering on GitHub or <a href=\"https://nbviewer.jupyter.org/\">NBViewer</a>),\n",
       "  it may mean that your frontend doesn't currently support widgets.\n",
       "</p>\n"
      ],
      "text/plain": [
       "Text(value='')"
      ]
     },
     "metadata": {},
     "output_type": "display_data"
    }
   ],
   "source": [
    "# bind the input of one widget to the value of another\n",
    "\n",
    "outputText = widgets.Text()\n",
    "outputText"
   ]
  },
  {
   "cell_type": "code",
   "execution_count": 46,
   "metadata": {},
   "outputs": [
    {
     "data": {
      "application/vnd.jupyter.widget-view+json": {
       "model_id": "ce8f86f7b75c419584f99294b20a7c88",
       "version_major": 2,
       "version_minor": 0
      },
      "text/html": [
       "<p>Failed to display Jupyter Widget of type <code>Text</code>.</p>\n",
       "<p>\n",
       "  If you're reading this message in the Jupyter Notebook or JupyterLab Notebook, it may mean\n",
       "  that the widgets JavaScript is still loading. If this message persists, it\n",
       "  likely means that the widgets JavaScript library is either not installed or\n",
       "  not enabled. See the <a href=\"https://ipywidgets.readthedocs.io/en/stable/user_install.html\">Jupyter\n",
       "  Widgets Documentation</a> for setup instructions.\n",
       "</p>\n",
       "<p>\n",
       "  If you're reading this message in another frontend (for example, a static\n",
       "  rendering on GitHub or <a href=\"https://nbviewer.jupyter.org/\">NBViewer</a>),\n",
       "  it may mean that your frontend doesn't currently support widgets.\n",
       "</p>\n"
      ],
      "text/plain": [
       "Text(value='')"
      ]
     },
     "metadata": {},
     "output_type": "display_data"
    }
   ],
   "source": [
    "# display the input in the above cell\n",
    "\n",
    "inputText = widgets.Text()\n",
    "\n",
    "def makeUpperCase(sender):\n",
    "    outputText.value = inputText.value.upper()\n",
    "    \n",
    "inputText.on_submit(makeUpperCase)\n",
    "inputText"
   ]
  },
  {
   "cell_type": "code",
   "execution_count": 53,
   "metadata": {},
   "outputs": [
    {
     "data": {
      "application/vnd.jupyter.widget-view+json": {
       "model_id": "283515130c37424dbe733eba0e356c7e",
       "version_major": 2,
       "version_minor": 0
      },
      "text/html": [
       "<p>Failed to display Jupyter Widget of type <code>Text</code>.</p>\n",
       "<p>\n",
       "  If you're reading this message in the Jupyter Notebook or JupyterLab Notebook, it may mean\n",
       "  that the widgets JavaScript is still loading. If this message persists, it\n",
       "  likely means that the widgets JavaScript library is either not installed or\n",
       "  not enabled. See the <a href=\"https://ipywidgets.readthedocs.io/en/stable/user_install.html\">Jupyter\n",
       "  Widgets Documentation</a> for setup instructions.\n",
       "</p>\n",
       "<p>\n",
       "  If you're reading this message in another frontend (for example, a static\n",
       "  rendering on GitHub or <a href=\"https://nbviewer.jupyter.org/\">NBViewer</a>),\n",
       "  it may mean that your frontend doesn't currently support widgets.\n",
       "</p>\n"
      ],
      "text/plain": [
       "Text(value='', description='Domain to ping')"
      ]
     },
     "metadata": {},
     "output_type": "display_data"
    },
    {
     "data": {
      "application/javascript": [
       "/* Put everything inside the global mpl namespace */\n",
       "window.mpl = {};\n",
       "\n",
       "\n",
       "mpl.get_websocket_type = function() {\n",
       "    if (typeof(WebSocket) !== 'undefined') {\n",
       "        return WebSocket;\n",
       "    } else if (typeof(MozWebSocket) !== 'undefined') {\n",
       "        return MozWebSocket;\n",
       "    } else {\n",
       "        alert('Your browser does not have WebSocket support.' +\n",
       "              'Please try Chrome, Safari or Firefox ≥ 6. ' +\n",
       "              'Firefox 4 and 5 are also supported but you ' +\n",
       "              'have to enable WebSockets in about:config.');\n",
       "    };\n",
       "}\n",
       "\n",
       "mpl.figure = function(figure_id, websocket, ondownload, parent_element) {\n",
       "    this.id = figure_id;\n",
       "\n",
       "    this.ws = websocket;\n",
       "\n",
       "    this.supports_binary = (this.ws.binaryType != undefined);\n",
       "\n",
       "    if (!this.supports_binary) {\n",
       "        var warnings = document.getElementById(\"mpl-warnings\");\n",
       "        if (warnings) {\n",
       "            warnings.style.display = 'block';\n",
       "            warnings.textContent = (\n",
       "                \"This browser does not support binary websocket messages. \" +\n",
       "                    \"Performance may be slow.\");\n",
       "        }\n",
       "    }\n",
       "\n",
       "    this.imageObj = new Image();\n",
       "\n",
       "    this.context = undefined;\n",
       "    this.message = undefined;\n",
       "    this.canvas = undefined;\n",
       "    this.rubberband_canvas = undefined;\n",
       "    this.rubberband_context = undefined;\n",
       "    this.format_dropdown = undefined;\n",
       "\n",
       "    this.image_mode = 'full';\n",
       "\n",
       "    this.root = $('<div/>');\n",
       "    this._root_extra_style(this.root)\n",
       "    this.root.attr('style', 'display: inline-block');\n",
       "\n",
       "    $(parent_element).append(this.root);\n",
       "\n",
       "    this._init_header(this);\n",
       "    this._init_canvas(this);\n",
       "    this._init_toolbar(this);\n",
       "\n",
       "    var fig = this;\n",
       "\n",
       "    this.waiting = false;\n",
       "\n",
       "    this.ws.onopen =  function () {\n",
       "            fig.send_message(\"supports_binary\", {value: fig.supports_binary});\n",
       "            fig.send_message(\"send_image_mode\", {});\n",
       "            if (mpl.ratio != 1) {\n",
       "                fig.send_message(\"set_dpi_ratio\", {'dpi_ratio': mpl.ratio});\n",
       "            }\n",
       "            fig.send_message(\"refresh\", {});\n",
       "        }\n",
       "\n",
       "    this.imageObj.onload = function() {\n",
       "            if (fig.image_mode == 'full') {\n",
       "                // Full images could contain transparency (where diff images\n",
       "                // almost always do), so we need to clear the canvas so that\n",
       "                // there is no ghosting.\n",
       "                fig.context.clearRect(0, 0, fig.canvas.width, fig.canvas.height);\n",
       "            }\n",
       "            fig.context.drawImage(fig.imageObj, 0, 0);\n",
       "        };\n",
       "\n",
       "    this.imageObj.onunload = function() {\n",
       "        fig.ws.close();\n",
       "    }\n",
       "\n",
       "    this.ws.onmessage = this._make_on_message_function(this);\n",
       "\n",
       "    this.ondownload = ondownload;\n",
       "}\n",
       "\n",
       "mpl.figure.prototype._init_header = function() {\n",
       "    var titlebar = $(\n",
       "        '<div class=\"ui-dialog-titlebar ui-widget-header ui-corner-all ' +\n",
       "        'ui-helper-clearfix\"/>');\n",
       "    var titletext = $(\n",
       "        '<div class=\"ui-dialog-title\" style=\"width: 100%; ' +\n",
       "        'text-align: center; padding: 3px;\"/>');\n",
       "    titlebar.append(titletext)\n",
       "    this.root.append(titlebar);\n",
       "    this.header = titletext[0];\n",
       "}\n",
       "\n",
       "\n",
       "\n",
       "mpl.figure.prototype._canvas_extra_style = function(canvas_div) {\n",
       "\n",
       "}\n",
       "\n",
       "\n",
       "mpl.figure.prototype._root_extra_style = function(canvas_div) {\n",
       "\n",
       "}\n",
       "\n",
       "mpl.figure.prototype._init_canvas = function() {\n",
       "    var fig = this;\n",
       "\n",
       "    var canvas_div = $('<div/>');\n",
       "\n",
       "    canvas_div.attr('style', 'position: relative; clear: both; outline: 0');\n",
       "\n",
       "    function canvas_keyboard_event(event) {\n",
       "        return fig.key_event(event, event['data']);\n",
       "    }\n",
       "\n",
       "    canvas_div.keydown('key_press', canvas_keyboard_event);\n",
       "    canvas_div.keyup('key_release', canvas_keyboard_event);\n",
       "    this.canvas_div = canvas_div\n",
       "    this._canvas_extra_style(canvas_div)\n",
       "    this.root.append(canvas_div);\n",
       "\n",
       "    var canvas = $('<canvas/>');\n",
       "    canvas.addClass('mpl-canvas');\n",
       "    canvas.attr('style', \"left: 0; top: 0; z-index: 0; outline: 0\")\n",
       "\n",
       "    this.canvas = canvas[0];\n",
       "    this.context = canvas[0].getContext(\"2d\");\n",
       "\n",
       "    var backingStore = this.context.backingStorePixelRatio ||\n",
       "\tthis.context.webkitBackingStorePixelRatio ||\n",
       "\tthis.context.mozBackingStorePixelRatio ||\n",
       "\tthis.context.msBackingStorePixelRatio ||\n",
       "\tthis.context.oBackingStorePixelRatio ||\n",
       "\tthis.context.backingStorePixelRatio || 1;\n",
       "\n",
       "    mpl.ratio = (window.devicePixelRatio || 1) / backingStore;\n",
       "\n",
       "    var rubberband = $('<canvas/>');\n",
       "    rubberband.attr('style', \"position: absolute; left: 0; top: 0; z-index: 1;\")\n",
       "\n",
       "    var pass_mouse_events = true;\n",
       "\n",
       "    canvas_div.resizable({\n",
       "        start: function(event, ui) {\n",
       "            pass_mouse_events = false;\n",
       "        },\n",
       "        resize: function(event, ui) {\n",
       "            fig.request_resize(ui.size.width, ui.size.height);\n",
       "        },\n",
       "        stop: function(event, ui) {\n",
       "            pass_mouse_events = true;\n",
       "            fig.request_resize(ui.size.width, ui.size.height);\n",
       "        },\n",
       "    });\n",
       "\n",
       "    function mouse_event_fn(event) {\n",
       "        if (pass_mouse_events)\n",
       "            return fig.mouse_event(event, event['data']);\n",
       "    }\n",
       "\n",
       "    rubberband.mousedown('button_press', mouse_event_fn);\n",
       "    rubberband.mouseup('button_release', mouse_event_fn);\n",
       "    // Throttle sequential mouse events to 1 every 20ms.\n",
       "    rubberband.mousemove('motion_notify', mouse_event_fn);\n",
       "\n",
       "    rubberband.mouseenter('figure_enter', mouse_event_fn);\n",
       "    rubberband.mouseleave('figure_leave', mouse_event_fn);\n",
       "\n",
       "    canvas_div.on(\"wheel\", function (event) {\n",
       "        event = event.originalEvent;\n",
       "        event['data'] = 'scroll'\n",
       "        if (event.deltaY < 0) {\n",
       "            event.step = 1;\n",
       "        } else {\n",
       "            event.step = -1;\n",
       "        }\n",
       "        mouse_event_fn(event);\n",
       "    });\n",
       "\n",
       "    canvas_div.append(canvas);\n",
       "    canvas_div.append(rubberband);\n",
       "\n",
       "    this.rubberband = rubberband;\n",
       "    this.rubberband_canvas = rubberband[0];\n",
       "    this.rubberband_context = rubberband[0].getContext(\"2d\");\n",
       "    this.rubberband_context.strokeStyle = \"#000000\";\n",
       "\n",
       "    this._resize_canvas = function(width, height) {\n",
       "        // Keep the size of the canvas, canvas container, and rubber band\n",
       "        // canvas in synch.\n",
       "        canvas_div.css('width', width)\n",
       "        canvas_div.css('height', height)\n",
       "\n",
       "        canvas.attr('width', width * mpl.ratio);\n",
       "        canvas.attr('height', height * mpl.ratio);\n",
       "        canvas.attr('style', 'width: ' + width + 'px; height: ' + height + 'px;');\n",
       "\n",
       "        rubberband.attr('width', width);\n",
       "        rubberband.attr('height', height);\n",
       "    }\n",
       "\n",
       "    // Set the figure to an initial 600x600px, this will subsequently be updated\n",
       "    // upon first draw.\n",
       "    this._resize_canvas(600, 600);\n",
       "\n",
       "    // Disable right mouse context menu.\n",
       "    $(this.rubberband_canvas).bind(\"contextmenu\",function(e){\n",
       "        return false;\n",
       "    });\n",
       "\n",
       "    function set_focus () {\n",
       "        canvas.focus();\n",
       "        canvas_div.focus();\n",
       "    }\n",
       "\n",
       "    window.setTimeout(set_focus, 100);\n",
       "}\n",
       "\n",
       "mpl.figure.prototype._init_toolbar = function() {\n",
       "    var fig = this;\n",
       "\n",
       "    var nav_element = $('<div/>')\n",
       "    nav_element.attr('style', 'width: 100%');\n",
       "    this.root.append(nav_element);\n",
       "\n",
       "    // Define a callback function for later on.\n",
       "    function toolbar_event(event) {\n",
       "        return fig.toolbar_button_onclick(event['data']);\n",
       "    }\n",
       "    function toolbar_mouse_event(event) {\n",
       "        return fig.toolbar_button_onmouseover(event['data']);\n",
       "    }\n",
       "\n",
       "    for(var toolbar_ind in mpl.toolbar_items) {\n",
       "        var name = mpl.toolbar_items[toolbar_ind][0];\n",
       "        var tooltip = mpl.toolbar_items[toolbar_ind][1];\n",
       "        var image = mpl.toolbar_items[toolbar_ind][2];\n",
       "        var method_name = mpl.toolbar_items[toolbar_ind][3];\n",
       "\n",
       "        if (!name) {\n",
       "            // put a spacer in here.\n",
       "            continue;\n",
       "        }\n",
       "        var button = $('<button/>');\n",
       "        button.addClass('ui-button ui-widget ui-state-default ui-corner-all ' +\n",
       "                        'ui-button-icon-only');\n",
       "        button.attr('role', 'button');\n",
       "        button.attr('aria-disabled', 'false');\n",
       "        button.click(method_name, toolbar_event);\n",
       "        button.mouseover(tooltip, toolbar_mouse_event);\n",
       "\n",
       "        var icon_img = $('<span/>');\n",
       "        icon_img.addClass('ui-button-icon-primary ui-icon');\n",
       "        icon_img.addClass(image);\n",
       "        icon_img.addClass('ui-corner-all');\n",
       "\n",
       "        var tooltip_span = $('<span/>');\n",
       "        tooltip_span.addClass('ui-button-text');\n",
       "        tooltip_span.html(tooltip);\n",
       "\n",
       "        button.append(icon_img);\n",
       "        button.append(tooltip_span);\n",
       "\n",
       "        nav_element.append(button);\n",
       "    }\n",
       "\n",
       "    var fmt_picker_span = $('<span/>');\n",
       "\n",
       "    var fmt_picker = $('<select/>');\n",
       "    fmt_picker.addClass('mpl-toolbar-option ui-widget ui-widget-content');\n",
       "    fmt_picker_span.append(fmt_picker);\n",
       "    nav_element.append(fmt_picker_span);\n",
       "    this.format_dropdown = fmt_picker[0];\n",
       "\n",
       "    for (var ind in mpl.extensions) {\n",
       "        var fmt = mpl.extensions[ind];\n",
       "        var option = $(\n",
       "            '<option/>', {selected: fmt === mpl.default_extension}).html(fmt);\n",
       "        fmt_picker.append(option)\n",
       "    }\n",
       "\n",
       "    // Add hover states to the ui-buttons\n",
       "    $( \".ui-button\" ).hover(\n",
       "        function() { $(this).addClass(\"ui-state-hover\");},\n",
       "        function() { $(this).removeClass(\"ui-state-hover\");}\n",
       "    );\n",
       "\n",
       "    var status_bar = $('<span class=\"mpl-message\"/>');\n",
       "    nav_element.append(status_bar);\n",
       "    this.message = status_bar[0];\n",
       "}\n",
       "\n",
       "mpl.figure.prototype.request_resize = function(x_pixels, y_pixels) {\n",
       "    // Request matplotlib to resize the figure. Matplotlib will then trigger a resize in the client,\n",
       "    // which will in turn request a refresh of the image.\n",
       "    this.send_message('resize', {'width': x_pixels, 'height': y_pixels});\n",
       "}\n",
       "\n",
       "mpl.figure.prototype.send_message = function(type, properties) {\n",
       "    properties['type'] = type;\n",
       "    properties['figure_id'] = this.id;\n",
       "    this.ws.send(JSON.stringify(properties));\n",
       "}\n",
       "\n",
       "mpl.figure.prototype.send_draw_message = function() {\n",
       "    if (!this.waiting) {\n",
       "        this.waiting = true;\n",
       "        this.ws.send(JSON.stringify({type: \"draw\", figure_id: this.id}));\n",
       "    }\n",
       "}\n",
       "\n",
       "\n",
       "mpl.figure.prototype.handle_save = function(fig, msg) {\n",
       "    var format_dropdown = fig.format_dropdown;\n",
       "    var format = format_dropdown.options[format_dropdown.selectedIndex].value;\n",
       "    fig.ondownload(fig, format);\n",
       "}\n",
       "\n",
       "\n",
       "mpl.figure.prototype.handle_resize = function(fig, msg) {\n",
       "    var size = msg['size'];\n",
       "    if (size[0] != fig.canvas.width || size[1] != fig.canvas.height) {\n",
       "        fig._resize_canvas(size[0], size[1]);\n",
       "        fig.send_message(\"refresh\", {});\n",
       "    };\n",
       "}\n",
       "\n",
       "mpl.figure.prototype.handle_rubberband = function(fig, msg) {\n",
       "    var x0 = msg['x0'] / mpl.ratio;\n",
       "    var y0 = (fig.canvas.height - msg['y0']) / mpl.ratio;\n",
       "    var x1 = msg['x1'] / mpl.ratio;\n",
       "    var y1 = (fig.canvas.height - msg['y1']) / mpl.ratio;\n",
       "    x0 = Math.floor(x0) + 0.5;\n",
       "    y0 = Math.floor(y0) + 0.5;\n",
       "    x1 = Math.floor(x1) + 0.5;\n",
       "    y1 = Math.floor(y1) + 0.5;\n",
       "    var min_x = Math.min(x0, x1);\n",
       "    var min_y = Math.min(y0, y1);\n",
       "    var width = Math.abs(x1 - x0);\n",
       "    var height = Math.abs(y1 - y0);\n",
       "\n",
       "    fig.rubberband_context.clearRect(\n",
       "        0, 0, fig.canvas.width, fig.canvas.height);\n",
       "\n",
       "    fig.rubberband_context.strokeRect(min_x, min_y, width, height);\n",
       "}\n",
       "\n",
       "mpl.figure.prototype.handle_figure_label = function(fig, msg) {\n",
       "    // Updates the figure title.\n",
       "    fig.header.textContent = msg['label'];\n",
       "}\n",
       "\n",
       "mpl.figure.prototype.handle_cursor = function(fig, msg) {\n",
       "    var cursor = msg['cursor'];\n",
       "    switch(cursor)\n",
       "    {\n",
       "    case 0:\n",
       "        cursor = 'pointer';\n",
       "        break;\n",
       "    case 1:\n",
       "        cursor = 'default';\n",
       "        break;\n",
       "    case 2:\n",
       "        cursor = 'crosshair';\n",
       "        break;\n",
       "    case 3:\n",
       "        cursor = 'move';\n",
       "        break;\n",
       "    }\n",
       "    fig.rubberband_canvas.style.cursor = cursor;\n",
       "}\n",
       "\n",
       "mpl.figure.prototype.handle_message = function(fig, msg) {\n",
       "    fig.message.textContent = msg['message'];\n",
       "}\n",
       "\n",
       "mpl.figure.prototype.handle_draw = function(fig, msg) {\n",
       "    // Request the server to send over a new figure.\n",
       "    fig.send_draw_message();\n",
       "}\n",
       "\n",
       "mpl.figure.prototype.handle_image_mode = function(fig, msg) {\n",
       "    fig.image_mode = msg['mode'];\n",
       "}\n",
       "\n",
       "mpl.figure.prototype.updated_canvas_event = function() {\n",
       "    // Called whenever the canvas gets updated.\n",
       "    this.send_message(\"ack\", {});\n",
       "}\n",
       "\n",
       "// A function to construct a web socket function for onmessage handling.\n",
       "// Called in the figure constructor.\n",
       "mpl.figure.prototype._make_on_message_function = function(fig) {\n",
       "    return function socket_on_message(evt) {\n",
       "        if (evt.data instanceof Blob) {\n",
       "            /* FIXME: We get \"Resource interpreted as Image but\n",
       "             * transferred with MIME type text/plain:\" errors on\n",
       "             * Chrome.  But how to set the MIME type?  It doesn't seem\n",
       "             * to be part of the websocket stream */\n",
       "            evt.data.type = \"image/png\";\n",
       "\n",
       "            /* Free the memory for the previous frames */\n",
       "            if (fig.imageObj.src) {\n",
       "                (window.URL || window.webkitURL).revokeObjectURL(\n",
       "                    fig.imageObj.src);\n",
       "            }\n",
       "\n",
       "            fig.imageObj.src = (window.URL || window.webkitURL).createObjectURL(\n",
       "                evt.data);\n",
       "            fig.updated_canvas_event();\n",
       "            fig.waiting = false;\n",
       "            return;\n",
       "        }\n",
       "        else if (typeof evt.data === 'string' && evt.data.slice(0, 21) == \"data:image/png;base64\") {\n",
       "            fig.imageObj.src = evt.data;\n",
       "            fig.updated_canvas_event();\n",
       "            fig.waiting = false;\n",
       "            return;\n",
       "        }\n",
       "\n",
       "        var msg = JSON.parse(evt.data);\n",
       "        var msg_type = msg['type'];\n",
       "\n",
       "        // Call the  \"handle_{type}\" callback, which takes\n",
       "        // the figure and JSON message as its only arguments.\n",
       "        try {\n",
       "            var callback = fig[\"handle_\" + msg_type];\n",
       "        } catch (e) {\n",
       "            console.log(\"No handler for the '\" + msg_type + \"' message type: \", msg);\n",
       "            return;\n",
       "        }\n",
       "\n",
       "        if (callback) {\n",
       "            try {\n",
       "                // console.log(\"Handling '\" + msg_type + \"' message: \", msg);\n",
       "                callback(fig, msg);\n",
       "            } catch (e) {\n",
       "                console.log(\"Exception inside the 'handler_\" + msg_type + \"' callback:\", e, e.stack, msg);\n",
       "            }\n",
       "        }\n",
       "    };\n",
       "}\n",
       "\n",
       "// from http://stackoverflow.com/questions/1114465/getting-mouse-location-in-canvas\n",
       "mpl.findpos = function(e) {\n",
       "    //this section is from http://www.quirksmode.org/js/events_properties.html\n",
       "    var targ;\n",
       "    if (!e)\n",
       "        e = window.event;\n",
       "    if (e.target)\n",
       "        targ = e.target;\n",
       "    else if (e.srcElement)\n",
       "        targ = e.srcElement;\n",
       "    if (targ.nodeType == 3) // defeat Safari bug\n",
       "        targ = targ.parentNode;\n",
       "\n",
       "    // jQuery normalizes the pageX and pageY\n",
       "    // pageX,Y are the mouse positions relative to the document\n",
       "    // offset() returns the position of the element relative to the document\n",
       "    var x = e.pageX - $(targ).offset().left;\n",
       "    var y = e.pageY - $(targ).offset().top;\n",
       "\n",
       "    return {\"x\": x, \"y\": y};\n",
       "};\n",
       "\n",
       "/*\n",
       " * return a copy of an object with only non-object keys\n",
       " * we need this to avoid circular references\n",
       " * http://stackoverflow.com/a/24161582/3208463\n",
       " */\n",
       "function simpleKeys (original) {\n",
       "  return Object.keys(original).reduce(function (obj, key) {\n",
       "    if (typeof original[key] !== 'object')\n",
       "        obj[key] = original[key]\n",
       "    return obj;\n",
       "  }, {});\n",
       "}\n",
       "\n",
       "mpl.figure.prototype.mouse_event = function(event, name) {\n",
       "    var canvas_pos = mpl.findpos(event)\n",
       "\n",
       "    if (name === 'button_press')\n",
       "    {\n",
       "        this.canvas.focus();\n",
       "        this.canvas_div.focus();\n",
       "    }\n",
       "\n",
       "    var x = canvas_pos.x * mpl.ratio;\n",
       "    var y = canvas_pos.y * mpl.ratio;\n",
       "\n",
       "    this.send_message(name, {x: x, y: y, button: event.button,\n",
       "                             step: event.step,\n",
       "                             guiEvent: simpleKeys(event)});\n",
       "\n",
       "    /* This prevents the web browser from automatically changing to\n",
       "     * the text insertion cursor when the button is pressed.  We want\n",
       "     * to control all of the cursor setting manually through the\n",
       "     * 'cursor' event from matplotlib */\n",
       "    event.preventDefault();\n",
       "    return false;\n",
       "}\n",
       "\n",
       "mpl.figure.prototype._key_event_extra = function(event, name) {\n",
       "    // Handle any extra behaviour associated with a key event\n",
       "}\n",
       "\n",
       "mpl.figure.prototype.key_event = function(event, name) {\n",
       "\n",
       "    // Prevent repeat events\n",
       "    if (name == 'key_press')\n",
       "    {\n",
       "        if (event.which === this._key)\n",
       "            return;\n",
       "        else\n",
       "            this._key = event.which;\n",
       "    }\n",
       "    if (name == 'key_release')\n",
       "        this._key = null;\n",
       "\n",
       "    var value = '';\n",
       "    if (event.ctrlKey && event.which != 17)\n",
       "        value += \"ctrl+\";\n",
       "    if (event.altKey && event.which != 18)\n",
       "        value += \"alt+\";\n",
       "    if (event.shiftKey && event.which != 16)\n",
       "        value += \"shift+\";\n",
       "\n",
       "    value += 'k';\n",
       "    value += event.which.toString();\n",
       "\n",
       "    this._key_event_extra(event, name);\n",
       "\n",
       "    this.send_message(name, {key: value,\n",
       "                             guiEvent: simpleKeys(event)});\n",
       "    return false;\n",
       "}\n",
       "\n",
       "mpl.figure.prototype.toolbar_button_onclick = function(name) {\n",
       "    if (name == 'download') {\n",
       "        this.handle_save(this, null);\n",
       "    } else {\n",
       "        this.send_message(\"toolbar_button\", {name: name});\n",
       "    }\n",
       "};\n",
       "\n",
       "mpl.figure.prototype.toolbar_button_onmouseover = function(tooltip) {\n",
       "    this.message.textContent = tooltip;\n",
       "};\n",
       "mpl.toolbar_items = [[\"Home\", \"Reset original view\", \"fa fa-home icon-home\", \"home\"], [\"Back\", \"Back to  previous view\", \"fa fa-arrow-left icon-arrow-left\", \"back\"], [\"Forward\", \"Forward to next view\", \"fa fa-arrow-right icon-arrow-right\", \"forward\"], [\"\", \"\", \"\", \"\"], [\"Pan\", \"Pan axes with left mouse, zoom with right\", \"fa fa-arrows icon-move\", \"pan\"], [\"Zoom\", \"Zoom to rectangle\", \"fa fa-square-o icon-check-empty\", \"zoom\"], [\"\", \"\", \"\", \"\"], [\"Download\", \"Download plot\", \"fa fa-floppy-o icon-save\", \"download\"]];\n",
       "\n",
       "mpl.extensions = [\"eps\", \"jpeg\", \"pdf\", \"png\", \"ps\", \"raw\", \"svg\", \"tif\"];\n",
       "\n",
       "mpl.default_extension = \"png\";var comm_websocket_adapter = function(comm) {\n",
       "    // Create a \"websocket\"-like object which calls the given IPython comm\n",
       "    // object with the appropriate methods. Currently this is a non binary\n",
       "    // socket, so there is still some room for performance tuning.\n",
       "    var ws = {};\n",
       "\n",
       "    ws.close = function() {\n",
       "        comm.close()\n",
       "    };\n",
       "    ws.send = function(m) {\n",
       "        //console.log('sending', m);\n",
       "        comm.send(m);\n",
       "    };\n",
       "    // Register the callback with on_msg.\n",
       "    comm.on_msg(function(msg) {\n",
       "        //console.log('receiving', msg['content']['data'], msg);\n",
       "        // Pass the mpl event to the overridden (by mpl) onmessage function.\n",
       "        ws.onmessage(msg['content']['data'])\n",
       "    });\n",
       "    return ws;\n",
       "}\n",
       "\n",
       "mpl.mpl_figure_comm = function(comm, msg) {\n",
       "    // This is the function which gets called when the mpl process\n",
       "    // starts-up an IPython Comm through the \"matplotlib\" channel.\n",
       "\n",
       "    var id = msg.content.data.id;\n",
       "    // Get hold of the div created by the display call when the Comm\n",
       "    // socket was opened in Python.\n",
       "    var element = $(\"#\" + id);\n",
       "    var ws_proxy = comm_websocket_adapter(comm)\n",
       "\n",
       "    function ondownload(figure, format) {\n",
       "        window.open(figure.imageObj.src);\n",
       "    }\n",
       "\n",
       "    var fig = new mpl.figure(id, ws_proxy,\n",
       "                           ondownload,\n",
       "                           element.get(0));\n",
       "\n",
       "    // Call onopen now - mpl needs it, as it is assuming we've passed it a real\n",
       "    // web socket which is closed, not our websocket->open comm proxy.\n",
       "    ws_proxy.onopen();\n",
       "\n",
       "    fig.parent_element = element.get(0);\n",
       "    fig.cell_info = mpl.find_output_cell(\"<div id='\" + id + \"'></div>\");\n",
       "    if (!fig.cell_info) {\n",
       "        console.error(\"Failed to find cell for figure\", id, fig);\n",
       "        return;\n",
       "    }\n",
       "\n",
       "    var output_index = fig.cell_info[2]\n",
       "    var cell = fig.cell_info[0];\n",
       "\n",
       "};\n",
       "\n",
       "mpl.figure.prototype.handle_close = function(fig, msg) {\n",
       "    var width = fig.canvas.width/mpl.ratio\n",
       "    fig.root.unbind('remove')\n",
       "\n",
       "    // Update the output cell to use the data from the current canvas.\n",
       "    fig.push_to_output();\n",
       "    var dataURL = fig.canvas.toDataURL();\n",
       "    // Re-enable the keyboard manager in IPython - without this line, in FF,\n",
       "    // the notebook keyboard shortcuts fail.\n",
       "    IPython.keyboard_manager.enable()\n",
       "    $(fig.parent_element).html('<img src=\"' + dataURL + '\" width=\"' + width + '\">');\n",
       "    fig.close_ws(fig, msg);\n",
       "}\n",
       "\n",
       "mpl.figure.prototype.close_ws = function(fig, msg){\n",
       "    fig.send_message('closing', msg);\n",
       "    // fig.ws.close()\n",
       "}\n",
       "\n",
       "mpl.figure.prototype.push_to_output = function(remove_interactive) {\n",
       "    // Turn the data on the canvas into data in the output cell.\n",
       "    var width = this.canvas.width/mpl.ratio\n",
       "    var dataURL = this.canvas.toDataURL();\n",
       "    this.cell_info[1]['text/html'] = '<img src=\"' + dataURL + '\" width=\"' + width + '\">';\n",
       "}\n",
       "\n",
       "mpl.figure.prototype.updated_canvas_event = function() {\n",
       "    // Tell IPython that the notebook contents must change.\n",
       "    IPython.notebook.set_dirty(true);\n",
       "    this.send_message(\"ack\", {});\n",
       "    var fig = this;\n",
       "    // Wait a second, then push the new image to the DOM so\n",
       "    // that it is saved nicely (might be nice to debounce this).\n",
       "    setTimeout(function () { fig.push_to_output() }, 1000);\n",
       "}\n",
       "\n",
       "mpl.figure.prototype._init_toolbar = function() {\n",
       "    var fig = this;\n",
       "\n",
       "    var nav_element = $('<div/>')\n",
       "    nav_element.attr('style', 'width: 100%');\n",
       "    this.root.append(nav_element);\n",
       "\n",
       "    // Define a callback function for later on.\n",
       "    function toolbar_event(event) {\n",
       "        return fig.toolbar_button_onclick(event['data']);\n",
       "    }\n",
       "    function toolbar_mouse_event(event) {\n",
       "        return fig.toolbar_button_onmouseover(event['data']);\n",
       "    }\n",
       "\n",
       "    for(var toolbar_ind in mpl.toolbar_items){\n",
       "        var name = mpl.toolbar_items[toolbar_ind][0];\n",
       "        var tooltip = mpl.toolbar_items[toolbar_ind][1];\n",
       "        var image = mpl.toolbar_items[toolbar_ind][2];\n",
       "        var method_name = mpl.toolbar_items[toolbar_ind][3];\n",
       "\n",
       "        if (!name) { continue; };\n",
       "\n",
       "        var button = $('<button class=\"btn btn-default\" href=\"#\" title=\"' + name + '\"><i class=\"fa ' + image + ' fa-lg\"></i></button>');\n",
       "        button.click(method_name, toolbar_event);\n",
       "        button.mouseover(tooltip, toolbar_mouse_event);\n",
       "        nav_element.append(button);\n",
       "    }\n",
       "\n",
       "    // Add the status bar.\n",
       "    var status_bar = $('<span class=\"mpl-message\" style=\"text-align:right; float: right;\"/>');\n",
       "    nav_element.append(status_bar);\n",
       "    this.message = status_bar[0];\n",
       "\n",
       "    // Add the close button to the window.\n",
       "    var buttongrp = $('<div class=\"btn-group inline pull-right\"></div>');\n",
       "    var button = $('<button class=\"btn btn-mini btn-primary\" href=\"#\" title=\"Stop Interaction\"><i class=\"fa fa-power-off icon-remove icon-large\"></i></button>');\n",
       "    button.click(function (evt) { fig.handle_close(fig, {}); } );\n",
       "    button.mouseover('Stop Interaction', toolbar_mouse_event);\n",
       "    buttongrp.append(button);\n",
       "    var titlebar = this.root.find($('.ui-dialog-titlebar'));\n",
       "    titlebar.prepend(buttongrp);\n",
       "}\n",
       "\n",
       "mpl.figure.prototype._root_extra_style = function(el){\n",
       "    var fig = this\n",
       "    el.on(\"remove\", function(){\n",
       "\tfig.close_ws(fig, {});\n",
       "    });\n",
       "}\n",
       "\n",
       "mpl.figure.prototype._canvas_extra_style = function(el){\n",
       "    // this is important to make the div 'focusable\n",
       "    el.attr('tabindex', 0)\n",
       "    // reach out to IPython and tell the keyboard manager to turn it's self\n",
       "    // off when our div gets focus\n",
       "\n",
       "    // location in version 3\n",
       "    if (IPython.notebook.keyboard_manager) {\n",
       "        IPython.notebook.keyboard_manager.register_events(el);\n",
       "    }\n",
       "    else {\n",
       "        // location in version 2\n",
       "        IPython.keyboard_manager.register_events(el);\n",
       "    }\n",
       "\n",
       "}\n",
       "\n",
       "mpl.figure.prototype._key_event_extra = function(event, name) {\n",
       "    var manager = IPython.notebook.keyboard_manager;\n",
       "    if (!manager)\n",
       "        manager = IPython.keyboard_manager;\n",
       "\n",
       "    // Check for shift+enter\n",
       "    if (event.shiftKey && event.which == 13) {\n",
       "        this.canvas_div.blur();\n",
       "        event.shiftKey = false;\n",
       "        // Send a \"J\" for go to next cell\n",
       "        event.which = 74;\n",
       "        event.keyCode = 74;\n",
       "        manager.command_mode();\n",
       "        manager.handle_keydown(event);\n",
       "    }\n",
       "}\n",
       "\n",
       "mpl.figure.prototype.handle_save = function(fig, msg) {\n",
       "    fig.ondownload(fig, null);\n",
       "}\n",
       "\n",
       "\n",
       "mpl.find_output_cell = function(html_output) {\n",
       "    // Return the cell and output element which can be found *uniquely* in the notebook.\n",
       "    // Note - this is a bit hacky, but it is done because the \"notebook_saving.Notebook\"\n",
       "    // IPython event is triggered only after the cells have been serialised, which for\n",
       "    // our purposes (turning an active figure into a static one), is too late.\n",
       "    var cells = IPython.notebook.get_cells();\n",
       "    var ncells = cells.length;\n",
       "    for (var i=0; i<ncells; i++) {\n",
       "        var cell = cells[i];\n",
       "        if (cell.cell_type === 'code'){\n",
       "            for (var j=0; j<cell.output_area.outputs.length; j++) {\n",
       "                var data = cell.output_area.outputs[j];\n",
       "                if (data.data) {\n",
       "                    // IPython >= 3 moved mimebundle to data attribute of output\n",
       "                    data = data.data;\n",
       "                }\n",
       "                if (data['text/html'] == html_output) {\n",
       "                    return [cell, data, j];\n",
       "                }\n",
       "            }\n",
       "        }\n",
       "    }\n",
       "}\n",
       "\n",
       "// Register the function which deals with the matplotlib target/channel.\n",
       "// The kernel may be null if the page has been refreshed.\n",
       "if (IPython.notebook.kernel != null) {\n",
       "    IPython.notebook.kernel.comm_manager.register_target('matplotlib', mpl.mpl_figure_comm);\n",
       "}\n"
      ],
      "text/plain": [
       "<IPython.core.display.Javascript object>"
      ]
     },
     "metadata": {},
     "output_type": "display_data"
    },
    {
     "data": {
      "text/html": [
       "<img src=\"data:image/png;base64,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\" width=\"900\">"
      ],
      "text/plain": [
       "<IPython.core.display.HTML object>"
      ]
     },
     "metadata": {},
     "output_type": "display_data"
    },
    {
     "data": {
      "application/vnd.jupyter.widget-view+json": {
       "model_id": "8332f82288d041fdac6c5942a08790b2",
       "version_major": 2,
       "version_minor": 0
      },
      "text/html": [
       "<p>Failed to display Jupyter Widget of type <code>HBox</code>.</p>\n",
       "<p>\n",
       "  If you're reading this message in the Jupyter Notebook or JupyterLab Notebook, it may mean\n",
       "  that the widgets JavaScript is still loading. If this message persists, it\n",
       "  likely means that the widgets JavaScript library is either not installed or\n",
       "  not enabled. See the <a href=\"https://ipywidgets.readthedocs.io/en/stable/user_install.html\">Jupyter\n",
       "  Widgets Documentation</a> for setup instructions.\n",
       "</p>\n",
       "<p>\n",
       "  If you're reading this message in another frontend (for example, a static\n",
       "  rendering on GitHub or <a href=\"https://nbviewer.jupyter.org/\">NBViewer</a>),\n",
       "  it may mean that your frontend doesn't currently support widgets.\n",
       "</p>\n"
      ],
      "text/plain": [
       "HBox()"
      ]
     },
     "metadata": {},
     "output_type": "display_data"
    }
   ],
   "source": [
    "%matplotlib notebook\n",
    "import pandas as pd\n",
    "import matplotlib.pyplot as plt\n",
    "from ipywidgets import *\n",
    "from IPython.display import display\n",
    "from IPython.html import widgets\n",
    "plt.style.use('ggplot')\n",
    " \n",
    "NUMBER_OF_PINGS = 4\n",
    " \n",
    "# displaying the text widget\n",
    "text = widgets.Text(description=\"Domain to ping\", width=200)\n",
    "display(text)\n",
    " \n",
    "# preparing the plot \n",
    "data = pd.DataFrame()\n",
    "x = range(1,NUMBER_OF_PINGS+1)\n",
    "plots = dict()\n",
    "fig, ax = plt.subplots()\n",
    "plt.xlabel('iterations')\n",
    "plt.ylabel('ms')\n",
    "plt.xticks(x)\n",
    "plt.show()\n",
    " \n",
    "# preparing a container to put in created checkbox per domain\n",
    "checkboxes = []\n",
    "cb_container = widgets.HBox()\n",
    "display(cb_container)\n",
    " \n",
    "# add button that updates the graph based on the checkboxes\n",
    "button = widgets.Button(description=\"Update the graph\")\n",
    " \n",
    "# function to deal with the added domain name\n",
    "def handle_submit(sender):\n",
    "    # a part of the magic inside python : pinging\n",
    "    res = !ping -c {NUMBER_OF_PINGS} {text.value}\n",
    "    hits = res.grep('64 bytes').fields(-2).s.replace(\"time=\",\"\").split()\n",
    "    if len(hits) == 0:print(\"Domain gave error on pinging\")\n",
    "    else:\n",
    "        # rebuild plot based on ping result\n",
    "        data = hits\n",
    "        data = data.astype(float)\n",
    "        plots, = ax.plot(x, data, label=text.value)\n",
    "        plt.legend()\n",
    "        plt.draw()\n",
    "        # add a new checkbox for the new domain\n",
    "        checkboxes.append(widgets.Checkbox(description = text.value, value=True, width=90))\n",
    "        cb_container.children=[i for i in checkboxes]\n",
    "        if len(checkboxes)==1:display(button)\n",
    " #function to deal with the checkbox update button \n",
    "\n",
    "def on_button_clicked(b):\n",
    "    for c in cb_container.children:\n",
    "        if not c.value:\n",
    "            plots.set_visible(False)\n",
    "        else:\n",
    "            plots.set_visible(True)\n",
    "    plt.legend()\n",
    "    plt.draw()\n",
    "button.on_click(on_button_clicked)\n",
    "text.on_submit(handle_submit)"
   ]
  },
  {
   "cell_type": "code",
   "execution_count": 50,
   "metadata": {},
   "outputs": [
    {
     "data": {
      "application/vnd.jupyter.widget-view+json": {
       "model_id": "449b3b4684ce42b59de735669f1ff19c",
       "version_major": 2,
       "version_minor": 0
      },
      "text/html": [
       "<p>Failed to display Jupyter Widget of type <code>HBox</code>.</p>\n",
       "<p>\n",
       "  If you're reading this message in the Jupyter Notebook or JupyterLab Notebook, it may mean\n",
       "  that the widgets JavaScript is still loading. If this message persists, it\n",
       "  likely means that the widgets JavaScript library is either not installed or\n",
       "  not enabled. See the <a href=\"https://ipywidgets.readthedocs.io/en/stable/user_install.html\">Jupyter\n",
       "  Widgets Documentation</a> for setup instructions.\n",
       "</p>\n",
       "<p>\n",
       "  If you're reading this message in another frontend (for example, a static\n",
       "  rendering on GitHub or <a href=\"https://nbviewer.jupyter.org/\">NBViewer</a>),\n",
       "  it may mean that your frontend doesn't currently support widgets.\n",
       "</p>\n"
      ],
      "text/plain": [
       "HBox()"
      ]
     },
     "metadata": {},
     "output_type": "display_data"
    }
   ],
   "source": [
    "cb_container = widgets.HBox()\n",
    "display(cb_container)\n",
    " "
   ]
  },
  {
   "cell_type": "code",
   "execution_count": 51,
   "metadata": {},
   "outputs": [],
   "source": [
    "from __future__ import print_function\n",
    "from IPython.html.widgets import interact, interactive, fixed\n",
    "from IPython.html import widgets"
   ]
  },
  {
   "cell_type": "code",
   "execution_count": 54,
   "metadata": {},
   "outputs": [
    {
     "data": {
      "application/vnd.jupyter.widget-view+json": {
       "model_id": "a75d47f7a50a4dfdb00e1c00eda41aa5",
       "version_major": 2,
       "version_minor": 0
      },
      "text/html": [
       "<p>Failed to display Jupyter Widget of type <code>interactive</code>.</p>\n",
       "<p>\n",
       "  If you're reading this message in the Jupyter Notebook or JupyterLab Notebook, it may mean\n",
       "  that the widgets JavaScript is still loading. If this message persists, it\n",
       "  likely means that the widgets JavaScript library is either not installed or\n",
       "  not enabled. See the <a href=\"https://ipywidgets.readthedocs.io/en/stable/user_install.html\">Jupyter\n",
       "  Widgets Documentation</a> for setup instructions.\n",
       "</p>\n",
       "<p>\n",
       "  If you're reading this message in another frontend (for example, a static\n",
       "  rendering on GitHub or <a href=\"https://nbviewer.jupyter.org/\">NBViewer</a>),\n",
       "  it may mean that your frontend doesn't currently support widgets.\n",
       "</p>\n"
      ],
      "text/plain": [
       "interactive(children=(Checkbox(value=True, description='x'), FloatSlider(value=1.0, description='y', max=3.0, min=-1.0), Output()), _dom_classes=('widget-interact',))"
      ]
     },
     "metadata": {},
     "output_type": "display_data"
    }
   ],
   "source": [
    "@interact(x=True, y=1.0)\n",
    "def g(x, y):\n",
    "    print(x, y)"
   ]
  },
  {
   "cell_type": "code",
   "execution_count": null,
   "metadata": {},
   "outputs": [],
   "source": []
  },
  {
   "cell_type": "code",
   "execution_count": null,
   "metadata": {},
   "outputs": [],
   "source": []
  }
 ],
 "metadata": {
  "hide_input": false,
  "kernelspec": {
   "display_name": "Python 3",
   "language": "python",
   "name": "python3"
  },
  "language_info": {
   "codemirror_mode": {
    "name": "ipython",
    "version": 3
   },
   "file_extension": ".py",
   "mimetype": "text/x-python",
   "name": "python",
   "nbconvert_exporter": "python",
   "pygments_lexer": "ipython3",
   "version": "3.6.4"
  }
 },
 "nbformat": 4,
 "nbformat_minor": 2
}
