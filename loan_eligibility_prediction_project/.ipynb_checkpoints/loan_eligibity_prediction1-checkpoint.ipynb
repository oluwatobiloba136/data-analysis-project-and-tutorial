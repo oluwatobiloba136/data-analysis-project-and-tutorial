{
 "cells": [
  {
   "cell_type": "markdown",
   "metadata": {
    "hide_input": true,
    "slideshow": {
     "slide_type": "slide"
    }
   },
   "source": [
    "### Project Objective \n",
    "To automate the loan eligibility process (real time) based on customer detail provided while filling online application form. These details are Gender, Marital Status, Education, Number of Dependents, Income, Loan Amount, Credit History and others. To automate this process, they have given a problem to identify the customers segments, those are eligible for loan amount so that they can specifically target these customers.\n",
    "\n",
    "**The aim of this project is to predict whether a loan will be approved or not.**"
   ]
  },
  {
   "cell_type": "markdown",
   "metadata": {
    "slideshow": {
     "slide_type": "slide"
    }
   },
   "source": [
    "### Background Information\n",
    "Loan prediction is a very common real-life problem that each retail bank faces atleast once in its lifetime. If done correctly, it can save a lot of man hours at the end of a retail bank."
   ]
  },
  {
   "cell_type": "markdown",
   "metadata": {
    "slideshow": {
     "slide_type": "fragment"
    }
   },
   "source": [
    "It is a classification problem where we have to predict whether a loan would be approved or not. In a classification problem, we have to predict discrete values based on a given set of independent variable(s)."
   ]
  },
  {
   "cell_type": "markdown",
   "metadata": {
    "slideshow": {
     "slide_type": "slide"
    }
   },
   "source": [
    "### Hypthosis generation\n",
    "Below are some of the factors which I think can affect the Loan Approval (dependent variable for this loan prediction problem):\n",
    "\n",
    ">**Salary**: Applicants with high income should have more chances of loan approval.\n",
    "\n",
    ">**Previous history**: Applicants who have repayed their previous debts should have higher chances of loan approval."
   ]
  },
  {
   "cell_type": "markdown",
   "metadata": {
    "hide_input": true,
    "slideshow": {
     "slide_type": "subslide"
    }
   },
   "source": [
    ">**Loan amount**: Loan approval should also depend on the loan amount. If the loan amount is less, chances of loan approval should be high.\n",
    "\n",
    ">**Loan term**: Loan for less time period and less amount should have higher chances of approval.\n",
    "\n",
    ">**Equated Monthly Installment (EMI)**: Lesser the amount to be paid monthly to repay the loan, higher the chances of loan approval."
   ]
  },
  {
   "cell_type": "markdown",
   "metadata": {
    "slideshow": {
     "slide_type": "slide"
    }
   },
   "source": [
    "### The sample Dataset\n",
    "* __Train file__ will be used for training the model, i.e. our model will learn from this file. It contains all the independent variables and the target variable.\n",
    "\n",
    "* __Test file__ contains all the independent variables, but not the target variable. I will apply the model to predict the target variable for the test data."
   ]
  },
  {
   "cell_type": "markdown",
   "metadata": {
    "slideshow": {
     "slide_type": "slide"
    }
   },
   "source": [
    "### Data Dictionary\n",
    "![data dictionary](image/data_dictionay.PNG)"
   ]
  },
  {
   "cell_type": "code",
   "execution_count": 1,
   "metadata": {
    "hide_input": false,
    "slideshow": {
     "slide_type": "slide"
    }
   },
   "outputs": [],
   "source": [
    "# Importing required Packages\n",
    "import pandas as pd\n",
    "import numpy as np\n",
    "import seaborn as sns\n",
    "import matplotlib.pyplot as plt\n",
    "%matplotlib inline"
   ]
  },
  {
   "cell_type": "code",
   "execution_count": 2,
   "metadata": {
    "slideshow": {
     "slide_type": "fragment"
    }
   },
   "outputs": [],
   "source": [
    "import warnings\n",
    "warnings.filterwarnings(\"ignore\")"
   ]
  },
  {
   "cell_type": "code",
   "execution_count": 3,
   "metadata": {
    "code_folding": [
     0
    ],
    "slideshow": {
     "slide_type": "slide"
    }
   },
   "outputs": [],
   "source": [
    "# Read Train as a dataframe\n",
    "train=pd.read_csv(\"train_u6lujuX_CVtuZ9i.csv\")"
   ]
  },
  {
   "cell_type": "code",
   "execution_count": 4,
   "metadata": {
    "slideshow": {
     "slide_type": "fragment"
    }
   },
   "outputs": [
    {
     "name": "stdout",
     "output_type": "stream",
     "text": [
      "The train dataset has 614 observations and 13 features\n"
     ]
    }
   ],
   "source": [
    "print(f'The train dataset has {train.shape[0]} observations and {train.shape[1]} features')"
   ]
  },
  {
   "cell_type": "code",
   "execution_count": 5,
   "metadata": {
    "code_folding": [],
    "slideshow": {
     "slide_type": "slide"
    }
   },
   "outputs": [],
   "source": [
    "# Read Test\n",
    "test=pd.read_csv(\"test_Y3wMUE5_7gLdaTN.csv\")"
   ]
  },
  {
   "cell_type": "code",
   "execution_count": 6,
   "metadata": {
    "slideshow": {
     "slide_type": "fragment"
    }
   },
   "outputs": [
    {
     "name": "stdout",
     "output_type": "stream",
     "text": [
      "The test dataset has 367 observations and 12 features\n"
     ]
    },
    {
     "data": {
      "text/plain": [
       "'The target feature is excluded'"
      ]
     },
     "execution_count": 6,
     "metadata": {},
     "output_type": "execute_result"
    }
   ],
   "source": [
    "print(f'The test dataset has {test.shape[0]} observations and {test.shape[1]} features')\n",
    "f'The target feature is excluded'"
   ]
  },
  {
   "cell_type": "code",
   "execution_count": 7,
   "metadata": {
    "code_folding": [
     0
    ],
    "slideshow": {
     "slide_type": "slide"
    }
   },
   "outputs": [
    {
     "data": {
      "text/html": [
       "<div>\n",
       "<style scoped>\n",
       "    .dataframe tbody tr th:only-of-type {\n",
       "        vertical-align: middle;\n",
       "    }\n",
       "\n",
       "    .dataframe tbody tr th {\n",
       "        vertical-align: top;\n",
       "    }\n",
       "\n",
       "    .dataframe thead th {\n",
       "        text-align: right;\n",
       "    }\n",
       "</style>\n",
       "<table border=\"1\" class=\"dataframe\">\n",
       "  <thead>\n",
       "    <tr style=\"text-align: right;\">\n",
       "      <th></th>\n",
       "      <th>Loan_ID</th>\n",
       "      <th>Gender</th>\n",
       "      <th>Married</th>\n",
       "      <th>Dependents</th>\n",
       "      <th>Education</th>\n",
       "      <th>Self_Employed</th>\n",
       "      <th>ApplicantIncome</th>\n",
       "      <th>CoapplicantIncome</th>\n",
       "      <th>LoanAmount</th>\n",
       "      <th>Loan_Amount_Term</th>\n",
       "      <th>Credit_History</th>\n",
       "      <th>Property_Area</th>\n",
       "      <th>Loan_Status</th>\n",
       "    </tr>\n",
       "  </thead>\n",
       "  <tbody>\n",
       "    <tr>\n",
       "      <th>0</th>\n",
       "      <td>LP001002</td>\n",
       "      <td>Male</td>\n",
       "      <td>No</td>\n",
       "      <td>0</td>\n",
       "      <td>Graduate</td>\n",
       "      <td>No</td>\n",
       "      <td>5849</td>\n",
       "      <td>0.0</td>\n",
       "      <td>NaN</td>\n",
       "      <td>360.0</td>\n",
       "      <td>1.0</td>\n",
       "      <td>Urban</td>\n",
       "      <td>Y</td>\n",
       "    </tr>\n",
       "    <tr>\n",
       "      <th>1</th>\n",
       "      <td>LP001003</td>\n",
       "      <td>Male</td>\n",
       "      <td>Yes</td>\n",
       "      <td>1</td>\n",
       "      <td>Graduate</td>\n",
       "      <td>No</td>\n",
       "      <td>4583</td>\n",
       "      <td>1508.0</td>\n",
       "      <td>128.0</td>\n",
       "      <td>360.0</td>\n",
       "      <td>1.0</td>\n",
       "      <td>Rural</td>\n",
       "      <td>N</td>\n",
       "    </tr>\n",
       "    <tr>\n",
       "      <th>2</th>\n",
       "      <td>LP001005</td>\n",
       "      <td>Male</td>\n",
       "      <td>Yes</td>\n",
       "      <td>0</td>\n",
       "      <td>Graduate</td>\n",
       "      <td>Yes</td>\n",
       "      <td>3000</td>\n",
       "      <td>0.0</td>\n",
       "      <td>66.0</td>\n",
       "      <td>360.0</td>\n",
       "      <td>1.0</td>\n",
       "      <td>Urban</td>\n",
       "      <td>Y</td>\n",
       "    </tr>\n",
       "    <tr>\n",
       "      <th>3</th>\n",
       "      <td>LP001006</td>\n",
       "      <td>Male</td>\n",
       "      <td>Yes</td>\n",
       "      <td>0</td>\n",
       "      <td>Not Graduate</td>\n",
       "      <td>No</td>\n",
       "      <td>2583</td>\n",
       "      <td>2358.0</td>\n",
       "      <td>120.0</td>\n",
       "      <td>360.0</td>\n",
       "      <td>1.0</td>\n",
       "      <td>Urban</td>\n",
       "      <td>Y</td>\n",
       "    </tr>\n",
       "    <tr>\n",
       "      <th>4</th>\n",
       "      <td>LP001008</td>\n",
       "      <td>Male</td>\n",
       "      <td>No</td>\n",
       "      <td>0</td>\n",
       "      <td>Graduate</td>\n",
       "      <td>No</td>\n",
       "      <td>6000</td>\n",
       "      <td>0.0</td>\n",
       "      <td>141.0</td>\n",
       "      <td>360.0</td>\n",
       "      <td>1.0</td>\n",
       "      <td>Urban</td>\n",
       "      <td>Y</td>\n",
       "    </tr>\n",
       "  </tbody>\n",
       "</table>\n",
       "</div>"
      ],
      "text/plain": [
       "    Loan_ID Gender Married Dependents     Education Self_Employed  \\\n",
       "0  LP001002   Male      No          0      Graduate            No   \n",
       "1  LP001003   Male     Yes          1      Graduate            No   \n",
       "2  LP001005   Male     Yes          0      Graduate           Yes   \n",
       "3  LP001006   Male     Yes          0  Not Graduate            No   \n",
       "4  LP001008   Male      No          0      Graduate            No   \n",
       "\n",
       "   ApplicantIncome  CoapplicantIncome  LoanAmount  Loan_Amount_Term  \\\n",
       "0             5849                0.0         NaN             360.0   \n",
       "1             4583             1508.0       128.0             360.0   \n",
       "2             3000                0.0        66.0             360.0   \n",
       "3             2583             2358.0       120.0             360.0   \n",
       "4             6000                0.0       141.0             360.0   \n",
       "\n",
       "   Credit_History Property_Area Loan_Status  \n",
       "0             1.0         Urban           Y  \n",
       "1             1.0         Rural           N  \n",
       "2             1.0         Urban           Y  \n",
       "3             1.0         Urban           Y  \n",
       "4             1.0         Urban           Y  "
      ]
     },
     "execution_count": 7,
     "metadata": {},
     "output_type": "execute_result"
    }
   ],
   "source": [
    "# first five observation for train\n",
    "train.head()"
   ]
  },
  {
   "cell_type": "code",
   "execution_count": 8,
   "metadata": {
    "code_folding": [
     0
    ],
    "slideshow": {
     "slide_type": "subslide"
    }
   },
   "outputs": [
    {
     "data": {
      "text/html": [
       "<div>\n",
       "<style scoped>\n",
       "    .dataframe tbody tr th:only-of-type {\n",
       "        vertical-align: middle;\n",
       "    }\n",
       "\n",
       "    .dataframe tbody tr th {\n",
       "        vertical-align: top;\n",
       "    }\n",
       "\n",
       "    .dataframe thead th {\n",
       "        text-align: right;\n",
       "    }\n",
       "</style>\n",
       "<table border=\"1\" class=\"dataframe\">\n",
       "  <thead>\n",
       "    <tr style=\"text-align: right;\">\n",
       "      <th></th>\n",
       "      <th>Loan_ID</th>\n",
       "      <th>Gender</th>\n",
       "      <th>Married</th>\n",
       "      <th>Dependents</th>\n",
       "      <th>Education</th>\n",
       "      <th>Self_Employed</th>\n",
       "      <th>ApplicantIncome</th>\n",
       "      <th>CoapplicantIncome</th>\n",
       "      <th>LoanAmount</th>\n",
       "      <th>Loan_Amount_Term</th>\n",
       "      <th>Credit_History</th>\n",
       "      <th>Property_Area</th>\n",
       "    </tr>\n",
       "  </thead>\n",
       "  <tbody>\n",
       "    <tr>\n",
       "      <th>0</th>\n",
       "      <td>LP001015</td>\n",
       "      <td>Male</td>\n",
       "      <td>Yes</td>\n",
       "      <td>0</td>\n",
       "      <td>Graduate</td>\n",
       "      <td>No</td>\n",
       "      <td>5720</td>\n",
       "      <td>0</td>\n",
       "      <td>110.0</td>\n",
       "      <td>360.0</td>\n",
       "      <td>1.0</td>\n",
       "      <td>Urban</td>\n",
       "    </tr>\n",
       "    <tr>\n",
       "      <th>1</th>\n",
       "      <td>LP001022</td>\n",
       "      <td>Male</td>\n",
       "      <td>Yes</td>\n",
       "      <td>1</td>\n",
       "      <td>Graduate</td>\n",
       "      <td>No</td>\n",
       "      <td>3076</td>\n",
       "      <td>1500</td>\n",
       "      <td>126.0</td>\n",
       "      <td>360.0</td>\n",
       "      <td>1.0</td>\n",
       "      <td>Urban</td>\n",
       "    </tr>\n",
       "    <tr>\n",
       "      <th>2</th>\n",
       "      <td>LP001031</td>\n",
       "      <td>Male</td>\n",
       "      <td>Yes</td>\n",
       "      <td>2</td>\n",
       "      <td>Graduate</td>\n",
       "      <td>No</td>\n",
       "      <td>5000</td>\n",
       "      <td>1800</td>\n",
       "      <td>208.0</td>\n",
       "      <td>360.0</td>\n",
       "      <td>1.0</td>\n",
       "      <td>Urban</td>\n",
       "    </tr>\n",
       "    <tr>\n",
       "      <th>3</th>\n",
       "      <td>LP001035</td>\n",
       "      <td>Male</td>\n",
       "      <td>Yes</td>\n",
       "      <td>2</td>\n",
       "      <td>Graduate</td>\n",
       "      <td>No</td>\n",
       "      <td>2340</td>\n",
       "      <td>2546</td>\n",
       "      <td>100.0</td>\n",
       "      <td>360.0</td>\n",
       "      <td>NaN</td>\n",
       "      <td>Urban</td>\n",
       "    </tr>\n",
       "    <tr>\n",
       "      <th>4</th>\n",
       "      <td>LP001051</td>\n",
       "      <td>Male</td>\n",
       "      <td>No</td>\n",
       "      <td>0</td>\n",
       "      <td>Not Graduate</td>\n",
       "      <td>No</td>\n",
       "      <td>3276</td>\n",
       "      <td>0</td>\n",
       "      <td>78.0</td>\n",
       "      <td>360.0</td>\n",
       "      <td>1.0</td>\n",
       "      <td>Urban</td>\n",
       "    </tr>\n",
       "  </tbody>\n",
       "</table>\n",
       "</div>"
      ],
      "text/plain": [
       "    Loan_ID Gender Married Dependents     Education Self_Employed  \\\n",
       "0  LP001015   Male     Yes          0      Graduate            No   \n",
       "1  LP001022   Male     Yes          1      Graduate            No   \n",
       "2  LP001031   Male     Yes          2      Graduate            No   \n",
       "3  LP001035   Male     Yes          2      Graduate            No   \n",
       "4  LP001051   Male      No          0  Not Graduate            No   \n",
       "\n",
       "   ApplicantIncome  CoapplicantIncome  LoanAmount  Loan_Amount_Term  \\\n",
       "0             5720                  0       110.0             360.0   \n",
       "1             3076               1500       126.0             360.0   \n",
       "2             5000               1800       208.0             360.0   \n",
       "3             2340               2546       100.0             360.0   \n",
       "4             3276                  0        78.0             360.0   \n",
       "\n",
       "   Credit_History Property_Area  \n",
       "0             1.0         Urban  \n",
       "1             1.0         Urban  \n",
       "2             1.0         Urban  \n",
       "3             NaN         Urban  \n",
       "4             1.0         Urban  "
      ]
     },
     "execution_count": 8,
     "metadata": {},
     "output_type": "execute_result"
    }
   ],
   "source": [
    "# first five observation for train\n",
    "test.head()"
   ]
  },
  {
   "cell_type": "markdown",
   "metadata": {
    "slideshow": {
     "slide_type": "slide"
    }
   },
   "source": [
    "`Fractional sample of the dataset at the different point. This select a random sample every time the code is run. Its essence is to obtain a more specific overview of each features.`"
   ]
  },
  {
   "cell_type": "code",
   "execution_count": 9,
   "metadata": {
    "code_folding": [
     0
    ],
    "scrolled": true,
    "slideshow": {
     "slide_type": "fragment"
    }
   },
   "outputs": [
    {
     "data": {
      "text/html": [
       "<div>\n",
       "<style scoped>\n",
       "    .dataframe tbody tr th:only-of-type {\n",
       "        vertical-align: middle;\n",
       "    }\n",
       "\n",
       "    .dataframe tbody tr th {\n",
       "        vertical-align: top;\n",
       "    }\n",
       "\n",
       "    .dataframe thead th {\n",
       "        text-align: right;\n",
       "    }\n",
       "</style>\n",
       "<table border=\"1\" class=\"dataframe\">\n",
       "  <thead>\n",
       "    <tr style=\"text-align: right;\">\n",
       "      <th></th>\n",
       "      <th>Loan_ID</th>\n",
       "      <th>Gender</th>\n",
       "      <th>Married</th>\n",
       "      <th>Dependents</th>\n",
       "      <th>Education</th>\n",
       "      <th>Self_Employed</th>\n",
       "      <th>ApplicantIncome</th>\n",
       "      <th>CoapplicantIncome</th>\n",
       "      <th>LoanAmount</th>\n",
       "      <th>Loan_Amount_Term</th>\n",
       "      <th>Credit_History</th>\n",
       "      <th>Property_Area</th>\n",
       "      <th>Loan_Status</th>\n",
       "    </tr>\n",
       "  </thead>\n",
       "  <tbody>\n",
       "    <tr>\n",
       "      <th>254</th>\n",
       "      <td>LP001844</td>\n",
       "      <td>Male</td>\n",
       "      <td>No</td>\n",
       "      <td>0</td>\n",
       "      <td>Graduate</td>\n",
       "      <td>Yes</td>\n",
       "      <td>16250</td>\n",
       "      <td>0.000000</td>\n",
       "      <td>192.0</td>\n",
       "      <td>360.0</td>\n",
       "      <td>0.0</td>\n",
       "      <td>Urban</td>\n",
       "      <td>N</td>\n",
       "    </tr>\n",
       "    <tr>\n",
       "      <th>118</th>\n",
       "      <td>LP001421</td>\n",
       "      <td>Male</td>\n",
       "      <td>Yes</td>\n",
       "      <td>0</td>\n",
       "      <td>Graduate</td>\n",
       "      <td>No</td>\n",
       "      <td>5568</td>\n",
       "      <td>2142.000000</td>\n",
       "      <td>175.0</td>\n",
       "      <td>360.0</td>\n",
       "      <td>1.0</td>\n",
       "      <td>Rural</td>\n",
       "      <td>N</td>\n",
       "    </tr>\n",
       "    <tr>\n",
       "      <th>69</th>\n",
       "      <td>LP001241</td>\n",
       "      <td>Female</td>\n",
       "      <td>No</td>\n",
       "      <td>0</td>\n",
       "      <td>Graduate</td>\n",
       "      <td>No</td>\n",
       "      <td>4300</td>\n",
       "      <td>0.000000</td>\n",
       "      <td>136.0</td>\n",
       "      <td>360.0</td>\n",
       "      <td>0.0</td>\n",
       "      <td>Semiurban</td>\n",
       "      <td>N</td>\n",
       "    </tr>\n",
       "    <tr>\n",
       "      <th>282</th>\n",
       "      <td>LP001915</td>\n",
       "      <td>Male</td>\n",
       "      <td>Yes</td>\n",
       "      <td>2</td>\n",
       "      <td>Graduate</td>\n",
       "      <td>No</td>\n",
       "      <td>2301</td>\n",
       "      <td>985.799988</td>\n",
       "      <td>78.0</td>\n",
       "      <td>180.0</td>\n",
       "      <td>1.0</td>\n",
       "      <td>Urban</td>\n",
       "      <td>Y</td>\n",
       "    </tr>\n",
       "    <tr>\n",
       "      <th>342</th>\n",
       "      <td>LP002119</td>\n",
       "      <td>Male</td>\n",
       "      <td>Yes</td>\n",
       "      <td>1</td>\n",
       "      <td>Not Graduate</td>\n",
       "      <td>No</td>\n",
       "      <td>4554</td>\n",
       "      <td>1229.000000</td>\n",
       "      <td>158.0</td>\n",
       "      <td>360.0</td>\n",
       "      <td>1.0</td>\n",
       "      <td>Urban</td>\n",
       "      <td>Y</td>\n",
       "    </tr>\n",
       "    <tr>\n",
       "      <th>87</th>\n",
       "      <td>LP001282</td>\n",
       "      <td>Male</td>\n",
       "      <td>Yes</td>\n",
       "      <td>0</td>\n",
       "      <td>Graduate</td>\n",
       "      <td>No</td>\n",
       "      <td>2500</td>\n",
       "      <td>2118.000000</td>\n",
       "      <td>104.0</td>\n",
       "      <td>360.0</td>\n",
       "      <td>1.0</td>\n",
       "      <td>Semiurban</td>\n",
       "      <td>Y</td>\n",
       "    </tr>\n",
       "    <tr>\n",
       "      <th>297</th>\n",
       "      <td>LP001954</td>\n",
       "      <td>Female</td>\n",
       "      <td>Yes</td>\n",
       "      <td>1</td>\n",
       "      <td>Graduate</td>\n",
       "      <td>No</td>\n",
       "      <td>4666</td>\n",
       "      <td>0.000000</td>\n",
       "      <td>135.0</td>\n",
       "      <td>360.0</td>\n",
       "      <td>1.0</td>\n",
       "      <td>Urban</td>\n",
       "      <td>Y</td>\n",
       "    </tr>\n",
       "    <tr>\n",
       "      <th>307</th>\n",
       "      <td>LP001994</td>\n",
       "      <td>Female</td>\n",
       "      <td>No</td>\n",
       "      <td>0</td>\n",
       "      <td>Graduate</td>\n",
       "      <td>No</td>\n",
       "      <td>2400</td>\n",
       "      <td>1863.000000</td>\n",
       "      <td>104.0</td>\n",
       "      <td>360.0</td>\n",
       "      <td>0.0</td>\n",
       "      <td>Urban</td>\n",
       "      <td>N</td>\n",
       "    </tr>\n",
       "    <tr>\n",
       "      <th>325</th>\n",
       "      <td>LP002067</td>\n",
       "      <td>Male</td>\n",
       "      <td>Yes</td>\n",
       "      <td>1</td>\n",
       "      <td>Graduate</td>\n",
       "      <td>Yes</td>\n",
       "      <td>8666</td>\n",
       "      <td>4983.000000</td>\n",
       "      <td>376.0</td>\n",
       "      <td>360.0</td>\n",
       "      <td>0.0</td>\n",
       "      <td>Rural</td>\n",
       "      <td>N</td>\n",
       "    </tr>\n",
       "    <tr>\n",
       "      <th>364</th>\n",
       "      <td>LP002180</td>\n",
       "      <td>Male</td>\n",
       "      <td>No</td>\n",
       "      <td>0</td>\n",
       "      <td>Graduate</td>\n",
       "      <td>Yes</td>\n",
       "      <td>6822</td>\n",
       "      <td>0.000000</td>\n",
       "      <td>141.0</td>\n",
       "      <td>360.0</td>\n",
       "      <td>1.0</td>\n",
       "      <td>Rural</td>\n",
       "      <td>Y</td>\n",
       "    </tr>\n",
       "    <tr>\n",
       "      <th>289</th>\n",
       "      <td>LP001935</td>\n",
       "      <td>Male</td>\n",
       "      <td>No</td>\n",
       "      <td>0</td>\n",
       "      <td>Graduate</td>\n",
       "      <td>No</td>\n",
       "      <td>9508</td>\n",
       "      <td>0.000000</td>\n",
       "      <td>187.0</td>\n",
       "      <td>360.0</td>\n",
       "      <td>1.0</td>\n",
       "      <td>Rural</td>\n",
       "      <td>Y</td>\n",
       "    </tr>\n",
       "    <tr>\n",
       "      <th>417</th>\n",
       "      <td>LP002342</td>\n",
       "      <td>Male</td>\n",
       "      <td>Yes</td>\n",
       "      <td>2</td>\n",
       "      <td>Graduate</td>\n",
       "      <td>Yes</td>\n",
       "      <td>1600</td>\n",
       "      <td>20000.000000</td>\n",
       "      <td>239.0</td>\n",
       "      <td>360.0</td>\n",
       "      <td>1.0</td>\n",
       "      <td>Urban</td>\n",
       "      <td>N</td>\n",
       "    </tr>\n",
       "    <tr>\n",
       "      <th>405</th>\n",
       "      <td>LP002305</td>\n",
       "      <td>Female</td>\n",
       "      <td>No</td>\n",
       "      <td>0</td>\n",
       "      <td>Graduate</td>\n",
       "      <td>No</td>\n",
       "      <td>4547</td>\n",
       "      <td>0.000000</td>\n",
       "      <td>115.0</td>\n",
       "      <td>360.0</td>\n",
       "      <td>1.0</td>\n",
       "      <td>Semiurban</td>\n",
       "      <td>Y</td>\n",
       "    </tr>\n",
       "    <tr>\n",
       "      <th>128</th>\n",
       "      <td>LP001451</td>\n",
       "      <td>Male</td>\n",
       "      <td>Yes</td>\n",
       "      <td>1</td>\n",
       "      <td>Graduate</td>\n",
       "      <td>Yes</td>\n",
       "      <td>10513</td>\n",
       "      <td>3850.000000</td>\n",
       "      <td>160.0</td>\n",
       "      <td>180.0</td>\n",
       "      <td>0.0</td>\n",
       "      <td>Urban</td>\n",
       "      <td>N</td>\n",
       "    </tr>\n",
       "    <tr>\n",
       "      <th>554</th>\n",
       "      <td>LP002789</td>\n",
       "      <td>Male</td>\n",
       "      <td>Yes</td>\n",
       "      <td>0</td>\n",
       "      <td>Graduate</td>\n",
       "      <td>No</td>\n",
       "      <td>3593</td>\n",
       "      <td>4266.000000</td>\n",
       "      <td>132.0</td>\n",
       "      <td>180.0</td>\n",
       "      <td>0.0</td>\n",
       "      <td>Rural</td>\n",
       "      <td>N</td>\n",
       "    </tr>\n",
       "    <tr>\n",
       "      <th>290</th>\n",
       "      <td>LP001936</td>\n",
       "      <td>Male</td>\n",
       "      <td>Yes</td>\n",
       "      <td>0</td>\n",
       "      <td>Graduate</td>\n",
       "      <td>No</td>\n",
       "      <td>3075</td>\n",
       "      <td>2416.000000</td>\n",
       "      <td>139.0</td>\n",
       "      <td>360.0</td>\n",
       "      <td>1.0</td>\n",
       "      <td>Rural</td>\n",
       "      <td>Y</td>\n",
       "    </tr>\n",
       "    <tr>\n",
       "      <th>338</th>\n",
       "      <td>LP002113</td>\n",
       "      <td>Female</td>\n",
       "      <td>No</td>\n",
       "      <td>3+</td>\n",
       "      <td>Not Graduate</td>\n",
       "      <td>No</td>\n",
       "      <td>1830</td>\n",
       "      <td>0.000000</td>\n",
       "      <td>NaN</td>\n",
       "      <td>360.0</td>\n",
       "      <td>0.0</td>\n",
       "      <td>Urban</td>\n",
       "      <td>N</td>\n",
       "    </tr>\n",
       "    <tr>\n",
       "      <th>470</th>\n",
       "      <td>LP002515</td>\n",
       "      <td>Male</td>\n",
       "      <td>Yes</td>\n",
       "      <td>1</td>\n",
       "      <td>Graduate</td>\n",
       "      <td>Yes</td>\n",
       "      <td>3450</td>\n",
       "      <td>2079.000000</td>\n",
       "      <td>162.0</td>\n",
       "      <td>360.0</td>\n",
       "      <td>1.0</td>\n",
       "      <td>Semiurban</td>\n",
       "      <td>Y</td>\n",
       "    </tr>\n",
       "    <tr>\n",
       "      <th>293</th>\n",
       "      <td>LP001945</td>\n",
       "      <td>Female</td>\n",
       "      <td>No</td>\n",
       "      <td>NaN</td>\n",
       "      <td>Graduate</td>\n",
       "      <td>No</td>\n",
       "      <td>5417</td>\n",
       "      <td>0.000000</td>\n",
       "      <td>143.0</td>\n",
       "      <td>480.0</td>\n",
       "      <td>0.0</td>\n",
       "      <td>Urban</td>\n",
       "      <td>N</td>\n",
       "    </tr>\n",
       "    <tr>\n",
       "      <th>561</th>\n",
       "      <td>LP002813</td>\n",
       "      <td>Female</td>\n",
       "      <td>Yes</td>\n",
       "      <td>1</td>\n",
       "      <td>Graduate</td>\n",
       "      <td>Yes</td>\n",
       "      <td>19484</td>\n",
       "      <td>0.000000</td>\n",
       "      <td>600.0</td>\n",
       "      <td>360.0</td>\n",
       "      <td>1.0</td>\n",
       "      <td>Semiurban</td>\n",
       "      <td>Y</td>\n",
       "    </tr>\n",
       "    <tr>\n",
       "      <th>136</th>\n",
       "      <td>LP001489</td>\n",
       "      <td>Female</td>\n",
       "      <td>Yes</td>\n",
       "      <td>0</td>\n",
       "      <td>Graduate</td>\n",
       "      <td>No</td>\n",
       "      <td>4583</td>\n",
       "      <td>0.000000</td>\n",
       "      <td>84.0</td>\n",
       "      <td>360.0</td>\n",
       "      <td>1.0</td>\n",
       "      <td>Rural</td>\n",
       "      <td>N</td>\n",
       "    </tr>\n",
       "    <tr>\n",
       "      <th>215</th>\n",
       "      <td>LP001720</td>\n",
       "      <td>Male</td>\n",
       "      <td>Yes</td>\n",
       "      <td>3+</td>\n",
       "      <td>Not Graduate</td>\n",
       "      <td>No</td>\n",
       "      <td>3850</td>\n",
       "      <td>983.000000</td>\n",
       "      <td>100.0</td>\n",
       "      <td>360.0</td>\n",
       "      <td>1.0</td>\n",
       "      <td>Semiurban</td>\n",
       "      <td>Y</td>\n",
       "    </tr>\n",
       "    <tr>\n",
       "      <th>186</th>\n",
       "      <td>LP001641</td>\n",
       "      <td>Male</td>\n",
       "      <td>Yes</td>\n",
       "      <td>1</td>\n",
       "      <td>Graduate</td>\n",
       "      <td>Yes</td>\n",
       "      <td>2178</td>\n",
       "      <td>0.000000</td>\n",
       "      <td>66.0</td>\n",
       "      <td>300.0</td>\n",
       "      <td>0.0</td>\n",
       "      <td>Rural</td>\n",
       "      <td>N</td>\n",
       "    </tr>\n",
       "    <tr>\n",
       "      <th>156</th>\n",
       "      <td>LP001541</td>\n",
       "      <td>Male</td>\n",
       "      <td>Yes</td>\n",
       "      <td>1</td>\n",
       "      <td>Graduate</td>\n",
       "      <td>No</td>\n",
       "      <td>6000</td>\n",
       "      <td>0.000000</td>\n",
       "      <td>160.0</td>\n",
       "      <td>360.0</td>\n",
       "      <td>NaN</td>\n",
       "      <td>Rural</td>\n",
       "      <td>Y</td>\n",
       "    </tr>\n",
       "    <tr>\n",
       "      <th>520</th>\n",
       "      <td>LP002689</td>\n",
       "      <td>Male</td>\n",
       "      <td>Yes</td>\n",
       "      <td>2</td>\n",
       "      <td>Not Graduate</td>\n",
       "      <td>No</td>\n",
       "      <td>2192</td>\n",
       "      <td>1742.000000</td>\n",
       "      <td>45.0</td>\n",
       "      <td>360.0</td>\n",
       "      <td>1.0</td>\n",
       "      <td>Semiurban</td>\n",
       "      <td>Y</td>\n",
       "    </tr>\n",
       "    <tr>\n",
       "      <th>272</th>\n",
       "      <td>LP001892</td>\n",
       "      <td>Male</td>\n",
       "      <td>No</td>\n",
       "      <td>0</td>\n",
       "      <td>Graduate</td>\n",
       "      <td>No</td>\n",
       "      <td>2833</td>\n",
       "      <td>1857.000000</td>\n",
       "      <td>126.0</td>\n",
       "      <td>360.0</td>\n",
       "      <td>1.0</td>\n",
       "      <td>Rural</td>\n",
       "      <td>Y</td>\n",
       "    </tr>\n",
       "    <tr>\n",
       "      <th>20</th>\n",
       "      <td>LP001043</td>\n",
       "      <td>Male</td>\n",
       "      <td>Yes</td>\n",
       "      <td>0</td>\n",
       "      <td>Not Graduate</td>\n",
       "      <td>No</td>\n",
       "      <td>7660</td>\n",
       "      <td>0.000000</td>\n",
       "      <td>104.0</td>\n",
       "      <td>360.0</td>\n",
       "      <td>0.0</td>\n",
       "      <td>Urban</td>\n",
       "      <td>N</td>\n",
       "    </tr>\n",
       "    <tr>\n",
       "      <th>468</th>\n",
       "      <td>LP002502</td>\n",
       "      <td>Female</td>\n",
       "      <td>Yes</td>\n",
       "      <td>2</td>\n",
       "      <td>Not Graduate</td>\n",
       "      <td>NaN</td>\n",
       "      <td>210</td>\n",
       "      <td>2917.000000</td>\n",
       "      <td>98.0</td>\n",
       "      <td>360.0</td>\n",
       "      <td>1.0</td>\n",
       "      <td>Semiurban</td>\n",
       "      <td>Y</td>\n",
       "    </tr>\n",
       "    <tr>\n",
       "      <th>547</th>\n",
       "      <td>LP002772</td>\n",
       "      <td>Male</td>\n",
       "      <td>No</td>\n",
       "      <td>0</td>\n",
       "      <td>Graduate</td>\n",
       "      <td>No</td>\n",
       "      <td>2526</td>\n",
       "      <td>1783.000000</td>\n",
       "      <td>145.0</td>\n",
       "      <td>360.0</td>\n",
       "      <td>1.0</td>\n",
       "      <td>Rural</td>\n",
       "      <td>Y</td>\n",
       "    </tr>\n",
       "    <tr>\n",
       "      <th>251</th>\n",
       "      <td>LP001836</td>\n",
       "      <td>Female</td>\n",
       "      <td>No</td>\n",
       "      <td>2</td>\n",
       "      <td>Graduate</td>\n",
       "      <td>No</td>\n",
       "      <td>3427</td>\n",
       "      <td>0.000000</td>\n",
       "      <td>138.0</td>\n",
       "      <td>360.0</td>\n",
       "      <td>1.0</td>\n",
       "      <td>Urban</td>\n",
       "      <td>N</td>\n",
       "    </tr>\n",
       "    <tr>\n",
       "      <th>...</th>\n",
       "      <td>...</td>\n",
       "      <td>...</td>\n",
       "      <td>...</td>\n",
       "      <td>...</td>\n",
       "      <td>...</td>\n",
       "      <td>...</td>\n",
       "      <td>...</td>\n",
       "      <td>...</td>\n",
       "      <td>...</td>\n",
       "      <td>...</td>\n",
       "      <td>...</td>\n",
       "      <td>...</td>\n",
       "      <td>...</td>\n",
       "    </tr>\n",
       "    <tr>\n",
       "      <th>482</th>\n",
       "      <td>LP002537</td>\n",
       "      <td>Male</td>\n",
       "      <td>Yes</td>\n",
       "      <td>0</td>\n",
       "      <td>Graduate</td>\n",
       "      <td>No</td>\n",
       "      <td>2083</td>\n",
       "      <td>3150.000000</td>\n",
       "      <td>128.0</td>\n",
       "      <td>360.0</td>\n",
       "      <td>1.0</td>\n",
       "      <td>Semiurban</td>\n",
       "      <td>Y</td>\n",
       "    </tr>\n",
       "    <tr>\n",
       "      <th>463</th>\n",
       "      <td>LP002489</td>\n",
       "      <td>Female</td>\n",
       "      <td>No</td>\n",
       "      <td>1</td>\n",
       "      <td>Not Graduate</td>\n",
       "      <td>NaN</td>\n",
       "      <td>5191</td>\n",
       "      <td>0.000000</td>\n",
       "      <td>132.0</td>\n",
       "      <td>360.0</td>\n",
       "      <td>1.0</td>\n",
       "      <td>Semiurban</td>\n",
       "      <td>Y</td>\n",
       "    </tr>\n",
       "    <tr>\n",
       "      <th>295</th>\n",
       "      <td>LP001949</td>\n",
       "      <td>Male</td>\n",
       "      <td>Yes</td>\n",
       "      <td>3+</td>\n",
       "      <td>Graduate</td>\n",
       "      <td>NaN</td>\n",
       "      <td>4416</td>\n",
       "      <td>1250.000000</td>\n",
       "      <td>110.0</td>\n",
       "      <td>360.0</td>\n",
       "      <td>1.0</td>\n",
       "      <td>Urban</td>\n",
       "      <td>Y</td>\n",
       "    </tr>\n",
       "    <tr>\n",
       "      <th>523</th>\n",
       "      <td>LP002693</td>\n",
       "      <td>Male</td>\n",
       "      <td>Yes</td>\n",
       "      <td>2</td>\n",
       "      <td>Graduate</td>\n",
       "      <td>Yes</td>\n",
       "      <td>7948</td>\n",
       "      <td>7166.000000</td>\n",
       "      <td>480.0</td>\n",
       "      <td>360.0</td>\n",
       "      <td>1.0</td>\n",
       "      <td>Rural</td>\n",
       "      <td>Y</td>\n",
       "    </tr>\n",
       "    <tr>\n",
       "      <th>574</th>\n",
       "      <td>LP002863</td>\n",
       "      <td>Male</td>\n",
       "      <td>Yes</td>\n",
       "      <td>3+</td>\n",
       "      <td>Graduate</td>\n",
       "      <td>No</td>\n",
       "      <td>6406</td>\n",
       "      <td>0.000000</td>\n",
       "      <td>150.0</td>\n",
       "      <td>360.0</td>\n",
       "      <td>1.0</td>\n",
       "      <td>Semiurban</td>\n",
       "      <td>N</td>\n",
       "    </tr>\n",
       "    <tr>\n",
       "      <th>40</th>\n",
       "      <td>LP001119</td>\n",
       "      <td>Male</td>\n",
       "      <td>No</td>\n",
       "      <td>0</td>\n",
       "      <td>Graduate</td>\n",
       "      <td>No</td>\n",
       "      <td>3600</td>\n",
       "      <td>0.000000</td>\n",
       "      <td>80.0</td>\n",
       "      <td>360.0</td>\n",
       "      <td>1.0</td>\n",
       "      <td>Urban</td>\n",
       "      <td>N</td>\n",
       "    </tr>\n",
       "    <tr>\n",
       "      <th>205</th>\n",
       "      <td>LP001692</td>\n",
       "      <td>Female</td>\n",
       "      <td>No</td>\n",
       "      <td>0</td>\n",
       "      <td>Not Graduate</td>\n",
       "      <td>No</td>\n",
       "      <td>4408</td>\n",
       "      <td>0.000000</td>\n",
       "      <td>120.0</td>\n",
       "      <td>360.0</td>\n",
       "      <td>1.0</td>\n",
       "      <td>Semiurban</td>\n",
       "      <td>Y</td>\n",
       "    </tr>\n",
       "    <tr>\n",
       "      <th>278</th>\n",
       "      <td>LP001907</td>\n",
       "      <td>Male</td>\n",
       "      <td>Yes</td>\n",
       "      <td>0</td>\n",
       "      <td>Graduate</td>\n",
       "      <td>No</td>\n",
       "      <td>14583</td>\n",
       "      <td>0.000000</td>\n",
       "      <td>436.0</td>\n",
       "      <td>360.0</td>\n",
       "      <td>1.0</td>\n",
       "      <td>Semiurban</td>\n",
       "      <td>Y</td>\n",
       "    </tr>\n",
       "    <tr>\n",
       "      <th>333</th>\n",
       "      <td>LP002101</td>\n",
       "      <td>Male</td>\n",
       "      <td>Yes</td>\n",
       "      <td>0</td>\n",
       "      <td>Graduate</td>\n",
       "      <td>NaN</td>\n",
       "      <td>63337</td>\n",
       "      <td>0.000000</td>\n",
       "      <td>490.0</td>\n",
       "      <td>180.0</td>\n",
       "      <td>1.0</td>\n",
       "      <td>Urban</td>\n",
       "      <td>Y</td>\n",
       "    </tr>\n",
       "    <tr>\n",
       "      <th>88</th>\n",
       "      <td>LP001289</td>\n",
       "      <td>Male</td>\n",
       "      <td>No</td>\n",
       "      <td>0</td>\n",
       "      <td>Graduate</td>\n",
       "      <td>No</td>\n",
       "      <td>8566</td>\n",
       "      <td>0.000000</td>\n",
       "      <td>210.0</td>\n",
       "      <td>360.0</td>\n",
       "      <td>1.0</td>\n",
       "      <td>Urban</td>\n",
       "      <td>Y</td>\n",
       "    </tr>\n",
       "    <tr>\n",
       "      <th>176</th>\n",
       "      <td>LP001608</td>\n",
       "      <td>Male</td>\n",
       "      <td>Yes</td>\n",
       "      <td>2</td>\n",
       "      <td>Graduate</td>\n",
       "      <td>No</td>\n",
       "      <td>2045</td>\n",
       "      <td>1619.000000</td>\n",
       "      <td>101.0</td>\n",
       "      <td>360.0</td>\n",
       "      <td>1.0</td>\n",
       "      <td>Rural</td>\n",
       "      <td>Y</td>\n",
       "    </tr>\n",
       "    <tr>\n",
       "      <th>486</th>\n",
       "      <td>LP002545</td>\n",
       "      <td>Male</td>\n",
       "      <td>No</td>\n",
       "      <td>2</td>\n",
       "      <td>Graduate</td>\n",
       "      <td>No</td>\n",
       "      <td>3547</td>\n",
       "      <td>0.000000</td>\n",
       "      <td>80.0</td>\n",
       "      <td>360.0</td>\n",
       "      <td>0.0</td>\n",
       "      <td>Rural</td>\n",
       "      <td>N</td>\n",
       "    </tr>\n",
       "    <tr>\n",
       "      <th>245</th>\n",
       "      <td>LP001813</td>\n",
       "      <td>Male</td>\n",
       "      <td>No</td>\n",
       "      <td>0</td>\n",
       "      <td>Graduate</td>\n",
       "      <td>Yes</td>\n",
       "      <td>6050</td>\n",
       "      <td>4333.000000</td>\n",
       "      <td>120.0</td>\n",
       "      <td>180.0</td>\n",
       "      <td>1.0</td>\n",
       "      <td>Urban</td>\n",
       "      <td>N</td>\n",
       "    </tr>\n",
       "    <tr>\n",
       "      <th>310</th>\n",
       "      <td>LP002002</td>\n",
       "      <td>Female</td>\n",
       "      <td>No</td>\n",
       "      <td>0</td>\n",
       "      <td>Graduate</td>\n",
       "      <td>No</td>\n",
       "      <td>2917</td>\n",
       "      <td>0.000000</td>\n",
       "      <td>84.0</td>\n",
       "      <td>360.0</td>\n",
       "      <td>1.0</td>\n",
       "      <td>Semiurban</td>\n",
       "      <td>Y</td>\n",
       "    </tr>\n",
       "    <tr>\n",
       "      <th>361</th>\n",
       "      <td>LP002170</td>\n",
       "      <td>Male</td>\n",
       "      <td>Yes</td>\n",
       "      <td>2</td>\n",
       "      <td>Graduate</td>\n",
       "      <td>No</td>\n",
       "      <td>5000</td>\n",
       "      <td>3667.000000</td>\n",
       "      <td>236.0</td>\n",
       "      <td>360.0</td>\n",
       "      <td>1.0</td>\n",
       "      <td>Semiurban</td>\n",
       "      <td>Y</td>\n",
       "    </tr>\n",
       "    <tr>\n",
       "      <th>472</th>\n",
       "      <td>LP002519</td>\n",
       "      <td>Male</td>\n",
       "      <td>Yes</td>\n",
       "      <td>3+</td>\n",
       "      <td>Graduate</td>\n",
       "      <td>No</td>\n",
       "      <td>4691</td>\n",
       "      <td>0.000000</td>\n",
       "      <td>100.0</td>\n",
       "      <td>360.0</td>\n",
       "      <td>1.0</td>\n",
       "      <td>Semiurban</td>\n",
       "      <td>Y</td>\n",
       "    </tr>\n",
       "    <tr>\n",
       "      <th>116</th>\n",
       "      <td>LP001404</td>\n",
       "      <td>Female</td>\n",
       "      <td>Yes</td>\n",
       "      <td>0</td>\n",
       "      <td>Graduate</td>\n",
       "      <td>No</td>\n",
       "      <td>3167</td>\n",
       "      <td>2283.000000</td>\n",
       "      <td>154.0</td>\n",
       "      <td>360.0</td>\n",
       "      <td>1.0</td>\n",
       "      <td>Semiurban</td>\n",
       "      <td>Y</td>\n",
       "    </tr>\n",
       "    <tr>\n",
       "      <th>277</th>\n",
       "      <td>LP001904</td>\n",
       "      <td>Male</td>\n",
       "      <td>Yes</td>\n",
       "      <td>0</td>\n",
       "      <td>Graduate</td>\n",
       "      <td>No</td>\n",
       "      <td>3103</td>\n",
       "      <td>1300.000000</td>\n",
       "      <td>80.0</td>\n",
       "      <td>360.0</td>\n",
       "      <td>1.0</td>\n",
       "      <td>Urban</td>\n",
       "      <td>Y</td>\n",
       "    </tr>\n",
       "    <tr>\n",
       "      <th>610</th>\n",
       "      <td>LP002979</td>\n",
       "      <td>Male</td>\n",
       "      <td>Yes</td>\n",
       "      <td>3+</td>\n",
       "      <td>Graduate</td>\n",
       "      <td>No</td>\n",
       "      <td>4106</td>\n",
       "      <td>0.000000</td>\n",
       "      <td>40.0</td>\n",
       "      <td>180.0</td>\n",
       "      <td>1.0</td>\n",
       "      <td>Rural</td>\n",
       "      <td>Y</td>\n",
       "    </tr>\n",
       "    <tr>\n",
       "      <th>329</th>\n",
       "      <td>LP002087</td>\n",
       "      <td>Female</td>\n",
       "      <td>No</td>\n",
       "      <td>0</td>\n",
       "      <td>Graduate</td>\n",
       "      <td>No</td>\n",
       "      <td>2500</td>\n",
       "      <td>0.000000</td>\n",
       "      <td>67.0</td>\n",
       "      <td>360.0</td>\n",
       "      <td>1.0</td>\n",
       "      <td>Urban</td>\n",
       "      <td>Y</td>\n",
       "    </tr>\n",
       "    <tr>\n",
       "      <th>421</th>\n",
       "      <td>LP002357</td>\n",
       "      <td>Female</td>\n",
       "      <td>No</td>\n",
       "      <td>0</td>\n",
       "      <td>Not Graduate</td>\n",
       "      <td>No</td>\n",
       "      <td>2720</td>\n",
       "      <td>0.000000</td>\n",
       "      <td>80.0</td>\n",
       "      <td>NaN</td>\n",
       "      <td>0.0</td>\n",
       "      <td>Urban</td>\n",
       "      <td>N</td>\n",
       "    </tr>\n",
       "    <tr>\n",
       "      <th>79</th>\n",
       "      <td>LP001264</td>\n",
       "      <td>Male</td>\n",
       "      <td>Yes</td>\n",
       "      <td>3+</td>\n",
       "      <td>Not Graduate</td>\n",
       "      <td>Yes</td>\n",
       "      <td>3333</td>\n",
       "      <td>2166.000000</td>\n",
       "      <td>130.0</td>\n",
       "      <td>360.0</td>\n",
       "      <td>NaN</td>\n",
       "      <td>Semiurban</td>\n",
       "      <td>Y</td>\n",
       "    </tr>\n",
       "    <tr>\n",
       "      <th>416</th>\n",
       "      <td>LP002341</td>\n",
       "      <td>Female</td>\n",
       "      <td>No</td>\n",
       "      <td>1</td>\n",
       "      <td>Graduate</td>\n",
       "      <td>No</td>\n",
       "      <td>2600</td>\n",
       "      <td>0.000000</td>\n",
       "      <td>160.0</td>\n",
       "      <td>360.0</td>\n",
       "      <td>1.0</td>\n",
       "      <td>Urban</td>\n",
       "      <td>N</td>\n",
       "    </tr>\n",
       "    <tr>\n",
       "      <th>426</th>\n",
       "      <td>LP002367</td>\n",
       "      <td>Female</td>\n",
       "      <td>No</td>\n",
       "      <td>1</td>\n",
       "      <td>Not Graduate</td>\n",
       "      <td>No</td>\n",
       "      <td>4606</td>\n",
       "      <td>0.000000</td>\n",
       "      <td>81.0</td>\n",
       "      <td>360.0</td>\n",
       "      <td>1.0</td>\n",
       "      <td>Rural</td>\n",
       "      <td>N</td>\n",
       "    </tr>\n",
       "    <tr>\n",
       "      <th>145</th>\n",
       "      <td>LP001514</td>\n",
       "      <td>Female</td>\n",
       "      <td>Yes</td>\n",
       "      <td>0</td>\n",
       "      <td>Graduate</td>\n",
       "      <td>No</td>\n",
       "      <td>2330</td>\n",
       "      <td>4486.000000</td>\n",
       "      <td>100.0</td>\n",
       "      <td>360.0</td>\n",
       "      <td>1.0</td>\n",
       "      <td>Semiurban</td>\n",
       "      <td>Y</td>\n",
       "    </tr>\n",
       "    <tr>\n",
       "      <th>280</th>\n",
       "      <td>LP001910</td>\n",
       "      <td>Male</td>\n",
       "      <td>No</td>\n",
       "      <td>1</td>\n",
       "      <td>Not Graduate</td>\n",
       "      <td>Yes</td>\n",
       "      <td>4053</td>\n",
       "      <td>2426.000000</td>\n",
       "      <td>158.0</td>\n",
       "      <td>360.0</td>\n",
       "      <td>0.0</td>\n",
       "      <td>Urban</td>\n",
       "      <td>N</td>\n",
       "    </tr>\n",
       "    <tr>\n",
       "      <th>480</th>\n",
       "      <td>LP002534</td>\n",
       "      <td>Female</td>\n",
       "      <td>No</td>\n",
       "      <td>0</td>\n",
       "      <td>Not Graduate</td>\n",
       "      <td>No</td>\n",
       "      <td>4350</td>\n",
       "      <td>0.000000</td>\n",
       "      <td>154.0</td>\n",
       "      <td>360.0</td>\n",
       "      <td>1.0</td>\n",
       "      <td>Rural</td>\n",
       "      <td>Y</td>\n",
       "    </tr>\n",
       "    <tr>\n",
       "      <th>217</th>\n",
       "      <td>LP001726</td>\n",
       "      <td>Male</td>\n",
       "      <td>Yes</td>\n",
       "      <td>0</td>\n",
       "      <td>Graduate</td>\n",
       "      <td>No</td>\n",
       "      <td>3727</td>\n",
       "      <td>1775.000000</td>\n",
       "      <td>131.0</td>\n",
       "      <td>360.0</td>\n",
       "      <td>1.0</td>\n",
       "      <td>Semiurban</td>\n",
       "      <td>Y</td>\n",
       "    </tr>\n",
       "    <tr>\n",
       "      <th>180</th>\n",
       "      <td>LP001633</td>\n",
       "      <td>Male</td>\n",
       "      <td>Yes</td>\n",
       "      <td>1</td>\n",
       "      <td>Graduate</td>\n",
       "      <td>No</td>\n",
       "      <td>6400</td>\n",
       "      <td>7250.000000</td>\n",
       "      <td>180.0</td>\n",
       "      <td>360.0</td>\n",
       "      <td>0.0</td>\n",
       "      <td>Urban</td>\n",
       "      <td>N</td>\n",
       "    </tr>\n",
       "    <tr>\n",
       "      <th>580</th>\n",
       "      <td>LP002892</td>\n",
       "      <td>Male</td>\n",
       "      <td>Yes</td>\n",
       "      <td>2</td>\n",
       "      <td>Graduate</td>\n",
       "      <td>No</td>\n",
       "      <td>6540</td>\n",
       "      <td>0.000000</td>\n",
       "      <td>205.0</td>\n",
       "      <td>360.0</td>\n",
       "      <td>1.0</td>\n",
       "      <td>Semiurban</td>\n",
       "      <td>Y</td>\n",
       "    </tr>\n",
       "  </tbody>\n",
       "</table>\n",
       "<p>61 rows × 13 columns</p>\n",
       "</div>"
      ],
      "text/plain": [
       "      Loan_ID  Gender Married Dependents     Education Self_Employed  \\\n",
       "254  LP001844    Male      No          0      Graduate           Yes   \n",
       "118  LP001421    Male     Yes          0      Graduate            No   \n",
       "69   LP001241  Female      No          0      Graduate            No   \n",
       "282  LP001915    Male     Yes          2      Graduate            No   \n",
       "342  LP002119    Male     Yes          1  Not Graduate            No   \n",
       "87   LP001282    Male     Yes          0      Graduate            No   \n",
       "297  LP001954  Female     Yes          1      Graduate            No   \n",
       "307  LP001994  Female      No          0      Graduate            No   \n",
       "325  LP002067    Male     Yes          1      Graduate           Yes   \n",
       "364  LP002180    Male      No          0      Graduate           Yes   \n",
       "289  LP001935    Male      No          0      Graduate            No   \n",
       "417  LP002342    Male     Yes          2      Graduate           Yes   \n",
       "405  LP002305  Female      No          0      Graduate            No   \n",
       "128  LP001451    Male     Yes          1      Graduate           Yes   \n",
       "554  LP002789    Male     Yes          0      Graduate            No   \n",
       "290  LP001936    Male     Yes          0      Graduate            No   \n",
       "338  LP002113  Female      No         3+  Not Graduate            No   \n",
       "470  LP002515    Male     Yes          1      Graduate           Yes   \n",
       "293  LP001945  Female      No        NaN      Graduate            No   \n",
       "561  LP002813  Female     Yes          1      Graduate           Yes   \n",
       "136  LP001489  Female     Yes          0      Graduate            No   \n",
       "215  LP001720    Male     Yes         3+  Not Graduate            No   \n",
       "186  LP001641    Male     Yes          1      Graduate           Yes   \n",
       "156  LP001541    Male     Yes          1      Graduate            No   \n",
       "520  LP002689    Male     Yes          2  Not Graduate            No   \n",
       "272  LP001892    Male      No          0      Graduate            No   \n",
       "20   LP001043    Male     Yes          0  Not Graduate            No   \n",
       "468  LP002502  Female     Yes          2  Not Graduate           NaN   \n",
       "547  LP002772    Male      No          0      Graduate            No   \n",
       "251  LP001836  Female      No          2      Graduate            No   \n",
       "..        ...     ...     ...        ...           ...           ...   \n",
       "482  LP002537    Male     Yes          0      Graduate            No   \n",
       "463  LP002489  Female      No          1  Not Graduate           NaN   \n",
       "295  LP001949    Male     Yes         3+      Graduate           NaN   \n",
       "523  LP002693    Male     Yes          2      Graduate           Yes   \n",
       "574  LP002863    Male     Yes         3+      Graduate            No   \n",
       "40   LP001119    Male      No          0      Graduate            No   \n",
       "205  LP001692  Female      No          0  Not Graduate            No   \n",
       "278  LP001907    Male     Yes          0      Graduate            No   \n",
       "333  LP002101    Male     Yes          0      Graduate           NaN   \n",
       "88   LP001289    Male      No          0      Graduate            No   \n",
       "176  LP001608    Male     Yes          2      Graduate            No   \n",
       "486  LP002545    Male      No          2      Graduate            No   \n",
       "245  LP001813    Male      No          0      Graduate           Yes   \n",
       "310  LP002002  Female      No          0      Graduate            No   \n",
       "361  LP002170    Male     Yes          2      Graduate            No   \n",
       "472  LP002519    Male     Yes         3+      Graduate            No   \n",
       "116  LP001404  Female     Yes          0      Graduate            No   \n",
       "277  LP001904    Male     Yes          0      Graduate            No   \n",
       "610  LP002979    Male     Yes         3+      Graduate            No   \n",
       "329  LP002087  Female      No          0      Graduate            No   \n",
       "421  LP002357  Female      No          0  Not Graduate            No   \n",
       "79   LP001264    Male     Yes         3+  Not Graduate           Yes   \n",
       "416  LP002341  Female      No          1      Graduate            No   \n",
       "426  LP002367  Female      No          1  Not Graduate            No   \n",
       "145  LP001514  Female     Yes          0      Graduate            No   \n",
       "280  LP001910    Male      No          1  Not Graduate           Yes   \n",
       "480  LP002534  Female      No          0  Not Graduate            No   \n",
       "217  LP001726    Male     Yes          0      Graduate            No   \n",
       "180  LP001633    Male     Yes          1      Graduate            No   \n",
       "580  LP002892    Male     Yes          2      Graduate            No   \n",
       "\n",
       "     ApplicantIncome  CoapplicantIncome  LoanAmount  Loan_Amount_Term  \\\n",
       "254            16250           0.000000       192.0             360.0   \n",
       "118             5568        2142.000000       175.0             360.0   \n",
       "69              4300           0.000000       136.0             360.0   \n",
       "282             2301         985.799988        78.0             180.0   \n",
       "342             4554        1229.000000       158.0             360.0   \n",
       "87              2500        2118.000000       104.0             360.0   \n",
       "297             4666           0.000000       135.0             360.0   \n",
       "307             2400        1863.000000       104.0             360.0   \n",
       "325             8666        4983.000000       376.0             360.0   \n",
       "364             6822           0.000000       141.0             360.0   \n",
       "289             9508           0.000000       187.0             360.0   \n",
       "417             1600       20000.000000       239.0             360.0   \n",
       "405             4547           0.000000       115.0             360.0   \n",
       "128            10513        3850.000000       160.0             180.0   \n",
       "554             3593        4266.000000       132.0             180.0   \n",
       "290             3075        2416.000000       139.0             360.0   \n",
       "338             1830           0.000000         NaN             360.0   \n",
       "470             3450        2079.000000       162.0             360.0   \n",
       "293             5417           0.000000       143.0             480.0   \n",
       "561            19484           0.000000       600.0             360.0   \n",
       "136             4583           0.000000        84.0             360.0   \n",
       "215             3850         983.000000       100.0             360.0   \n",
       "186             2178           0.000000        66.0             300.0   \n",
       "156             6000           0.000000       160.0             360.0   \n",
       "520             2192        1742.000000        45.0             360.0   \n",
       "272             2833        1857.000000       126.0             360.0   \n",
       "20              7660           0.000000       104.0             360.0   \n",
       "468              210        2917.000000        98.0             360.0   \n",
       "547             2526        1783.000000       145.0             360.0   \n",
       "251             3427           0.000000       138.0             360.0   \n",
       "..               ...                ...         ...               ...   \n",
       "482             2083        3150.000000       128.0             360.0   \n",
       "463             5191           0.000000       132.0             360.0   \n",
       "295             4416        1250.000000       110.0             360.0   \n",
       "523             7948        7166.000000       480.0             360.0   \n",
       "574             6406           0.000000       150.0             360.0   \n",
       "40              3600           0.000000        80.0             360.0   \n",
       "205             4408           0.000000       120.0             360.0   \n",
       "278            14583           0.000000       436.0             360.0   \n",
       "333            63337           0.000000       490.0             180.0   \n",
       "88              8566           0.000000       210.0             360.0   \n",
       "176             2045        1619.000000       101.0             360.0   \n",
       "486             3547           0.000000        80.0             360.0   \n",
       "245             6050        4333.000000       120.0             180.0   \n",
       "310             2917           0.000000        84.0             360.0   \n",
       "361             5000        3667.000000       236.0             360.0   \n",
       "472             4691           0.000000       100.0             360.0   \n",
       "116             3167        2283.000000       154.0             360.0   \n",
       "277             3103        1300.000000        80.0             360.0   \n",
       "610             4106           0.000000        40.0             180.0   \n",
       "329             2500           0.000000        67.0             360.0   \n",
       "421             2720           0.000000        80.0               NaN   \n",
       "79              3333        2166.000000       130.0             360.0   \n",
       "416             2600           0.000000       160.0             360.0   \n",
       "426             4606           0.000000        81.0             360.0   \n",
       "145             2330        4486.000000       100.0             360.0   \n",
       "280             4053        2426.000000       158.0             360.0   \n",
       "480             4350           0.000000       154.0             360.0   \n",
       "217             3727        1775.000000       131.0             360.0   \n",
       "180             6400        7250.000000       180.0             360.0   \n",
       "580             6540           0.000000       205.0             360.0   \n",
       "\n",
       "     Credit_History Property_Area Loan_Status  \n",
       "254             0.0         Urban           N  \n",
       "118             1.0         Rural           N  \n",
       "69              0.0     Semiurban           N  \n",
       "282             1.0         Urban           Y  \n",
       "342             1.0         Urban           Y  \n",
       "87              1.0     Semiurban           Y  \n",
       "297             1.0         Urban           Y  \n",
       "307             0.0         Urban           N  \n",
       "325             0.0         Rural           N  \n",
       "364             1.0         Rural           Y  \n",
       "289             1.0         Rural           Y  \n",
       "417             1.0         Urban           N  \n",
       "405             1.0     Semiurban           Y  \n",
       "128             0.0         Urban           N  \n",
       "554             0.0         Rural           N  \n",
       "290             1.0         Rural           Y  \n",
       "338             0.0         Urban           N  \n",
       "470             1.0     Semiurban           Y  \n",
       "293             0.0         Urban           N  \n",
       "561             1.0     Semiurban           Y  \n",
       "136             1.0         Rural           N  \n",
       "215             1.0     Semiurban           Y  \n",
       "186             0.0         Rural           N  \n",
       "156             NaN         Rural           Y  \n",
       "520             1.0     Semiurban           Y  \n",
       "272             1.0         Rural           Y  \n",
       "20              0.0         Urban           N  \n",
       "468             1.0     Semiurban           Y  \n",
       "547             1.0         Rural           Y  \n",
       "251             1.0         Urban           N  \n",
       "..              ...           ...         ...  \n",
       "482             1.0     Semiurban           Y  \n",
       "463             1.0     Semiurban           Y  \n",
       "295             1.0         Urban           Y  \n",
       "523             1.0         Rural           Y  \n",
       "574             1.0     Semiurban           N  \n",
       "40              1.0         Urban           N  \n",
       "205             1.0     Semiurban           Y  \n",
       "278             1.0     Semiurban           Y  \n",
       "333             1.0         Urban           Y  \n",
       "88              1.0         Urban           Y  \n",
       "176             1.0         Rural           Y  \n",
       "486             0.0         Rural           N  \n",
       "245             1.0         Urban           N  \n",
       "310             1.0     Semiurban           Y  \n",
       "361             1.0     Semiurban           Y  \n",
       "472             1.0     Semiurban           Y  \n",
       "116             1.0     Semiurban           Y  \n",
       "277             1.0         Urban           Y  \n",
       "610             1.0         Rural           Y  \n",
       "329             1.0         Urban           Y  \n",
       "421             0.0         Urban           N  \n",
       "79              NaN     Semiurban           Y  \n",
       "416             1.0         Urban           N  \n",
       "426             1.0         Rural           N  \n",
       "145             1.0     Semiurban           Y  \n",
       "280             0.0         Urban           N  \n",
       "480             1.0         Rural           Y  \n",
       "217             1.0     Semiurban           Y  \n",
       "180             0.0         Urban           N  \n",
       "580             1.0     Semiurban           Y  \n",
       "\n",
       "[61 rows x 13 columns]"
      ]
     },
     "execution_count": 9,
     "metadata": {},
     "output_type": "execute_result"
    }
   ],
   "source": [
    "# obtain fractional sample of the dataset at the diff. point\n",
    "train.sample(frac=0.1,axis=0)"
   ]
  },
  {
   "cell_type": "markdown",
   "metadata": {
    "slideshow": {
     "slide_type": "skip"
    }
   },
   "source": [
    "*A series of data showing the value counts of `Coapplicant Income`*"
   ]
  },
  {
   "cell_type": "code",
   "execution_count": 10,
   "metadata": {
    "slideshow": {
     "slide_type": "skip"
    }
   },
   "outputs": [
    {
     "name": "stdout",
     "output_type": "stream",
     "text": [
      "0.0        273\n",
      "1666.0       5\n",
      "2083.0       5\n",
      "2500.0       5\n",
      "1750.0       3\n",
      "1459.0       3\n",
      "2333.0       3\n",
      "1800.0       3\n",
      "1625.0       3\n",
      "2250.0       3\n",
      "5625.0       3\n",
      "2451.0       2\n",
      "1640.0       2\n",
      "2917.0       2\n",
      "1560.0       2\n",
      "20000.0      2\n",
      "1717.0       2\n",
      "1950.0       2\n",
      "1843.0       2\n",
      "2569.0       2\n",
      "3750.0       2\n",
      "4167.0       2\n",
      "3500.0       2\n",
      "2925.0       2\n",
      "1300.0       2\n",
      "1430.0       2\n",
      "754.0        2\n",
      "3167.0       2\n",
      "1667.0       2\n",
      "4416.0       2\n",
      "          ... \n",
      "1881.0       1\n",
      "1041.0       1\n",
      "3583.0       1\n",
      "3013.0       1\n",
      "7250.0       1\n",
      "3300.0       1\n",
      "1302.0       1\n",
      "1287.0       1\n",
      "2340.0       1\n",
      "1710.0       1\n",
      "2330.0       1\n",
      "4648.0       1\n",
      "3447.0       1\n",
      "1774.0       1\n",
      "3796.0       1\n",
      "1425.0       1\n",
      "5701.0       1\n",
      "2079.0       1\n",
      "3033.0       1\n",
      "5302.0       1\n",
      "1131.0       1\n",
      "7101.0       1\n",
      "5500.0       1\n",
      "1779.0       1\n",
      "1863.0       1\n",
      "7166.0       1\n",
      "2138.0       1\n",
      "2166.0       1\n",
      "3541.0       1\n",
      "3021.0       1\n",
      "Name: CoapplicantIncome, Length: 287, dtype: int64\n"
     ]
    }
   ],
   "source": [
    "# obtain the value of the categorical type that has the highest frequency\n",
    "print(train['CoapplicantIncome'].value_counts())"
   ]
  },
  {
   "cell_type": "code",
   "execution_count": 11,
   "metadata": {
    "code_folding": [
     0
    ],
    "slideshow": {
     "slide_type": "subslide"
    }
   },
   "outputs": [
    {
     "name": "stdout",
     "output_type": "stream",
     "text": [
      "It was observed that 273 loan obervations have \n",
      "      0.0 coapplicantIncome\n",
      "\n",
      "This can implies that those loan requests with 0.0 coapplicant income involved only one person\n",
      "OR the coapplicant has no income value OR he/she is unemployed\n"
     ]
    }
   ],
   "source": [
    "print(f'''It was observed that {train['CoapplicantIncome'].value_counts().max()} loan obervations have \n",
    "      {train['CoapplicantIncome'].value_counts().idxmax()} coapplicantIncome''')\n",
    "\n",
    "\n",
    "print('''\\nThis can implies that those loan requests with 0.0 coapplicant income involved only one person\n",
    "OR the coapplicant has no income value OR he/she is unemployed''')"
   ]
  },
  {
   "cell_type": "code",
   "execution_count": 12,
   "metadata": {
    "code_folding": [
     0
    ]
   },
   "outputs": [],
   "source": [
    "# Copy of original data so that the original is retained even after making changes\n",
    "train_original=train.copy()\n",
    "test_original=test.copy()"
   ]
  },
  {
   "cell_type": "markdown",
   "metadata": {
    "slideshow": {
     "slide_type": "slide"
    }
   },
   "source": [
    " ***Features in the train dataset***"
   ]
  },
  {
   "cell_type": "code",
   "execution_count": 13,
   "metadata": {
    "code_folding": [
     0
    ],
    "slideshow": {
     "slide_type": "fragment"
    }
   },
   "outputs": [
    {
     "name": "stdout",
     "output_type": "stream",
     "text": [
      "                    0\n",
      "0             Loan_ID\n",
      "1              Gender\n",
      "2             Married\n",
      "3          Dependents\n",
      "4           Education\n",
      "5       Self_Employed\n",
      "6     ApplicantIncome\n",
      "7   CoapplicantIncome\n",
      "8          LoanAmount\n",
      "9    Loan_Amount_Term\n",
      "10     Credit_History\n",
      "11      Property_Area\n",
      "12        Loan_Status\n"
     ]
    }
   ],
   "source": [
    "# Features in the dataset\n",
    "print(train.columns.to_frame(index=False))"
   ]
  },
  {
   "cell_type": "markdown",
   "metadata": {
    "slideshow": {
     "slide_type": "skip"
    }
   },
   "source": [
    "*A proof that loan status is missing in the test dataset*"
   ]
  },
  {
   "cell_type": "code",
   "execution_count": 14,
   "metadata": {
    "code_folding": [],
    "hide_input": false,
    "slideshow": {
     "slide_type": "skip"
    }
   },
   "outputs": [
    {
     "name": "stdout",
     "output_type": "stream",
     "text": [
      "                    0\n",
      "0             Loan_ID\n",
      "1              Gender\n",
      "2             Married\n",
      "3          Dependents\n",
      "4           Education\n",
      "5       Self_Employed\n",
      "6     ApplicantIncome\n",
      "7   CoapplicantIncome\n",
      "8          LoanAmount\n",
      "9    Loan_Amount_Term\n",
      "10     Credit_History\n",
      "11      Property_Area\n"
     ]
    }
   ],
   "source": [
    "# loan status missing in the test dataset\n",
    "print(test.columns.to_frame(index=False))"
   ]
  },
  {
   "cell_type": "markdown",
   "metadata": {
    "slideshow": {
     "slide_type": "skip"
    }
   },
   "source": [
    "**Print data types for each variable**"
   ]
  },
  {
   "cell_type": "code",
   "execution_count": 15,
   "metadata": {
    "code_folding": [
     0
    ],
    "slideshow": {
     "slide_type": "slide"
    }
   },
   "outputs": [
    {
     "data": {
      "text/plain": [
       "Loan_ID               object\n",
       "Gender                object\n",
       "Married               object\n",
       "Dependents            object\n",
       "Education             object\n",
       "Self_Employed         object\n",
       "ApplicantIncome        int64\n",
       "CoapplicantIncome    float64\n",
       "LoanAmount           float64\n",
       "Loan_Amount_Term     float64\n",
       "Credit_History       float64\n",
       "Property_Area         object\n",
       "Loan_Status           object\n",
       "dtype: object"
      ]
     },
     "execution_count": 15,
     "metadata": {},
     "output_type": "execute_result"
    }
   ],
   "source": [
    "# Print data types for each variable\n",
    "train.dtypes"
   ]
  },
  {
   "cell_type": "markdown",
   "metadata": {
    "slideshow": {
     "slide_type": "subslide"
    }
   },
   "source": [
    "Data types for each features is okay by me and they can be use for further action\n",
    "\n",
    "The types of variables in the dataset are Categorical, ordinal and numerical.\n",
    "\n",
    ">__Categorical features__: These features have categories (Gender, Married, Self_Employed, Credit_History, Loan_Status)\n",
    "\n",
    ">__Ordinal features__: Variables in categorical features having some order involved (Dependents, Education, Property_Area)\n",
    "\n",
    ">__Numerical features__: These features have numerical values (ApplicantIncome, CoapplicantIncome, LoanAmount, Loan_Amount_Term)"
   ]
  },
  {
   "cell_type": "markdown",
   "metadata": {
    "slideshow": {
     "slide_type": "slide"
    }
   },
   "source": [
    "`The number of unique observation we have in each feature`"
   ]
  },
  {
   "cell_type": "code",
   "execution_count": 16,
   "metadata": {
    "slideshow": {
     "slide_type": "fragment"
    }
   },
   "outputs": [
    {
     "data": {
      "text/plain": [
       "Loan_ID              614\n",
       "Gender                 2\n",
       "Married                2\n",
       "Dependents             4\n",
       "Education              2\n",
       "Self_Employed          2\n",
       "ApplicantIncome      505\n",
       "CoapplicantIncome    287\n",
       "LoanAmount           203\n",
       "Loan_Amount_Term      10\n",
       "Credit_History         2\n",
       "Property_Area          3\n",
       "Loan_Status            2\n",
       "dtype: int64"
      ]
     },
     "execution_count": 16,
     "metadata": {},
     "output_type": "execute_result"
    }
   ],
   "source": [
    "# get the number of unique observation\n",
    "train.nunique()"
   ]
  },
  {
   "cell_type": "markdown",
   "metadata": {
    "slideshow": {
     "slide_type": "slide"
    }
   },
   "source": [
    "`Table showing the different unique observations for Loan_Amount_Term`"
   ]
  },
  {
   "cell_type": "code",
   "execution_count": 17,
   "metadata": {
    "slideshow": {
     "slide_type": "skip"
    }
   },
   "outputs": [
    {
     "name": "stdout",
     "output_type": "stream",
     "text": [
      "Loan_Amount_Term\n"
     ]
    },
    {
     "data": {
      "text/html": [
       "<div>\n",
       "<style scoped>\n",
       "    .dataframe tbody tr th:only-of-type {\n",
       "        vertical-align: middle;\n",
       "    }\n",
       "\n",
       "    .dataframe tbody tr th {\n",
       "        vertical-align: top;\n",
       "    }\n",
       "\n",
       "    .dataframe thead th {\n",
       "        text-align: right;\n",
       "    }\n",
       "</style>\n",
       "<table border=\"1\" class=\"dataframe\">\n",
       "  <thead>\n",
       "    <tr style=\"text-align: right;\">\n",
       "      <th></th>\n",
       "      <th>count</th>\n",
       "    </tr>\n",
       "  </thead>\n",
       "  <tbody>\n",
       "    <tr>\n",
       "      <th>360.0</th>\n",
       "      <td>512</td>\n",
       "    </tr>\n",
       "    <tr>\n",
       "      <th>180.0</th>\n",
       "      <td>44</td>\n",
       "    </tr>\n",
       "    <tr>\n",
       "      <th>480.0</th>\n",
       "      <td>15</td>\n",
       "    </tr>\n",
       "    <tr>\n",
       "      <th>300.0</th>\n",
       "      <td>13</td>\n",
       "    </tr>\n",
       "    <tr>\n",
       "      <th>84.0</th>\n",
       "      <td>4</td>\n",
       "    </tr>\n",
       "    <tr>\n",
       "      <th>240.0</th>\n",
       "      <td>4</td>\n",
       "    </tr>\n",
       "    <tr>\n",
       "      <th>120.0</th>\n",
       "      <td>3</td>\n",
       "    </tr>\n",
       "    <tr>\n",
       "      <th>36.0</th>\n",
       "      <td>2</td>\n",
       "    </tr>\n",
       "    <tr>\n",
       "      <th>60.0</th>\n",
       "      <td>2</td>\n",
       "    </tr>\n",
       "    <tr>\n",
       "      <th>12.0</th>\n",
       "      <td>1</td>\n",
       "    </tr>\n",
       "  </tbody>\n",
       "</table>\n",
       "</div>"
      ],
      "text/plain": [
       "       count\n",
       "360.0    512\n",
       "180.0     44\n",
       "480.0     15\n",
       "300.0     13\n",
       "84.0       4\n",
       "240.0      4\n",
       "120.0      3\n",
       "36.0       2\n",
       "60.0       2\n",
       "12.0       1"
      ]
     },
     "execution_count": 17,
     "metadata": {},
     "output_type": "execute_result"
    }
   ],
   "source": [
    "# check the different unique observation for Loan_Amount_Term\n",
    "print('Loan_Amount_Term')\n",
    "(train.Loan_Amount_Term\n",
    "                  .value_counts().to_frame(name='count'))\n",
    "\n"
   ]
  },
  {
   "cell_type": "code",
   "execution_count": 18,
   "metadata": {
    "slideshow": {
     "slide_type": "skip"
    }
   },
   "outputs": [],
   "source": [
    "# get a dictionary of value counts to make a quick check for outlier, mistyped parameter, recurring values\n",
    "dict_of_value_counts = {a:b.value_counts() for a,b in train.items()}"
   ]
  },
  {
   "cell_type": "code",
   "execution_count": 19,
   "metadata": {
    "code_folding": [
     0
    ],
    "slideshow": {
     "slide_type": "fragment"
    }
   },
   "outputs": [
    {
     "data": {
      "image/png": "[encoded data removed]",
      "text/plain": [
       "<Figure size 576x432 with 1 Axes>"
      ]
     },
     "metadata": {
      "needs_background": "light"
     },
     "output_type": "display_data"
    }
   ],
   "source": [
    "# visualize the Loan_Amount_Term to get glimpse of the picture\n",
    "fig=plt.figure(figsize=(8,6))\n",
    "sns.set(style=\"dark\")\n",
    "ax=sns.countplot(x='Loan_Amount_Term',data=train,\n",
    "             order=list(dict_of_value_counts['Loan_Amount_Term'].index))\n",
    "ax.set_title('Distribution of Loan_Amount_Term in months', fontsize=15)\n",
    "ax.set_xlabel('Loan_Amount_Term in months', fontsize=14)\n",
    "sns.despine(left=True,bottom=True)\n",
    "for p in ax.patches:\n",
    "    ax.annotate('{:}'.format(p.get_height()), (p.get_x()+0.15, p.get_height()+1))"
   ]
  },
  {
   "cell_type": "markdown",
   "metadata": {
    "slideshow": {
     "slide_type": "subslide"
    }
   },
   "source": [
    "***It was observed that majority of the loan request indicate 360 months (30 years) paying back term implying that most of the loan request are long term loan.***\n"
   ]
  },
  {
   "cell_type": "markdown",
   "metadata": {
    "slideshow": {
     "slide_type": "slide"
    }
   },
   "source": [
    "`Table showing the different unique observations for Dependents`"
   ]
  },
  {
   "cell_type": "code",
   "execution_count": 20,
   "metadata": {
    "slideshow": {
     "slide_type": "skip"
    }
   },
   "outputs": [
    {
     "data": {
      "text/html": [
       "<div>\n",
       "<style scoped>\n",
       "    .dataframe tbody tr th:only-of-type {\n",
       "        vertical-align: middle;\n",
       "    }\n",
       "\n",
       "    .dataframe tbody tr th {\n",
       "        vertical-align: top;\n",
       "    }\n",
       "\n",
       "    .dataframe thead th {\n",
       "        text-align: right;\n",
       "    }\n",
       "</style>\n",
       "<table border=\"1\" class=\"dataframe\">\n",
       "  <thead>\n",
       "    <tr style=\"text-align: right;\">\n",
       "      <th></th>\n",
       "      <th>Dependents</th>\n",
       "    </tr>\n",
       "  </thead>\n",
       "  <tbody>\n",
       "    <tr>\n",
       "      <th>0</th>\n",
       "      <td>345</td>\n",
       "    </tr>\n",
       "    <tr>\n",
       "      <th>1</th>\n",
       "      <td>102</td>\n",
       "    </tr>\n",
       "    <tr>\n",
       "      <th>2</th>\n",
       "      <td>101</td>\n",
       "    </tr>\n",
       "    <tr>\n",
       "      <th>3+</th>\n",
       "      <td>51</td>\n",
       "    </tr>\n",
       "  </tbody>\n",
       "</table>\n",
       "</div>"
      ],
      "text/plain": [
       "    Dependents\n",
       "0          345\n",
       "1          102\n",
       "2          101\n",
       "3+          51"
      ]
     },
     "execution_count": 20,
     "metadata": {},
     "output_type": "execute_result"
    }
   ],
   "source": [
    "# check the different unique observation for Dependent\n",
    "train.Dependents.value_counts().to_frame()"
   ]
  },
  {
   "cell_type": "code",
   "execution_count": 21,
   "metadata": {
    "slideshow": {
     "slide_type": "fragment"
    }
   },
   "outputs": [
    {
     "data": {
      "image/png": "[encoded data removed]",
      "text/plain": [
       "<Figure size 576x432 with 1 Axes>"
      ]
     },
     "metadata": {},
     "output_type": "display_data"
    }
   ],
   "source": [
    "# visualize the Dependents to get glimpse of the picture\n",
    "fig=plt.figure(figsize=(8,6))\n",
    "sns.set(style=\"dark\")\n",
    "ax=sns.countplot(x='Dependents',data=train,\n",
    "             order=list(dict_of_value_counts['Dependents'].index))\n",
    "ax.set_title('Distribution of Dependents', fontsize=15)\n",
    "sns.despine(left=True,bottom=True)\n",
    "for p in ax.patches:\n",
    "    ax.annotate('{:}'.format(p.get_height()), (p.get_x()+0.20, p.get_height()+1))"
   ]
  },
  {
   "cell_type": "raw",
   "metadata": {
    "slideshow": {
     "slide_type": "subslide"
    }
   },
   "source": [
    "Majority of the loan were requested from person with no or one dependent.\n",
    "\n",
    "This factor can be connected to the fact that less external issue are liable to affect paying-back ability i.e. they are likely to pay back."
   ]
  },
  {
   "cell_type": "code",
   "execution_count": 22,
   "metadata": {
    "slideshow": {
     "slide_type": "slide"
    }
   },
   "outputs": [
    {
     "data": {
      "image/png": "[encoded data removed]",
      "text/plain": [
       "<Figure size 576x432 with 1 Axes>"
      ]
     },
     "metadata": {},
     "output_type": "display_data"
    }
   ],
   "source": [
    "# visualize the Credit_History to get glimpse of the picture\n",
    "fig=plt.figure(figsize=(8,6))\n",
    "sns.set(style=\"dark\")\n",
    "ax=sns.countplot(x='Credit_History',data=train,\n",
    "             order=list(dict_of_value_counts['Credit_History'].index))\n",
    "ax.set_title('Distribution of Credit History', fontsize=15)\n",
    "ax.legend(['Applicants meet previous loan guidelines'])\n",
    "sns.despine(left=True,bottom=True)\n",
    "for p in ax.patches:\n",
    "    ax.annotate('{:.2f}%'.format((p.get_height()/dict_of_value_counts['Credit_History'].sum())*100),\n",
    "                (p.get_x()+0.30, p.get_height()+1))"
   ]
  },
  {
   "cell_type": "markdown",
   "metadata": {
    "slideshow": {
     "slide_type": "fragment"
    }
   },
   "source": [
    "`It was observed that 84% of those requesting for loan have once met a previous loan guidelines i.e. have repaid their debts.`"
   ]
  },
  {
   "cell_type": "markdown",
   "metadata": {
    "slideshow": {
     "slide_type": "skip"
    }
   },
   "source": [
    "### Other Categorical Variable "
   ]
  },
  {
   "cell_type": "code",
   "execution_count": 23,
   "metadata": {
    "slideshow": {
     "slide_type": "slide"
    }
   },
   "outputs": [
    {
     "data": {
      "image/png": "[encoded data removed]",
      "text/plain": [
       "<Figure size 720x864 with 4 Axes>"
      ]
     },
     "metadata": {},
     "output_type": "display_data"
    }
   ],
   "source": [
    "plt.figure(figsize=(10,12))\n",
    "a = ['Gender','Married','Self_Employed','Loan_Status']\n",
    "for x,y in enumerate(range(221,225)):\n",
    "    plt.subplot(y)\n",
    "    ax=sns.countplot(x=a[x],data=train,\n",
    "                 order=list(dict_of_value_counts[a[x]].index))\n",
    "    ax.set_title('Distribution of {}'.format(a[x]), fontsize=15)\n",
    "    sns.despine(left=True,bottom=True)\n",
    "    for p in ax.patches:\n",
    "        ax.annotate('{:.2f}%'.format((p.get_height()/dict_of_value_counts[a[x]].sum())*100),\n",
    "                    (p.get_x()+0.30, p.get_height()+1))\n",
    "    \n"
   ]
  },
  {
   "cell_type": "code",
   "execution_count": null,
   "metadata": {
    "slideshow": {
     "slide_type": "subslide"
    }
   },
   "outputs": [
    {
     "data": {
      "image/png": "[encoded data removed]",
      "text/plain": [
       "<Figure size 576x288 with 2 Axes>"
      ]
     },
     "metadata": {},
     "output_type": "display_data"
    }
   ],
   "source": [
    "plt.figure(figsize=(8,4))\n",
    "a = ['Education','Property_Area']\n",
    "for x,y in enumerate(range(121,123)):\n",
    "    plt.subplot(y)\n",
    "    ax=sns.countplot(x=a[x],data=train,\n",
    "                 order=list(dict_of_value_counts[a[x]].index))\n",
    "    ax.set_ylabel('')\n",
    "    ax.set_title('Distribution of {}'.format(a[x]), fontsize=15)\n",
    "    sns.despine(left=True,bottom=True)\n",
    "    for p in ax.patches:\n",
    "        ax.annotate('{:.2f}%'.format((p.get_height()/dict_of_value_counts[a[x]].sum())*100),\n",
    "                    (p.get_x()+0.30, p.get_height()+1))\n",
    "    \n"
   ]
  },
  {
   "cell_type": "markdown",
   "metadata": {
    "slideshow": {
     "slide_type": "fragment"
    }
   },
   "source": [
    "**The following inferences can be made from the above plots:**\n",
    "\n",
    "* `Most of the applicants don’t have any dependents.`\n",
    "\n",
    "* `Around 80% of the applicants are Graduate.`\n",
    "\n",
    "* `Most of the applicants are from Semiurban area.`"
   ]
  },
  {
   "cell_type": "markdown",
   "metadata": {
    "slideshow": {
     "slide_type": "skip"
    }
   },
   "source": [
    "**Descriptive statistic of categorical features shown below**"
   ]
  },
  {
   "cell_type": "code",
   "execution_count": null,
   "metadata": {
    "slideshow": {
     "slide_type": "slide"
    }
   },
   "outputs": [
    {
     "data": {
      "text/html": [
       "<div>\n",
       "<style scoped>\n",
       "    .dataframe tbody tr th:only-of-type {\n",
       "        vertical-align: middle;\n",
       "    }\n",
       "\n",
       "    .dataframe tbody tr th {\n",
       "        vertical-align: top;\n",
       "    }\n",
       "\n",
       "    .dataframe thead th {\n",
       "        text-align: right;\n",
       "    }\n",
       "</style>\n",
       "<table border=\"1\" class=\"dataframe\">\n",
       "  <thead>\n",
       "    <tr style=\"text-align: right;\">\n",
       "      <th></th>\n",
       "      <th>Loan_ID</th>\n",
       "      <th>Gender</th>\n",
       "      <th>Married</th>\n",
       "      <th>Dependents</th>\n",
       "      <th>Education</th>\n",
       "      <th>Self_Employed</th>\n",
       "      <th>Property_Area</th>\n",
       "      <th>Loan_Status</th>\n",
       "    </tr>\n",
       "  </thead>\n",
       "  <tbody>\n",
       "    <tr>\n",
       "      <th>count</th>\n",
       "      <td>614</td>\n",
       "      <td>601</td>\n",
       "      <td>611</td>\n",
       "      <td>599</td>\n",
       "      <td>614</td>\n",
       "      <td>582</td>\n",
       "      <td>614</td>\n",
       "      <td>614</td>\n",
       "    </tr>\n",
       "    <tr>\n",
       "      <th>unique</th>\n",
       "      <td>614</td>\n",
       "      <td>2</td>\n",
       "      <td>2</td>\n",
       "      <td>4</td>\n",
       "      <td>2</td>\n",
       "      <td>2</td>\n",
       "      <td>3</td>\n",
       "      <td>2</td>\n",
       "    </tr>\n",
       "    <tr>\n",
       "      <th>top</th>\n",
       "      <td>LP001931</td>\n",
       "      <td>Male</td>\n",
       "      <td>Yes</td>\n",
       "      <td>0</td>\n",
       "      <td>Graduate</td>\n",
       "      <td>No</td>\n",
       "      <td>Semiurban</td>\n",
       "      <td>Y</td>\n",
       "    </tr>\n",
       "    <tr>\n",
       "      <th>freq</th>\n",
       "      <td>1</td>\n",
       "      <td>489</td>\n",
       "      <td>398</td>\n",
       "      <td>345</td>\n",
       "      <td>480</td>\n",
       "      <td>500</td>\n",
       "      <td>233</td>\n",
       "      <td>422</td>\n",
       "    </tr>\n",
       "  </tbody>\n",
       "</table>\n",
       "</div>"
      ],
      "text/plain": [
       "         Loan_ID Gender Married Dependents Education Self_Employed  \\\n",
       "count        614    601     611        599       614           582   \n",
       "unique       614      2       2          4         2             2   \n",
       "top     LP001931   Male     Yes          0  Graduate            No   \n",
       "freq           1    489     398        345       480           500   \n",
       "\n",
       "       Property_Area Loan_Status  \n",
       "count            614         614  \n",
       "unique             3           2  \n",
       "top        Semiurban           Y  \n",
       "freq             233         422  "
      ]
     },
     "execution_count": 25,
     "metadata": {},
     "output_type": "execute_result"
    }
   ],
   "source": [
    "train.describe(include=['O'])"
   ]
  },
  {
   "cell_type": "markdown",
   "metadata": {
    "slideshow": {
     "slide_type": "fragment"
    }
   },
   "source": [
    "`From the above table, it was revealed that Gender, Married, Dependants, Self_Employed have missing values.`"
   ]
  },
  {
   "cell_type": "markdown",
   "metadata": {},
   "source": [
    "***Checking for missing values in categorical variables.***"
   ]
  },
  {
   "cell_type": "code",
   "execution_count": null,
   "metadata": {},
   "outputs": [
    {
     "name": "stdout",
     "output_type": "stream",
     "text": [
      "<class 'pandas.core.frame.DataFrame'>\n",
      "RangeIndex: 614 entries, 0 to 613\n",
      "Data columns (total 8 columns):\n",
      "Loan_ID          614 non-null object\n",
      "Gender           601 non-null object\n",
      "Married          611 non-null object\n",
      "Dependents       599 non-null object\n",
      "Education        614 non-null object\n",
      "Self_Employed    582 non-null object\n",
      "Property_Area    614 non-null object\n",
      "Loan_Status      614 non-null object\n",
      "dtypes: object(8)\n",
      "memory usage: 332.5 KB\n"
     ]
    }
   ],
   "source": [
    "# check for missing values in categorical variables\n",
    "train.select_dtypes(exclude=np.number).info(memory_usage='deep')"
   ]
  },
  {
   "cell_type": "code",
   "execution_count": null,
   "metadata": {},
   "outputs": [
    {
     "name": "stdout",
     "output_type": "stream",
     "text": [
      "column with missing values,their dtypes and frequency\n"
     ]
    },
    {
     "data": {
      "text/plain": [
       "['Gender : object: 13',\n",
       " 'Married : object: 3',\n",
       " 'Dependents : object: 15',\n",
       " 'Self_Employed : object: 32',\n",
       " 'LoanAmount : float64: 22',\n",
       " 'Loan_Amount_Term : float64: 14',\n",
       " 'Credit_History : float64: 50']"
      ]
     },
     "execution_count": 27,
     "metadata": {},
     "output_type": "execute_result"
    }
   ],
   "source": [
    "# obtain column with missing values,their dtypes and frequency\n",
    "num_of_missing_values=train.isnull().apply(lambda x:sum(x))\n",
    "\n",
    "col_with_missing_values=num_of_missing_values.loc[num_of_missing_values>0]\n",
    "print('column with missing values,their dtypes and frequency')\n",
    "\n",
    "[f'{a} : {train[a].dtypes}: {num_of_missing_values[a]}' \n",
    " for a in col_with_missing_values.index] "
   ]
  },
  {
   "cell_type": "code",
   "execution_count": null,
   "metadata": {},
   "outputs": [
    {
     "data": {
      "text/html": [
       "<div>\n",
       "<style scoped>\n",
       "    .dataframe tbody tr th:only-of-type {\n",
       "        vertical-align: middle;\n",
       "    }\n",
       "\n",
       "    .dataframe tbody tr th {\n",
       "        vertical-align: top;\n",
       "    }\n",
       "\n",
       "    .dataframe thead th {\n",
       "        text-align: right;\n",
       "    }\n",
       "</style>\n",
       "<table border=\"1\" class=\"dataframe\">\n",
       "  <thead>\n",
       "    <tr style=\"text-align: right;\">\n",
       "      <th></th>\n",
       "      <th>num_missing_val</th>\n",
       "    </tr>\n",
       "  </thead>\n",
       "  <tbody>\n",
       "    <tr>\n",
       "      <th>Gender</th>\n",
       "      <td>13</td>\n",
       "    </tr>\n",
       "    <tr>\n",
       "      <th>Married</th>\n",
       "      <td>3</td>\n",
       "    </tr>\n",
       "    <tr>\n",
       "      <th>Dependents</th>\n",
       "      <td>15</td>\n",
       "    </tr>\n",
       "    <tr>\n",
       "      <th>Self_Employed</th>\n",
       "      <td>32</td>\n",
       "    </tr>\n",
       "    <tr>\n",
       "      <th>LoanAmount</th>\n",
       "      <td>22</td>\n",
       "    </tr>\n",
       "    <tr>\n",
       "      <th>Loan_Amount_Term</th>\n",
       "      <td>14</td>\n",
       "    </tr>\n",
       "    <tr>\n",
       "      <th>Credit_History</th>\n",
       "      <td>50</td>\n",
       "    </tr>\n",
       "  </tbody>\n",
       "</table>\n",
       "</div>"
      ],
      "text/plain": [
       "                  num_missing_val\n",
       "Gender                         13\n",
       "Married                         3\n",
       "Dependents                     15\n",
       "Self_Employed                  32\n",
       "LoanAmount                     22\n",
       "Loan_Amount_Term               14\n",
       "Credit_History                 50"
      ]
     },
     "execution_count": 28,
     "metadata": {},
     "output_type": "execute_result"
    }
   ],
   "source": [
    "# display it as a dataframe\n",
    "col_with_missing_values=col_with_missing_values.to_frame(name='num_missing_val')\n",
    "col_with_missing_values"
   ]
  },
  {
   "cell_type": "markdown",
   "metadata": {},
   "source": [
    "### Bivariate Analysis of Categorical Independent variables and the target variable\n",
    "**Since the target variable is a categorical variable, and we interested to find the relationship between this response and other categorical varaiable (Categorical vs Catgorical)**\n",
    "\n",
    "**_The question of interest will be how associated the two features are?_**\n",
    "\n",
    " **This finding can easily be obtained with a chart (mosaic chart)**"
   ]
  },
  {
   "cell_type": "markdown",
   "metadata": {
    "slideshow": {
     "slide_type": "slide"
    }
   },
   "source": [
    "### Background Knowledge on finding the association between two categorical variables\n",
    "\n",
    "**Stacked Column chart** is a useful graph to visualize the relationship between two categorical variables. It compares the percentage that each category from one variable contributes to a total across categories of the second variable. \n",
    "\n",
    "**The chi-square test** can be used to determine the association between categorical variables. It is based on the difference between the expected frequencies (e) and the observed frequencies (n) in one or more categories in the frequency table. The chi-square distribution returns a probability for the computed chi-square and the degree of freedom. A probability of zero shows a complete dependency between two categorical variables and a probability of one means that two categorical variables are completely independent. Tchouproff Contingency Coefficient measures the amount of dependency between two categorical variables.\t\t\n",
    " \n",
    "\n",
    "\n",
    "\n"
   ]
  },
  {
   "cell_type": "markdown",
   "metadata": {
    "slideshow": {
     "slide_type": "subslide"
    }
   },
   "source": [
    "![chi square formula](image/chi_square_formula.PNG)"
   ]
  },
  {
   "cell_type": "markdown",
   "metadata": {
    "slideshow": {
     "slide_type": "slide"
    }
   },
   "source": [
    "![chi square computation](image/chi_square_computation.PNG)"
   ]
  },
  {
   "cell_type": "markdown",
   "metadata": {},
   "source": [
    "### Interpreting Chi square and more fact to know about it\n",
    "\n",
    "A large value of the __Chi Square statistic__ indicates a large deviation from what we would expect with no association. \n",
    "\n",
    "This test is invalid when the observed or expected frequencies in each category are too small. A __typical rule is that all of the observed and expected frequencies should be at least 5__.\n",
    "\n",
    "The default degrees of freedom, k-1, are for the case when no parameters of the distribution are estimated. If p parameters are estimated by efficient maximum likelihood then the correct degrees of freedom are k-1-p. If the parameters are estimated in a different way, then the dof can be between k-1-p and k-1. However, it is also possible that the asymptotic distribution is not a chisquare, in which case this test is not appropriate.\n",
    "\n",
    "__Chi square goodness of fit__ tests whether the distribution of sample categorical data matches an expected distribution. For example, you could use a chi-squared goodness-of-fit test to check whether the race demographics of members at your church or school match that of the entire U.S. population or whether the computer browser preferences of your friends match those of Internet uses as a whole.\n",
    "\n",
    "When working with categorical data, the values themselves aren't of much use for statistical testing because categories like \"male\", \"female,\" and \"other\" have no mathematical meaning. Tests dealing with categorical variables are based on variable counts instead of the actual value of the variables themselves.\n",
    "\n",
    "__Chi-Squared Test of Independence__\n",
    "\n",
    "*Independence* is a key concept in probability that describes a situation where knowing the value of one variable tells you nothing about the value of another. For instance, the month you were born probably doesn't tell you anything about which web browser you use, so we'd expect birth month and browser preference to be independent. On the other hand, your month of birth might be related to whether you excelled at sports in school, so month of birth and sports performance might not be independent.\n",
    "\n",
    "The __chi-squared test of independence tests whether two categorical variables are independent. The test of independence is commonly used to determine whether variables like education, political views and other preferences vary based on demographic factors like gender, race and religion__.\n",
    "\n",
    "[Read more here](http://hamelg.blogspot.com/2015/11/python-for-data-analysis-part-25-chi.html)"
   ]
  },
  {
   "cell_type": "markdown",
   "metadata": {},
   "source": [
    ">**Relationship of Gender vs Loan_Status (how associated gender is to Loan_Status)?**"
   ]
  },
  {
   "cell_type": "markdown",
   "metadata": {},
   "source": [
    "`Table showing the proportion of Gender to Loan_Status in %`"
   ]
  },
  {
   "cell_type": "code",
   "execution_count": null,
   "metadata": {},
   "outputs": [
    {
     "data": {
      "text/html": [
       "<div>\n",
       "<style scoped>\n",
       "    .dataframe tbody tr th:only-of-type {\n",
       "        vertical-align: middle;\n",
       "    }\n",
       "\n",
       "    .dataframe tbody tr th {\n",
       "        vertical-align: top;\n",
       "    }\n",
       "\n",
       "    .dataframe thead th {\n",
       "        text-align: right;\n",
       "    }\n",
       "</style>\n",
       "<table border=\"1\" class=\"dataframe\">\n",
       "  <thead>\n",
       "    <tr style=\"text-align: right;\">\n",
       "      <th>Loan_Status</th>\n",
       "      <th>N</th>\n",
       "      <th>Y</th>\n",
       "    </tr>\n",
       "    <tr>\n",
       "      <th>Gender</th>\n",
       "      <th></th>\n",
       "      <th></th>\n",
       "    </tr>\n",
       "  </thead>\n",
       "  <tbody>\n",
       "    <tr>\n",
       "      <th>Female</th>\n",
       "      <td>0.061564</td>\n",
       "      <td>0.124792</td>\n",
       "    </tr>\n",
       "    <tr>\n",
       "      <th>Male</th>\n",
       "      <td>0.249584</td>\n",
       "      <td>0.564060</td>\n",
       "    </tr>\n",
       "  </tbody>\n",
       "</table>\n",
       "</div>"
      ],
      "text/plain": [
       "Loan_Status         N         Y\n",
       "Gender                         \n",
       "Female       0.061564  0.124792\n",
       "Male         0.249584  0.564060"
      ]
     },
     "execution_count": 29,
     "metadata": {},
     "output_type": "execute_result"
    }
   ],
   "source": [
    "# Table showing the proportion of Gender to Loan_Status in % \n",
    "pd.crosstab(train.Gender,train.Loan_Status,normalize=True)"
   ]
  },
  {
   "cell_type": "markdown",
   "metadata": {},
   "source": [
    "`Table showing the actual proportion of Gender to Loan_Status `"
   ]
  },
  {
   "cell_type": "code",
   "execution_count": null,
   "metadata": {},
   "outputs": [
    {
     "name": "stdout",
     "output_type": "stream",
     "text": [
      "Loan_Status    N    Y\n",
      "Gender               \n",
      "Female        37   75\n",
      "Male         150  339\n"
     ]
    }
   ],
   "source": [
    "# print the cross tabulation of Loan_Status vs Gender\n",
    "gender = pd.crosstab(train.Gender,train.Loan_Status)\n",
    "print(gender)"
   ]
  },
  {
   "cell_type": "markdown",
   "metadata": {},
   "source": [
    "`Table showing the percentage proportion of each Loan Status per Gender`"
   ]
  },
  {
   "cell_type": "code",
   "execution_count": null,
   "metadata": {},
   "outputs": [
    {
     "data": {
      "text/html": [
       "<div>\n",
       "<style scoped>\n",
       "    .dataframe tbody tr th:only-of-type {\n",
       "        vertical-align: middle;\n",
       "    }\n",
       "\n",
       "    .dataframe tbody tr th {\n",
       "        vertical-align: top;\n",
       "    }\n",
       "\n",
       "    .dataframe thead th {\n",
       "        text-align: right;\n",
       "    }\n",
       "</style>\n",
       "<table border=\"1\" class=\"dataframe\">\n",
       "  <thead>\n",
       "    <tr style=\"text-align: right;\">\n",
       "      <th>Loan_Status</th>\n",
       "      <th>N</th>\n",
       "      <th>Y</th>\n",
       "    </tr>\n",
       "    <tr>\n",
       "      <th>Gender</th>\n",
       "      <th></th>\n",
       "      <th></th>\n",
       "    </tr>\n",
       "  </thead>\n",
       "  <tbody>\n",
       "    <tr>\n",
       "      <th>Female</th>\n",
       "      <td>0.330357</td>\n",
       "      <td>0.669643</td>\n",
       "    </tr>\n",
       "    <tr>\n",
       "      <th>Male</th>\n",
       "      <td>0.306748</td>\n",
       "      <td>0.693252</td>\n",
       "    </tr>\n",
       "  </tbody>\n",
       "</table>\n",
       "</div>"
      ],
      "text/plain": [
       "Loan_Status         N         Y\n",
       "Gender                         \n",
       "Female       0.330357  0.669643\n",
       "Male         0.306748  0.693252"
      ]
     },
     "execution_count": 31,
     "metadata": {},
     "output_type": "execute_result"
    }
   ],
   "source": [
    "# obtain the percentage of each Loan_Status per Gender\n",
    "gender.divide(gender.sum(axis=1)\n",
    "     .astype(float),axis=0)"
   ]
  },
  {
   "cell_type": "code",
   "execution_count": null,
   "metadata": {},
   "outputs": [
    {
     "data": {
      "text/plain": [
       "<function matplotlib.pyplot.text>"
      ]
     },
     "execution_count": 32,
     "metadata": {},
     "output_type": "execute_result"
    },
    {
     "data": {
      "image/png": "[encoded data removed]",
      "text/plain": [
       "<Figure size 432x288 with 1 Axes>"
      ]
     },
     "metadata": {},
     "output_type": "display_data"
    }
   ],
   "source": [
    "sns.set_style('dark')\n",
    "(gender.divide(gender.sum(axis=1)\n",
    "               .astype(float), axis=0)\n",
    "                .plot(kind=\"bar\", stacked=True, figsize=(6,4)))\n",
    "plt.title('Relationship between Gender and Loan Status')\n",
    "plt.xlabel('Gender')\n",
    "plt.ylabel('Percentage')\n",
    "plt.text"
   ]
  },
  {
   "cell_type": "markdown",
   "metadata": {},
   "source": [
    "`It can be inferred that the proportion of male and female applicants is more or less same for both approved and unapproved loans.`"
   ]
  },
  {
   "cell_type": "markdown",
   "metadata": {},
   "source": [
    "**Test of Independence with chi square test of Independence**"
   ]
  },
  {
   "cell_type": "markdown",
   "metadata": {},
   "source": [
    "`Expected Count table for  gender in respect to Loan Status`"
   ]
  },
  {
   "cell_type": "code",
   "execution_count": null,
   "metadata": {},
   "outputs": [
    {
     "data": {
      "text/html": [
       "<div>\n",
       "<style scoped>\n",
       "    .dataframe tbody tr th:only-of-type {\n",
       "        vertical-align: middle;\n",
       "    }\n",
       "\n",
       "    .dataframe tbody tr th {\n",
       "        vertical-align: top;\n",
       "    }\n",
       "\n",
       "    .dataframe thead th {\n",
       "        text-align: right;\n",
       "    }\n",
       "</style>\n",
       "<table border=\"1\" class=\"dataframe\">\n",
       "  <thead>\n",
       "    <tr style=\"text-align: right;\">\n",
       "      <th></th>\n",
       "      <th>N</th>\n",
       "      <th>Y</th>\n",
       "    </tr>\n",
       "  </thead>\n",
       "  <tbody>\n",
       "    <tr>\n",
       "      <th>Female</th>\n",
       "      <td>34.848586</td>\n",
       "      <td>77.151414</td>\n",
       "    </tr>\n",
       "    <tr>\n",
       "      <th>Male</th>\n",
       "      <td>152.151414</td>\n",
       "      <td>336.848586</td>\n",
       "    </tr>\n",
       "  </tbody>\n",
       "</table>\n",
       "</div>"
      ],
      "text/plain": [
       "                 N           Y\n",
       "Female   34.848586   77.151414\n",
       "Male    152.151414  336.848586"
      ]
     },
     "execution_count": 33,
     "metadata": {},
     "output_type": "execute_result"
    }
   ],
   "source": [
    "# We can quickly get the expected counts for all cells in the table \n",
    "# by taking the row totals and column totals of the table, \n",
    "# performing an outer product on them with the np.outer() function and dividing by the number of observations:\n",
    "\n",
    "col_sum_gender=gender.sum(axis=1)\n",
    "row_sum_gender=gender.sum(axis=0)\n",
    "expected = np.outer(col_sum_gender,row_sum_gender)/col_sum_gender.sum()\n",
    "expected = pd.DataFrame(expected)\n",
    "expected.columns = ['N','Y']\n",
    "expected.index = ['Female','Male']\n",
    "expected"
   ]
  },
  {
   "cell_type": "markdown",
   "metadata": {},
   "source": [
    "*Expected counts table is designed to reflect what the sample data counts would be if the two variables were independent.* \n",
    "\n",
    "The statistical question becomes, **\"Are the observed counts so different from the expected counts that we can conclude a relationship between the two variables?\"**\n",
    "\n",
    "*In this particular case they are no huge difference*  **so we can initially/partially conclude the variable are independents (no association between them)**"
   ]
  },
  {
   "cell_type": "code",
   "execution_count": null,
   "metadata": {},
   "outputs": [
    {
     "name": "stdout",
     "output_type": "stream",
     "text": [
      "chi_squared_stat\n",
      "0.23697508750826923\n"
     ]
    }
   ],
   "source": [
    "# calculate the chi-square-statistic\n",
    "chi_squared_stat = ((((gender-expected)**2)/expected).sum().sum())\n",
    "print('chi_squared_stat')\n",
    "print(chi_squared_stat)"
   ]
  },
  {
   "cell_type": "code",
   "execution_count": null,
   "metadata": {},
   "outputs": [
    {
     "name": "stdout",
     "output_type": "stream",
     "text": [
      "Critical value\n",
      "3.8414588206941236\n",
      "P value\n",
      "0.6263994534115932\n"
     ]
    }
   ],
   "source": [
    "import scipy.stats as stats\n",
    "crit = stats.chi2.ppf(q = 0.95, # Find the critical value for 95% confidence*\n",
    "                      df = 1)   # *\n",
    "stats.chi2\n",
    "print(\"Critical value\")\n",
    "print(crit)\n",
    "\n",
    "p_value = 1 - stats.chi2.cdf(x=chi_squared_stat,  # Find the p-value\n",
    "                             df=1)\n",
    "print(\"P value\")\n",
    "print(p_value)"
   ]
  },
  {
   "cell_type": "markdown",
   "metadata": {},
   "source": [
    "### The decision making approach\n",
    "We make our decision by either comparing the value of the test statistic to a critical value (rejection region approach), or by finding the probability of getting this test statistic value or one more extreme (p-value approach). "
   ]
  },
  {
   "cell_type": "markdown",
   "metadata": {},
   "source": [
    "**We accept the null hypotheses because critical value of 3.84 > 0.236 of chi squared statistic.**\n",
    "\n",
    "*We have statistically significant evidence at a =0.05 to show that null hypotheses is true or that gender and Loan status are independent (i.e., they are not dependent or related), p < 0.005.*"
   ]
  },
  {
   "cell_type": "code",
   "execution_count": null,
   "metadata": {},
   "outputs": [],
   "source": [
    "g, p, dof, expctd = stats.chi2_contingency(observed= gender)"
   ]
  },
  {
   "cell_type": "code",
   "execution_count": null,
   "metadata": {},
   "outputs": [],
   "source": [
    "print(f'The chi square statistic is {g}')\n",
    "print(f'The P-value is {p}')\n",
    "print(f'The degree of freedom is {dof}')\n",
    "print(f'The expected count table ')\n",
    "expctd"
   ]
  },
  {
   "cell_type": "markdown",
   "metadata": {},
   "source": [
    "*We don't have a significant result at 5% significance level since the p-value (0.71) is greater than 0.05.*\n",
    "\n",
    "**We accept the null hypothesis that Loan_Status of applicant and their gender on a loan eligibility process are independent. We conclude that they are independent, that there is no association between the two variables.**"
   ]
  },
  {
   "cell_type": "code",
   "execution_count": null,
   "metadata": {},
   "outputs": [],
   "source": [
    "# Married vs Loan_Status\n",
    "married = pd.crosstab(train.Married,train.Loan_Status)\n",
    "print(married)\n",
    "\n",
    "(married.divide(married.sum(axis=1)\n",
    "               .astype(float), axis=0)\n",
    "                .plot(kind=\"bar\", stacked=True, figsize=(6,4)))\n",
    "plt.title('Relationship between Married and Loan Status')\n",
    "plt.xlabel('Married')\n",
    "plt.ylabel('Percentage')\n",
    "sns.despine(left=True,bottom=True)\n",
    "plt.text"
   ]
  },
  {
   "cell_type": "code",
   "execution_count": null,
   "metadata": {},
   "outputs": [],
   "source": [
    "g, p, dof, expctd = stats.chi2_contingency(observed= married)\n",
    "\n",
    "print(f'The chi square statistic is {g}')\n",
    "print(f'The P-value is {p}')\n",
    "print(f'The degree of freedom is {dof}')\n",
    "print(f'The expected count table ')\n",
    "expctd"
   ]
  },
  {
   "cell_type": "code",
   "execution_count": null,
   "metadata": {},
   "outputs": [],
   "source": [
    "expctd = pd.DataFrame(expctd)\n",
    "expctd"
   ]
  },
  {
   "cell_type": "code",
   "execution_count": null,
   "metadata": {},
   "outputs": [],
   "source": [
    "# calculate the chi-square-statistic\n",
    "chi_squared_stat = ((((married-expctd)**2)/expctd).sum().sum())\n",
    "\n",
    "# print(chi_squared_stat)\n",
    "crit = stats.chi2.ppf(q = 0.95, # Find the critical value for 95% confidence*\n",
    "                      df = 1)   # *\n",
    "print(\"Critical value\")\n",
    "print(crit)\n",
    "\n",
    "p_value = 1 - stats.chi2.cdf(x=chi_squared_stat,  # Find the p-value\n",
    "                             df=1)\n",
    "# print(\"P value\")\n",
    "# print(p_value)"
   ]
  },
  {
   "cell_type": "markdown",
   "metadata": {},
   "source": [
    "It can be inferred that the Proportion of married applicants is higher for the approved loans.\n",
    "\n",
    "**Critical value of 3.84 < 4.41 of  chi square statistic, We  have a significant result at 5% significance level since the p-value (0.03) is less than 0.05.**\n",
    "\n",
    "`We can conclude that Loan Status of an applicant is associated with their married status.`"
   ]
  },
  {
   "cell_type": "code",
   "execution_count": null,
   "metadata": {},
   "outputs": [],
   "source": [
    "# Dependents vs Loan_Status\n",
    "dependents = pd.crosstab(train.Dependents,train.Loan_Status)\n",
    "print(dependents)\n",
    "\n",
    "(dependents.divide(dependents.sum(axis=1)\n",
    "               .astype(float), axis=0)\n",
    "                .plot(kind=\"bar\", stacked=True, figsize=(12,4)))\n",
    "plt.title('Relationship between Dependents and Loan Status')\n",
    "plt.xlabel('Dependents')\n",
    "plt.ylabel('Percentage')\n",
    "sns.despine(left=True,bottom=True)\n",
    "plt.text"
   ]
  },
  {
   "cell_type": "code",
   "execution_count": null,
   "metadata": {},
   "outputs": [],
   "source": [
    "g, p, dof, expctd = stats.chi2_contingency(observed= dependents)\n",
    "\n",
    "print(f'The chi square statistic is {g}')\n",
    "print(f'The P-value is {p}')\n",
    "print(f'The degree of freedom is {dof}')\n",
    "print(f'The expected count table ')\n",
    "expctd"
   ]
  },
  {
   "cell_type": "markdown",
   "metadata": {},
   "source": [
    "Distribution of applicants with 1 or 3+ dependents is similar across both the categories of Loan_Status.\n"
   ]
  },
  {
   "cell_type": "code",
   "execution_count": null,
   "metadata": {},
   "outputs": [],
   "source": [
    "# calculate the chi-square-statistic\n",
    "expctd = pd.DataFrame(expctd)\n",
    "expctd\n",
    "chi_squared_stat = ((((dependents-expctd)**2)/expctd).sum().sum())\n",
    "\n",
    "# print(chi_squared_stat)\n",
    "crit = stats.chi2.ppf(q = 0.95, # Find the critical value for 95% confidence*\n",
    "                      df = 3)   # *\n",
    "print(\"Critical value\")\n",
    "print(crit)\n",
    "\n",
    "# p_value = 1 - stats.chi2.cdf(x=chi_squared_stat,  # Find the p-value\n",
    "#                              df=3)\n",
    "# print(\"P value\")\n",
    "# print(p_value)"
   ]
  },
  {
   "cell_type": "code",
   "execution_count": null,
   "metadata": {},
   "outputs": [],
   "source": [
    "# Education vs Loan_Status\n",
    "education = pd.crosstab(train.Education,train.Loan_Status)\n",
    "print(education)\n",
    "\n",
    "(education.divide(education.sum(axis=1)\n",
    "               .astype(float), axis=0)\n",
    "                .plot(kind=\"bar\", stacked=True, figsize=(6,4)))\n",
    "plt.title('Relationship between Education and Loan Status')\n",
    "plt.xlabel('Education')\n",
    "plt.ylabel('Percentage')\n",
    "sns.despine(left=True,bottom=True)\n",
    "plt.text"
   ]
  },
  {
   "cell_type": "code",
   "execution_count": null,
   "metadata": {},
   "outputs": [],
   "source": [
    "g, p, dof, expctd = stats.chi2_contingency(observed= education)\n",
    "\n",
    "print(f'The chi square statistic is {g}')\n",
    "print(f'The P-value is {p}')\n",
    "print(f'The degree of freedom is {dof}')\n",
    "print(f'The expected count table ')\n",
    "expctd\n",
    "\n",
    "# calculate the chi-square-statistic\n",
    "expctd = pd.DataFrame(expctd)\n",
    "print(expctd)\n",
    "chi_squared_stat = ((((education-expctd)**2)/expctd).sum().sum())\n",
    "\n",
    "# print(chi_squared_stat)\n",
    "crit = stats.chi2.ppf(q = 0.95, # Find the critical value for 95% confidence*\n",
    "                      df = 1)   # *\n",
    "print(\"Critical value\")\n",
    "print(crit)"
   ]
  },
  {
   "cell_type": "markdown",
   "metadata": {},
   "source": [
    "**Critical value of 3.84 < 4.09 of chi square statistic, We have a significant result at 5% significance level since the p-value (0.04) is less than 0.05.**\n",
    "\n",
    "`We can conclude that Loan Status of an applicant is associated to their education level.`"
   ]
  },
  {
   "cell_type": "code",
   "execution_count": null,
   "metadata": {},
   "outputs": [],
   "source": [
    "# Self-employment vs Loan_Status\n",
    "self_employed = pd.crosstab(train.Self_Employed,train.Loan_Status)\n",
    "print(self_employed)\n",
    "\n",
    "(self_employed.divide(self_employed.sum(axis=1)\n",
    "               .astype(float), axis=0)\n",
    "                .plot(kind=\"bar\", stacked=True, figsize=(6,4)))\n",
    "plt.title('Relationship between Self-employment and Loan Status')\n",
    "plt.xlabel('Self-employed')\n",
    "plt.ylabel('Percentage')\n",
    "sns.despine(left=True,bottom=True)\n",
    "plt.text"
   ]
  },
  {
   "cell_type": "code",
   "execution_count": null,
   "metadata": {},
   "outputs": [],
   "source": [
    "g, p, dof, expctd = stats.chi2_contingency(observed= self_employed)\n",
    "\n",
    "print(f'The chi square statistic is {g}')\n",
    "print(f'The P-value is {p}')\n",
    "print(f'The degree of freedom is {dof}')\n",
    "print(f'The expected count table ')\n",
    "expctd\n",
    "\n",
    "# calculate the chi-square-statistic\n",
    "expctd = pd.DataFrame(expctd)\n",
    "print(expctd)\n",
    "chi_squared_stat = ((((self_employed-expctd)**2)/expctd).sum().sum())\n",
    "\n",
    "# print(chi_squared_stat)\n",
    "crit = stats.chi2.ppf(q = 0.95, # Find the critical value for 95% confidence*\n",
    "                      df = 1)   # *\n",
    "print(\"Critical value\")\n",
    "print(crit)"
   ]
  },
  {
   "cell_type": "markdown",
   "metadata": {},
   "source": [
    "`There is nothing significant we can infer from Self_Employed vs Loan_Status plot`\n",
    "\n",
    "*Critical value > chi square statistic, p-value > 0.05 and nearly 1*\n",
    "\n",
    "*Also No significance difference in the expected count table.*"
   ]
  },
  {
   "cell_type": "markdown",
   "metadata": {},
   "source": [
    ">**Though Credit_History dtypes is float64, it is more of a categorical variable because it has a unique value of 0 (credit history does not meets guidelines) and 1 (credit history does meets guideline)**"
   ]
  },
  {
   "cell_type": "code",
   "execution_count": null,
   "metadata": {},
   "outputs": [],
   "source": [
    "# credit_history vs Loan_Status\n",
    "credit_history = pd.crosstab(train.Credit_History,train.Loan_Status)\n",
    "print(credit_history)\n",
    "\n",
    "(credit_history.divide(credit_history.sum(axis=1)\n",
    "               .astype(float), axis=0)\n",
    "                .plot(kind=\"bar\", stacked=True, figsize=(6,4)))\n",
    "plt.title('Relationship between Credit-History and Loan Status')\n",
    "plt.xlabel('Credit-History')\n",
    "plt.ylabel('Percentage')\n",
    "sns.despine(left=True,bottom=True)\n",
    "plt.text"
   ]
  },
  {
   "cell_type": "code",
   "execution_count": null,
   "metadata": {},
   "outputs": [],
   "source": [
    "g, p, dof, expctd = stats.chi2_contingency(observed= credit_history)\n",
    "\n",
    "print(f'The chi square statistic is {g}')\n",
    "print(f'The P-value is {p}')\n",
    "print(f'The degree of freedom is {dof}')\n",
    "print(f'The expected count table ')\n",
    "expctd\n",
    "\n",
    "# calculate the chi-square-statistic\n",
    "expctd = pd.DataFrame(expctd)\n",
    "print(expctd)\n",
    "chi_squared_stat = ((((credit_history-expctd)**2)/expctd).sum().sum())\n",
    "\n",
    "# print(chi_squared_stat)\n",
    "crit = stats.chi2.ppf(q = 0.95, # Find the critical value for 95% confidence*\n",
    "                      df = 1)   # *\n",
    "print(\"Critical value\")\n",
    "print(crit)"
   ]
  },
  {
   "cell_type": "markdown",
   "metadata": {},
   "source": [
    "It seems people with credit history as 1 are more likely to get their loans approved.\n",
    "\n",
    "\n",
    "**Critical value of 3.84 is far less than 174.64 of chi square statistic, We have a significant result at 5% significance level since the p-value is nearly 0.00 which shows a complete dependency between the two variables.**\n",
    "\n",
    "*`We can conclude that Loan Status of an applicant is strongly associated to their credit history.`*"
   ]
  },
  {
   "cell_type": "code",
   "execution_count": null,
   "metadata": {},
   "outputs": [],
   "source": [
    "# credit_history vs Loan_Status\n",
    "property_area = pd.crosstab(train.Property_Area,train.Loan_Status)\n",
    "print(property_area)\n",
    "\n",
    "(property_area.divide(property_area.sum(axis=1)\n",
    "               .astype(float), axis=0)\n",
    "                .plot(kind=\"bar\", stacked=True, figsize=(14,4)))\n",
    "plt.title('Relationship between Property_Area and Loan Status')\n",
    "plt.xlabel('Property_Area')\n",
    "plt.ylabel('Percentage')\n",
    "sns.despine(left=True,bottom=True)\n",
    "plt.text"
   ]
  },
  {
   "cell_type": "code",
   "execution_count": null,
   "metadata": {},
   "outputs": [],
   "source": [
    "g, p, dof, expctd = stats.chi2_contingency(observed= property_area)\n",
    "\n",
    "print(f'The chi square statistic is {g}')\n",
    "print(f'The P-value is {p}')\n",
    "print(f'The degree of freedom is {dof}')\n",
    "print(f'The expected count table ')\n",
    "expctd\n",
    "\n",
    "# calculate the chi-square-statistic\n",
    "expctd = pd.DataFrame(expctd)\n",
    "print(expctd)\n",
    "chi_squared_stat = ((((property_area-expctd)**2)/expctd).sum().sum())\n",
    "\n",
    "# print(chi_squared_stat)\n",
    "crit = stats.chi2.ppf(q = 0.95, # Find the critical value for 95% confidence*\n",
    "                      df = 2)   # *\n",
    "print(\"Critical value\")\n",
    "print(crit)"
   ]
  },
  {
   "cell_type": "markdown",
   "metadata": {},
   "source": [
    "*It seems people living in semi urban area  are more likely to get their loans approved.*\n",
    "\n",
    "\n",
    "**Critical value of 5.99 is  less than 12.29 of chi square statistic, We have a significant result at 5% significance level since the p-value is nearly 0.00 which shows a complete dependency between the two variables.**\n",
    "\n",
    "*`We can conclude that Loan Status of an applicant is strongly associated to their property area and Proportion of loans getting approved in semiurban area is higher as compared to that in rural or urban areas.`*"
   ]
  },
  {
   "cell_type": "markdown",
   "metadata": {},
   "source": [
    "### Bivariate analysis of Numerical Independent variable and the target variable"
   ]
  },
  {
   "cell_type": "markdown",
   "metadata": {},
   "source": [
    "`Descriptive statistic of numerical variables`"
   ]
  },
  {
   "cell_type": "code",
   "execution_count": null,
   "metadata": {},
   "outputs": [],
   "source": [
    "# obtain descriptive statistic of numerical variables\n",
    "train.describe(percentiles=[.01,.05,.1,.2,.4,.5,.7,.85,.95,.99])"
   ]
  },
  {
   "cell_type": "markdown",
   "metadata": {},
   "source": [
    "### Analyzing the Applicant income\n",
    "*We will try to find the mean income of people for which the loan has been approved* **VS** *the mean income of people for which the loan has not been approved.*"
   ]
  },
  {
   "cell_type": "code",
   "execution_count": null,
   "metadata": {},
   "outputs": [],
   "source": [
    "ax=train.groupby('Loan_Status')['ApplicantIncome'].mean()\n",
    "print(ax)"
   ]
  },
  {
   "cell_type": "code",
   "execution_count": null,
   "metadata": {},
   "outputs": [],
   "source": [
    "fig=plt.figure(figsize=(8,4))\n",
    "ax=train.groupby('Loan_Status')['ApplicantIncome'].mean().plot(kind='bar')\n",
    "ax.set_title('Distribution of mean income of approved applicants vs non-approved applicants')\n",
    "for p in ax.patches:\n",
    "    ax.annotate('{:.2f}'.format(p.get_height()),\n",
    "                (p.get_x()+0.10, p.get_height()+50))"
   ]
  },
  {
   "cell_type": "markdown",
   "metadata": {},
   "source": [
    "**We don’t see any significant difference in the mean income of these two categories.**\n",
    "\n",
    "These can make us reject our null hypotheses which is  `Applicants with high income should have more chances of loan approval.`\n",
    "\n",
    "This implies that `Applicant income has no association with his/her loan eligibilty`\n",
    "\n",
    "**However let dive more into it.** "
   ]
  },
  {
   "cell_type": "code",
   "execution_count": null,
   "metadata": {
    "hide_input": false
   },
   "outputs": [],
   "source": [
    "from scipy.stats import norm\n",
    "sns.set(style=\"dark\")\n",
    "ax = sns.distplot(train.ApplicantIncome, fit=norm, kde=True)\n",
    "sns.despine(left=True,bottom=True)"
   ]
  },
  {
   "cell_type": "code",
   "execution_count": null,
   "metadata": {},
   "outputs": [],
   "source": [
    "plt.figure(figsize=(12,6))\n",
    "plt.subplot(121)\n",
    "sns.distplot(train['ApplicantIncome']);\n",
    "\n",
    "plt.subplot(122)\n",
    "# train['ApplicantIncome'].plot.box(figsize=(16,5))\n",
    "a=sns.boxplot(y='ApplicantIncome',data=train,notch=False)\n",
    "# a = sns.swarmplot( y='ApplicantIncome', data=train, color=\".2\")\n"
   ]
  },
  {
   "cell_type": "markdown",
   "metadata": {},
   "source": [
    "**The above charts shows that the ApplicantIncome is not normally distributed.**\n",
    "\n",
    "`It can be inferred that most of the data in the distribution of applicant income is towards left which means it is not normally distributed. We will try to make it normal in later sections as algorithms works better if the data is normally distributed.`\n",
    "\n",
    "`The boxplot confirms the presence of a lot of outliers/extreme values. This can be attributed to the income disparity in the society. Part of this can be driven by the fact that we are looking at people with different education levels.`\n",
    "\n"
   ]
  },
  {
   "cell_type": "code",
   "execution_count": null,
   "metadata": {
    "code_folding": []
   },
   "outputs": [],
   "source": [
    "# segregate Applicant Income by Education\n",
    "a=sns.boxplot(x='Education',y='ApplicantIncome',data=train,notch=False)"
   ]
  },
  {
   "cell_type": "markdown",
   "metadata": {},
   "source": [
    "`We can see that there are a higher number of graduates with very high incomes, which are appearing to be the outliers`.\n",
    "\n",
    "*So, let’s make bins for the applicant income variable based on the values in it and analyze the corresponding loan status for each bin.*\n",
    "\n",
    "`We can decide the bins by looking into its descriptive statistic` "
   ]
  },
  {
   "cell_type": "code",
   "execution_count": null,
   "metadata": {
    "code_folding": [],
    "hide_input": false
   },
   "outputs": [],
   "source": [
    "# the describe statistic of ApplicantIncome to decide for the binning range\n",
    "train.ApplicantIncome.describe(percentiles=[.01,.05,.1,.25,.4,.5,.75,.85,.95,.99])"
   ]
  },
  {
   "cell_type": "markdown",
   "metadata": {},
   "source": [
    "`I conclude choosing the following bins:`\n",
    "\n",
    "Category | Income range\n",
    "-------- | ------------\n",
    "Low | 0-2500\n",
    "Average | 2500-4000\n",
    "High | 4000-6000\n",
    "Very High | >6000 "
   ]
  },
  {
   "cell_type": "code",
   "execution_count": null,
   "metadata": {},
   "outputs": [],
   "source": [
    "bins=[0,2500,4000,6000,81000]\n",
    "group=['Low','Average','High', 'Very high']\n",
    "train['ApplicantIncome_bin']=pd.cut(train['ApplicantIncome'],bins,labels=group)"
   ]
  },
  {
   "cell_type": "code",
   "execution_count": null,
   "metadata": {},
   "outputs": [],
   "source": [
    "dict_of_value_counts = {a:b.value_counts() for a,b in train.items()}\n",
    "fig=plt.figure(figsize=(8,6))\n",
    "sns.set(style=\"dark\")\n",
    "ax=sns.countplot(x='ApplicantIncome_bin',data=train,\n",
    "             order=list(dict_of_value_counts['ApplicantIncome_bin'].index))\n",
    "ax.set_title('Distribution of various categories of Applicant Income', fontsize=15)\n",
    "sns.despine(left=True,bottom=True)\n",
    "for p in ax.patches:\n",
    "    ax.annotate('{:.2f}%'.format((p.get_height()/dict_of_value_counts['ApplicantIncome_bin'].sum())*100),\n",
    "                (p.get_x()+0.30, p.get_height()+1))"
   ]
  },
  {
   "cell_type": "code",
   "execution_count": null,
   "metadata": {},
   "outputs": [],
   "source": [
    "applicantIncome_bin = pd.crosstab(train.ApplicantIncome_bin,train.Loan_Status)\n",
    "print(applicantIncome_bin)\n",
    "\n",
    "(applicantIncome_bin.divide(applicantIncome_bin.sum(axis=1)\n",
    "               .astype(float), axis=0)\n",
    "                .plot(kind=\"bar\", stacked=True, figsize=(14,4)))\n",
    "plt.title('Relationship between ApplicantIncome_bin and Loan Status')\n",
    "plt.xlabel('ApplicantIncome_bin')\n",
    "plt.ylabel('Percentage')\n",
    "sns.despine(left=True,bottom=True)"
   ]
  },
  {
   "cell_type": "markdown",
   "metadata": {},
   "source": [
    "`It can  now be inferred that Applicant income does not affect the chances of loan approval which contradicts our hypothesis in which we assumed that if the applicant income is high the chances of loan approval will also be high.`"
   ]
  },
  {
   "cell_type": "code",
   "execution_count": null,
   "metadata": {},
   "outputs": [],
   "source": [
    "g, p, dof, expctd = stats.chi2_contingency(observed= applicantIncome_bin)\n",
    "\n",
    "print(f'The chi square statistic is {g}')\n",
    "print(f'The P-value is {p}')\n",
    "print(f'The degree of freedom is {dof}')\n",
    "print(f'The expected count table ')\n",
    "expctd\n",
    "\n",
    "# calculate the chi-square-statistic\n",
    "expctd = pd.DataFrame(expctd)\n",
    "print(expctd)\n",
    "chi_squared_stat = ((((applicantIncome_bin-expctd)**2)/expctd).sum().sum())\n",
    "\n",
    "# print(chi_squared_stat)\n",
    "crit = stats.chi2.ppf(q = 0.95, # Find the critical value for 95% confidence*\n",
    "                      df = 3)   # *\n",
    "print(\"Critical value\")\n",
    "print(crit)"
   ]
  },
  {
   "cell_type": "markdown",
   "metadata": {},
   "source": [
    "`The critical value of 7.81 > 0.62 of chi square statistic and We don't have significant result at 5% significance level since the p-value(0.89) is nearly 1.00 which shows a complete independency between the two variables.` \n",
    "\n",
    "`Comparing the expected count table with the observed count further reveal that the Loan Status of an applicant with average and very high income are partially related or associated because there is a significant change in their values`"
   ]
  },
  {
   "cell_type": "markdown",
   "metadata": {},
   "source": [
    "### Coapplicant Income analyze"
   ]
  },
  {
   "cell_type": "code",
   "execution_count": null,
   "metadata": {},
   "outputs": [],
   "source": [
    "plt.figure(figsize=(12,6))\n",
    "plt.subplot(121)\n",
    "sns.distplot(train['CoapplicantIncome']);\n",
    "\n",
    "plt.subplot(122)\n",
    "a=sns.boxplot(y='CoapplicantIncome',data=train,notch=False)"
   ]
  },
  {
   "cell_type": "markdown",
   "metadata": {},
   "source": [
    "`We see a similar distribution as that of the applicant income. Majority (more than 90%) of coapplicant’s income ranges from 0 to 5000. We also see a lot of outliers in the coapplicant income and it is not normally distributed.`"
   ]
  },
  {
   "cell_type": "code",
   "execution_count": null,
   "metadata": {},
   "outputs": [],
   "source": [
    "# segregate Applicant Income by Education\n",
    "ax=train.groupby('Education')['CoapplicantIncome'].count()\n",
    "print(ax)\n",
    "a=sns.violinplot(x='Education',y='CoapplicantIncome',data=train,inner=None)\n",
    "a = sns.swarmplot(x='Education', y=\"CoapplicantIncome\", data=train, color=\".2\")"
   ]
  },
  {
   "cell_type": "markdown",
   "metadata": {},
   "source": [
    "*It is shown above that majority of the Coapplicant are graduate and they have low income*"
   ]
  },
  {
   "cell_type": "markdown",
   "metadata": {},
   "source": [
    "`The descriptive statistic reveal that more than 40% of Coapplicant has 0.0 income and it was earlier observed that 273 loan obervations have 0.0 coapplicantIncome`\n",
    "\n",
    "`This can implies that those loan requests with 0.0 coapplicant income involved only one person\n",
    "OR the coapplicant has no income value OR he/she is unemployed`"
   ]
  },
  {
   "cell_type": "code",
   "execution_count": null,
   "metadata": {},
   "outputs": [],
   "source": [
    "coapplicant=(train.CoapplicantIncome\n",
    "             .apply(lambda x: 'No coapplicant or Coapplicant has no income' if x==0 else 'Coapplicant exist and has an income')\n",
    "             .value_counts()\n",
    "             .to_frame(name='count'))\n",
    "coapplicant\n"
   ]
  },
  {
   "cell_type": "code",
   "execution_count": null,
   "metadata": {},
   "outputs": [],
   "source": [
    "# sns.set(style=\"white\")\n",
    "fig=plt.figure(figsize=(10,6))\n",
    "ax= sns.barplot(x=coapplicant.index,y='count',\n",
    "            data=coapplicant,\n",
    "             order=list(coapplicant.index))\n",
    "ax.set_title('Distribution of various categories of CoApplicant Income', fontsize=15)\n",
    "sns.despine(left=True,bottom=True)\n",
    "for p in ax.patches:\n",
    "    ax.annotate('{:.2f}%'.format((p.get_height()/dict_of_value_counts['CoapplicantIncome'].sum())*100),\n",
    "                (p.get_x()+0.30, p.get_height()+1))"
   ]
  },
  {
   "cell_type": "markdown",
   "metadata": {},
   "source": [
    "**It can be observed that 44.46% of the loan applicant has no coapplicant**"
   ]
  },
  {
   "cell_type": "code",
   "execution_count": null,
   "metadata": {},
   "outputs": [],
   "source": [
    "# The average coaplicant income excluding those of zero \n",
    "a = (train.CoapplicantIncome\n",
    " .map(lambda x:x if x>0 else np.nan)\n",
    " .mean(skipna=True))\n",
    "\n",
    "print(('''The true mean of coapplicant income is {:.2f} aganist {:.2f} that is \n",
    "obtained if those zeros of no coapplicant or unemployed coapplicant are included in computation'''  \n",
    "    \n",
    ".format(a,train.CoapplicantIncome.mean() )))"
   ]
  },
  {
   "cell_type": "code",
   "execution_count": null,
   "metadata": {},
   "outputs": [],
   "source": [
    "employed_coapplicant=(train.CoapplicantIncome\n",
    " .map(lambda x:x if x>0 else np.nan)\n",
    " .agg([np.min,np.mean,np.max,np.std])\n",
    "  .to_frame())\n",
    "\n",
    "employed_coapplicant.index = ['min_income of the employed',\n",
    "                              'mean_income of the employed','max_income of the employed','std_value of employed']\n",
    "employed_coapplicant"
   ]
  },
  {
   "cell_type": "markdown",
   "metadata": {},
   "source": [
    "`Describe statistic of CoApplicantIncome to decide for the binning range`"
   ]
  },
  {
   "cell_type": "code",
   "execution_count": null,
   "metadata": {
    "code_folding": [],
    "hide_input": false
   },
   "outputs": [],
   "source": [
    "# the describe statistic of CoApplicantIncome to decide for the binning range\n",
    "train.CoapplicantIncome.describe(percentiles=[.01,.05,.1,.25,.4,.5,.75,.85,.95,.99])"
   ]
  },
  {
   "cell_type": "markdown",
   "metadata": {},
   "source": [
    "`I concluded from the two descriptive statistic above to choose the following bins:`\n",
    "\n",
    "Category | Income range\n",
    "-------- | ------------\n",
    "Low | 0-1000\n",
    "Average | 1000-3000\n",
    "High | >3000\n",
    "\n",
    "\n"
   ]
  },
  {
   "cell_type": "code",
   "execution_count": null,
   "metadata": {},
   "outputs": [],
   "source": [
    "bins=[0,1000,3000,42000]\n",
    "group=['Low','Average','High']\n",
    "train['Coapplicant_Income_bin']=pd.cut(train['CoapplicantIncome'],bins,labels=group)"
   ]
  },
  {
   "cell_type": "code",
   "execution_count": null,
   "metadata": {
    "hide_input": false
   },
   "outputs": [],
   "source": [
    "coapplicantIncome_bin = pd.crosstab(train.Coapplicant_Income_bin,train.Loan_Status)\n",
    "print(coapplicantIncome_bin)\n",
    "\n",
    "(coapplicantIncome_bin.divide(coapplicantIncome_bin.sum(axis=1)\n",
    "               .astype(float), axis=0)\n",
    "                .plot(kind=\"bar\", stacked=True, figsize=(10,4)))\n",
    "plt.title('Relationship between CoapplicantIncome_bin and Loan Status')\n",
    "plt.xlabel('CoapplicantIncome_bin')\n",
    "plt.ylabel('Percentage')\n",
    "sns.despine(left=True,bottom=True)"
   ]
  },
  {
   "cell_type": "code",
   "execution_count": null,
   "metadata": {
    "hide_input": false
   },
   "outputs": [],
   "source": [
    "g, p, dof, expctd = stats.chi2_contingency(observed= coapplicantIncome_bin)\n",
    "\n",
    "print(f'The chi square statistic is {g}')\n",
    "print(f'The P-value is {p}')\n",
    "print(f'The degree of freedom is {dof}')\n",
    "print(f'The expected count table ')\n",
    "expctd\n",
    "\n",
    "# calculate the chi-square-statistic\n",
    "expctd = pd.DataFrame(expctd)\n",
    "print(expctd)\n",
    "chi_squared_stat = ((((coapplicantIncome_bin-expctd)**2)/expctd).sum().sum())\n",
    "\n",
    "# print(chi_squared_stat)\n",
    "crit = stats.chi2.ppf(q = 0.95, # Find the critical value for 95% confidence*\n",
    "                      df = 2)   # *\n",
    "print(\"Critical value\")\n",
    "print(crit)"
   ]
  },
  {
   "cell_type": "markdown",
   "metadata": {},
   "source": [
    "`It shows that if coapplicant’s income is less the chances of loan approval are high. But this does not look right. The possible reason behind this may be that most of the applicants don’t have any coapplicant so the coapplicant income for such applicants is 0 and hence the loan approval is not dependent on it.`\n",
    "\n",
    "`The expected count table show that there is significant difference in coapplicant with low and high income when compared with their observed value. This tell us that these categories seems to be associated with the loan eligibilty status.` "
   ]
  },
  {
   "cell_type": "markdown",
   "metadata": {},
   "source": [
    "`On the premise that nearly half of the loan applicant has no coapplicant and that there seems to be an association between loan status an coapplicant with low or high income.` **`Let assume to  combine the applicant’s and coapplicant’s income to visualize the combined effect of income on loan approval.`**"
   ]
  },
  {
   "cell_type": "code",
   "execution_count": null,
   "metadata": {},
   "outputs": [],
   "source": [
    "train['Total_Income']=train['ApplicantIncome'] + train['CoapplicantIncome']"
   ]
  },
  {
   "cell_type": "markdown",
   "metadata": {},
   "source": [
    "*`Describe statistic of numerical variables after Total_Income has been computed by adding Applicant Income and Coapplicant Income`* "
   ]
  },
  {
   "cell_type": "code",
   "execution_count": null,
   "metadata": {},
   "outputs": [],
   "source": [
    "train.describe(percentiles=[.01,.05,.1,.25,.4,.5,.75,.85,.95,.99])"
   ]
  },
  {
   "cell_type": "code",
   "execution_count": null,
   "metadata": {},
   "outputs": [],
   "source": [
    "ax = sns.distplot(train.Total_Income, fit=norm, kde=True)"
   ]
  },
  {
   "cell_type": "markdown",
   "metadata": {},
   "source": [
    "`Though The Total_Income is not normally distributed. Its value still give a reasonable evalution than that of Applicant_Income or Coapplicant_Income alone`"
   ]
  },
  {
   "cell_type": "code",
   "execution_count": null,
   "metadata": {},
   "outputs": [],
   "source": [
    "plt.figure(figsize=(12,6))\n",
    "plt.subplot(121)\n",
    "sns.distplot(train['Total_Income']);\n",
    "\n",
    "plt.subplot(122)\n",
    "# train['ApplicantIncome'].plot.box(figsize=(16,5))\n",
    "a=sns.boxplot(y='Total_Income',data=train,notch=False)\n",
    "# a = sns.swarmplot( y='ApplicantIncome', data=train, color=\".2\")\n"
   ]
  },
  {
   "cell_type": "markdown",
   "metadata": {},
   "source": [
    "`I conclude choosing the following bins:`\n",
    "\n",
    "Category | Income range\n",
    "-------- | ------------\n",
    "Low | 0-2500\n",
    "Average | 2500-4000\n",
    "High | 4000-6000\n",
    "Very High | >6000 "
   ]
  },
  {
   "cell_type": "code",
   "execution_count": null,
   "metadata": {},
   "outputs": [],
   "source": [
    "bins=[0,2500,4000,6000,81000]\n",
    "group=['Low','Average','High', 'Very high']\n",
    "train['Total_Income_bin']=pd.cut(train['Total_Income'],bins,labels=group)"
   ]
  },
  {
   "cell_type": "code",
   "execution_count": null,
   "metadata": {
    "hide_input": false
   },
   "outputs": [],
   "source": [
    "total_Income_bin = pd.crosstab(train.Total_Income_bin,train.Loan_Status)\n",
    "print(total_Income_bin)\n",
    "\n",
    "(total_Income_bin.divide(total_Income_bin.sum(axis=1)\n",
    "               .astype(float), axis=0)\n",
    "                .plot(kind=\"bar\", stacked=True, figsize=(12,4)))\n",
    "plt.title('Relationship between total_Income_bin and Loan Status')\n",
    "plt.xlabel('total_Income_bin')\n",
    "plt.ylabel('Percentage')\n",
    "sns.despine(left=True,bottom=True)"
   ]
  },
  {
   "cell_type": "markdown",
   "metadata": {},
   "source": [
    "`We can see that Proportion of loans getting approved for applicants having low Total_Income is very less as compared to that of applicants with Average, High and Very High Income.`"
   ]
  },
  {
   "cell_type": "code",
   "execution_count": null,
   "metadata": {
    "hide_input": false
   },
   "outputs": [],
   "source": [
    "g, p, dof, expctd = stats.chi2_contingency(observed= total_Income_bin)\n",
    "\n",
    "print(f'The chi square statistic is {g}')\n",
    "print(f'The P-value is {p}')\n",
    "print(f'The degree of freedom is {dof}')\n",
    "print(f'The expected count table ')\n",
    "expctd\n",
    "\n",
    "# calculate the chi-square-statistic\n",
    "expctd = pd.DataFrame(expctd)\n",
    "print(expctd)\n",
    "chi_squared_stat = ((((total_Income_bin-expctd)**2)/expctd).sum().sum())\n",
    "\n",
    "# print(chi_squared_stat)\n",
    "crit = stats.chi2.ppf(q = 0.95, # Find the critical value for 95% confidence*\n",
    "                      df = 3)   # *\n",
    "print(\"Critical value\")\n",
    "print(crit)"
   ]
  },
  {
   "cell_type": "markdown",
   "metadata": {},
   "source": [
    "***The above statistic and chart show that the Total_Income of applicant is associated with the loan eligibility status***"
   ]
  },
  {
   "cell_type": "markdown",
   "metadata": {},
   "source": [
    "### Considering Loan Amount variable"
   ]
  },
  {
   "cell_type": "code",
   "execution_count": null,
   "metadata": {},
   "outputs": [],
   "source": [
    "plt.figure(figsize=(16,5))\n",
    "plt.subplot(121)\n",
    "# train=train.dropna()\n",
    "sns.distplot(train.LoanAmount.dropna());\n",
    "\n",
    "plt.subplot(122)\n",
    "a=sns.boxplot(y='LoanAmount',data=train,notch=False)\n",
    "# train['LoanAmount'].plot.box(figsize=(16,5))"
   ]
  },
  {
   "cell_type": "markdown",
   "metadata": {},
   "source": [
    "**We see a lot of outliers in this variable and the distribution is fairly normal.**"
   ]
  },
  {
   "cell_type": "code",
   "execution_count": null,
   "metadata": {},
   "outputs": [],
   "source": [
    "bins=[0,100,200,700]\n",
    "group=['Low','Average','High']\n",
    "train['LoanAmount_bin']=pd.cut(train['LoanAmount'],bins,labels=group)"
   ]
  },
  {
   "cell_type": "code",
   "execution_count": null,
   "metadata": {
    "hide_input": false
   },
   "outputs": [],
   "source": [
    "loanAmount_bin = pd.crosstab(train.LoanAmount_bin,train.Loan_Status)\n",
    "print(total_Income_bin)\n",
    "\n",
    "(loanAmount_bin.divide(loanAmount_bin.sum(axis=1)\n",
    "               .astype(float), axis=0)\n",
    "                .plot(kind=\"bar\", stacked=True, figsize=(10,4)))\n",
    "plt.title('Relationship between loanAmount_bin and Loan Status')\n",
    "plt.xlabel('loanAmount_bin')\n",
    "plt.ylabel('Percentage')\n",
    "sns.despine(left=True,bottom=True)"
   ]
  },
  {
   "cell_type": "markdown",
   "metadata": {},
   "source": [
    "`It can be seen that the proportion of approved loans is higher for Low and Average Loan Amount as compared to that of High Loan Amount which supports our hypothesis in which I considered earlier that the chances of loan approval will be high when the loan amount is less.`"
   ]
  },
  {
   "cell_type": "code",
   "execution_count": null,
   "metadata": {
    "hide_input": false
   },
   "outputs": [],
   "source": [
    "g, p, dof, expctd = stats.chi2_contingency(observed= loanAmount_bin)\n",
    "\n",
    "print(f'The chi square statistic is {g}')\n",
    "print(f'The P-value is {p}')\n",
    "print(f'The degree of freedom is {dof}')\n",
    "print(f'The expected count table ')\n",
    "expctd\n",
    "\n",
    "# calculate the chi-square-statistic\n",
    "expctd = pd.DataFrame(expctd)\n",
    "print(expctd)\n",
    "chi_squared_stat = ((((loanAmount_bin-expctd)**2)/expctd).sum().sum())\n",
    "\n",
    "# print(chi_squared_stat)\n",
    "crit = stats.chi2.ppf(q = 0.95, # Find the critical value for 95% confidence*\n",
    "                      df = 2)   # *\n",
    "print(\"Critical value\")\n",
    "print(crit)"
   ]
  },
  {
   "cell_type": "markdown",
   "metadata": {},
   "source": [
    "***The above statistic and chart show that the applicant Loan amount is associated with the loan eligibility status***"
   ]
  },
  {
   "cell_type": "markdown",
   "metadata": {},
   "source": [
    "### Looking at the correlation between all the numerical variables.\n",
    "\n",
    "`I will change the 3+ in dependents variable to 3 to make it a numerical variable.I will also convert the target variable’s categories into 0 and 1 i.e. map N with 0 and Y with 1 so that we can find its correlation with numerical variables. One more reason to do so is few models like logistic regression takes only numeric values as input.` "
   ]
  },
  {
   "cell_type": "code",
   "execution_count": null,
   "metadata": {},
   "outputs": [],
   "source": [
    "train['Dependents'].replace('3+', 3,inplace=True)\n",
    "test['Dependents'].replace('3+', 3,inplace=True)\n",
    "train['Loan_Status'].replace('N', 0,inplace=True)\n",
    "train['Loan_Status'].replace('Y', 1,inplace=True)"
   ]
  },
  {
   "cell_type": "code",
   "execution_count": null,
   "metadata": {},
   "outputs": [],
   "source": [
    "matrix = train.corr()\n",
    "matrix"
   ]
  },
  {
   "cell_type": "markdown",
   "metadata": {},
   "source": [
    "*Stastically absolute value of 0.25 is used as benchmark for correlation between two features*\n",
    "\n",
    "`So get correlation between variables and set those less than 0.25 to 0`  "
   ]
  },
  {
   "cell_type": "code",
   "execution_count": null,
   "metadata": {},
   "outputs": [],
   "source": [
    "matrix_corr=train.corr().applymap(lambda x: x if abs(x)>0.25 else 0)\n",
    "matrix_corr"
   ]
  },
  {
   "cell_type": "code",
   "execution_count": null,
   "metadata": {},
   "outputs": [],
   "source": [
    "f, ax = plt.subplots(figsize=(9, 6))\n",
    "sns.heatmap(matrix, vmax=.8, square=True, annot=True,cmap=\"BuPu\");"
   ]
  },
  {
   "cell_type": "code",
   "execution_count": null,
   "metadata": {},
   "outputs": [],
   "source": [
    "matrix_corr_sorted = matrix_corr.reindex(\n",
    "    columns=( list([a for a in matrix_corr.columns if a != 'Loan_Status']) +['Loan_Status'] ),\n",
    "                      index=( list([a for a in matrix_corr.columns if a != 'Loan_Status']) +['Loan_Status']))\n",
    "\n",
    "matrix_corr_sorted"
   ]
  },
  {
   "cell_type": "code",
   "execution_count": null,
   "metadata": {},
   "outputs": [],
   "source": [
    "plt.figure(figsize=(8,8))\n",
    "# plt.title('Visualization chart showing strength of correlated variables')\n",
    "a=sns.heatmap(matrix_corr_sorted,cmap='BuPu',annot=True,\n",
    "             linewidths=.5,linecolor='red')\n",
    "plt.setp(a.get_xticklabels(), fontsize=12,rotation=75)\n",
    "plt.text "
   ]
  },
  {
   "cell_type": "markdown",
   "metadata": {},
   "source": [
    "`We  use  heat map to visualize the correlation. Heatmaps visualize data through variations in coloring. The variables with darker color means their correlation is more.`"
   ]
  },
  {
   "cell_type": "markdown",
   "metadata": {},
   "source": [
    "`We see that the most correlated variables are (ApplicantIncome - LoanAmount) ,(TotalIncome - LoanAmount) and (Credit_History - Loan_Status). LoanAmount is also correlated with CoapplicantIncome.`"
   ]
  },
  {
   "cell_type": "markdown",
   "metadata": {},
   "source": [
    "***We now have a better idea of what our data looks like and which variables are important to take into account when predicting loan eligibility status. We have narrowed it down to the following variables:***\n",
    "\n",
    "\n",
    "* `Married Status`\n",
    "* `Education`\n",
    "* `Credit_History`\n",
    "* `Property_Area`\n",
    "* `Coapplicant_Income`\n",
    "* `Total_Income`\n",
    "* `Loan Amount`\n",
    "\n",
    "\n",
    "`AS we now move into building machine learning models to automate our analysis, dealing with missing values, feeding the model with variables that meaningfully affect our target variable will improve our model's prediction performance.`\n"
   ]
  },
  {
   "cell_type": "code",
   "execution_count": null,
   "metadata": {},
   "outputs": [],
   "source": [
    "#  Run (once) to allow nice html output as report (optional) \n",
    "\n",
    "\"\"\"\n",
    "Hide code cells in an IPython notebook or exported HTML using javascript. \n",
    "\"\"\"\n",
    "# from nbconvert import HTML\n",
    "import IPython.core.display as di\n",
    "\n",
    "# This line will hide code by default when the notebook is exported as HTML\n",
    "di.display_html(\n",
    "    '<script>jQuery(function() {if (jQuery(\"body.notebook_app\").length == 0) { jQuery(\".input_area, .output_stderr\").toggle(); jQuery(\".prompt\").toggle();}});</script>', raw=True)\n",
    "\n",
    "CSS = \"\"\".input_area .output_stderr {height: 2.0em; overflow: hidden}\"\"\"  # changes input_subarea width to 1 visible line\n",
    "# HTML('<style>{}</style>'.format(CSS))\n",
    "\n",
    "# This line will add a button to toggle visibility of code blocks, for use with the HTML export version.\n",
    "\n",
    "di.display_html('''<button onclick=\"jQuery('.input_area').toggle(); jQuery('.prompt').toggle();\">Click in rendered .html output only, toggles the code</button>''', raw=True)"
   ]
  },
  {
   "cell_type": "markdown",
   "metadata": {},
   "source": [
    "### List  of reference so far\n",
    "\n",
    "[stat book](https://yardsale8.github.io/stat110_book/)\n",
    "\n",
    "[DrSaed](https://www.saedsayad.com/)\n",
    "\n",
    "[Biomarkers.ai](http://www.biomarkers.ai/)\n",
    "\n",
    "[What is EMI](https://economictimes.indiatimes.com/definition/emi)\n",
    "\n",
    "[Countplot with frequencies](https://stackoverflow.com/questions/33179122/seaborn-countplot-with-frequencies)\n",
    "\n",
    "[Real Time Minning](https://www.researchgate.net/publication/265619432_Real_Time_Data_Mining)\n",
    "\n",
    "[Method for association between two categorical variables](https://yardsale8.github.io/stat110_book/chp3/mosaic.html#visualizing-association-with-mosaic-plots)\n",
    "\n",
    "[Python for data analysis index](http://hamelg.blogspot.com/2015/12/python-for-data-analysis-index.html?view=flipcard)\n",
    "\n",
    "[The Chi square statistic](http://www.stat.wmich.edu/s216/book/node114.html)\n",
    "\n",
    "[Hypotheses testing](http://sphweb.bumc.bu.edu/otlt/MPH-Modules/BS/BS704_HypothesisTesting-ChiSquare/BS704_HypothesisTesting-ChiSquare_print.html)\n",
    "\n",
    "[STAT 500 chi square test of independence](https://onlinecourses.science.psu.edu/stat500/node/56/)\n",
    "\n",
    "[28 jupyter notebook trick and tips by dataquest](https://www.dataquest.io/blog/jupyter-notebook-tips-tricks-shortcuts/)\n",
    "\n",
    "[Ipython-contrib-nbextensions](https://github.com/ipython-contrib/jupyter_contrib_nbextensions)\n",
    "\n",
    "[Ipython-contrib-nbextensions-docs](https://jupyter-contrib-nbextensions.readthedocs.io/en/latest/)\n",
    "\n",
    "[Xarang by Biomarkers data scientist](http://www.biomarkers.ai/Xarang/index.htm)\n",
    "\n",
    "[AnalyticsVidhya training course](https://trainings.analyticsvidhya.com/courses/course-v1:AnalyticsVidhya+LP101+2018_T1/course/)\n",
    "\n",
    "[github usercontent](https://camo.githubusercontent.com/0752ef9e293123a9eb986b696030954dcf74e3ef/68747470733a2f2f6d656469612e67697068792e636f6d2f6d656469612f336f78485174547841615a774d4f487239752f67697068792e676966)\n",
    "\n",
    "[create html Report from jupyter notebook](http://marpat.github.io/jupyter-notebook-html-report.html)\n",
    "\n",
    "[RISE slideshow from jupyter notebook](https://github.com/damianavila/RISE)\n",
    "\n",
    "[RISE mini tutorial](https://www.youtube.com/watch?v=sXyFa_r1nxA&feature=youtu.be)\n",
    "\n",
    "[jupyter output supressed](http://marpat.github.io/tag/jupyter.html)\n",
    "\n",
    "[jupyter extension](https://github.com/ipython-contrib/jupyter_contrib_nbextensions)\n"
   ]
  },
  {
   "cell_type": "markdown",
   "metadata": {},
   "source": [
    "### Missing values and outlier treatment\n",
    "\n",
    "*After exploring all the variables in our data, we can now impute the missing values and treat the outliers because missing data and outliers can have adverse effect on the model performance.*"
   ]
  },
  {
   "cell_type": "code",
   "execution_count": null,
   "metadata": {},
   "outputs": [],
   "source": [
    "train.isnull().sum()"
   ]
  },
  {
   "cell_type": "code",
   "execution_count": null,
   "metadata": {},
   "outputs": [],
   "source": [
    "# obtain column with missing values,their dtypes and frequency\n",
    "num_of_missing_values=train.isnull().apply(lambda x:sum(x))\n",
    "\n",
    "col_with_missing_values=num_of_missing_values.loc[num_of_missing_values>0]\n",
    "print('column with missing values,their dtypes and frequency')\n",
    "\n",
    "[f'{a} : {train[a].dtypes}: {num_of_missing_values[a]}' \n",
    " for a in col_with_missing_values.index] "
   ]
  },
  {
   "cell_type": "code",
   "execution_count": null,
   "metadata": {},
   "outputs": [],
   "source": [
    "# display it as a dataframe\n",
    "col_with_missing_values=col_with_missing_values.to_frame(name='num_missing_val')\n",
    "col_with_missing_values"
   ]
  },
  {
   "cell_type": "code",
   "execution_count": null,
   "metadata": {},
   "outputs": [],
   "source": [
    "# We can decide to drop the bins which we created for the exploration part with below code. \n",
    "# train=train.drop(['Income_bin', 'Coapplicant_Income_bin', 'LoanAmount_bin', 'Total_Income_bin', 'Total_Income'], axis=1)"
   ]
  },
  {
   "cell_type": "markdown",
   "metadata": {},
   "source": [
    "`There are missing values in Gender, Married, Dependents, Self_Employed, LoanAmount, Loan_Amount_Term and Credit_History features.`\n",
    "\n",
    "***It was detected that every missing values in the data appeared as `NaN`***\n",
    "\n",
    "I will treat the missing values in all the features one by one.\n",
    "\n",
    "**The following  methods will be considered to fill the missing values:**\n",
    "\n",
    "* For numerical variables: imputation using mean or median\n",
    "* For categorical variables: imputation using mode\n",
    "\n"
   ]
  },
  {
   "cell_type": "markdown",
   "metadata": {},
   "source": [
    "**Dealing with missing values in Categorical variables**\n",
    "\n",
    "`There are very less missing values in Gender, Married, Dependents, Credit_History and Self_Employed features so we can fill them using the mode of the features.`"
   ]
  },
  {
   "cell_type": "code",
   "execution_count": null,
   "metadata": {},
   "outputs": [],
   "source": [
    "# check for missing values in categorical variables\n",
    "train.select_dtypes(exclude=np.number).info(memory_usage='deep')"
   ]
  },
  {
   "cell_type": "code",
   "execution_count": null,
   "metadata": {},
   "outputs": [],
   "source": [
    "# fill all missing values in categorical variable with their mode\n",
    "train['Gender'].fillna(train['Gender'].mode()[0], inplace=True)\n",
    "train['Married'].fillna(train['Married'].mode()[0], inplace=True)\n",
    "train['Dependents'].fillna(train['Dependents'].mode()[0], inplace=True)\n",
    "train['Self_Employed'].fillna(train['Self_Employed'].mode()[0], inplace=True)\n",
    "train['Credit_History'].fillna(train['Credit_History'].mode()[0], inplace=True)"
   ]
  },
  {
   "cell_type": "markdown",
   "metadata": {},
   "source": [
    "**Dealing with missing values in Categorical variables**\n",
    "\n"
   ]
  },
  {
   "cell_type": "code",
   "execution_count": null,
   "metadata": {},
   "outputs": [],
   "source": [
    "# check for missing values in numerical variables\n",
    "train.select_dtypes(include=np.number).info(memory_usage='deep')"
   ]
  },
  {
   "cell_type": "markdown",
   "metadata": {},
   "source": [
    "***Only `LoanAmount` and `LoanAmountTerm`  have missing values***"
   ]
  },
  {
   "cell_type": "code",
   "execution_count": null,
   "metadata": {},
   "outputs": [],
   "source": [
    "# Now let’s try to find a way to fill the missing values in Loan_Amount_Term. \n",
    "# We will look at the value count of the Loan amount term variable.\n",
    "train['Loan_Amount_Term'].value_counts()"
   ]
  },
  {
   "cell_type": "markdown",
   "metadata": {},
   "source": [
    "**It can be seen that in `loan amount term `variable, the value of 360 is repeating the most and it has only 14 missing values. So we will replace the missing values in this variable using the mode (not the mean) of this variable.**"
   ]
  },
  {
   "cell_type": "code",
   "execution_count": null,
   "metadata": {},
   "outputs": [],
   "source": [
    "train['Loan_Amount_Term'].fillna(train['Loan_Amount_Term'].mode()[0], inplace=True)"
   ]
  },
  {
   "cell_type": "markdown",
   "metadata": {},
   "source": [
    "`Now we have left the LoanAmount variable. As it is a numerical variable, we can use mean or median to impute the missing values.` \n",
    "\n",
    "**I will use median to fill the null values as earlier noticed that loan amount have outliers so the mean will not be the proper approach as it is highly affected by the presence of outliers.**"
   ]
  },
  {
   "cell_type": "code",
   "execution_count": null,
   "metadata": {},
   "outputs": [],
   "source": [
    "a=sns.boxplot(y='LoanAmount',data=train,notch=False)\n",
    "# a=sns.swarmplot(y='ApplicantIncome',data=train,notch=False)"
   ]
  },
  {
   "cell_type": "code",
   "execution_count": null,
   "metadata": {},
   "outputs": [],
   "source": [
    "# fill every missing values in the LoanAmount variable with the median value\n",
    "train['LoanAmount'].fillna(train['LoanAmount'].median(), inplace=True)"
   ]
  },
  {
   "cell_type": "code",
   "execution_count": null,
   "metadata": {},
   "outputs": [],
   "source": [
    "# check if all missing values have been treated\n",
    "train.isnull().sum()"
   ]
  },
  {
   "cell_type": "code",
   "execution_count": null,
   "metadata": {},
   "outputs": [],
   "source": [
    "#  fill all the missing values in the test dataset too with the same approach.\n",
    "test['Gender'].fillna(train['Gender'].mode()[0], inplace=True)\n",
    "test['Dependents'].fillna(train['Dependents'].mode()[0], inplace=True)\n",
    "test['Self_Employed'].fillna(train['Self_Employed'].mode()[0], inplace=True)\n",
    "test['Credit_History'].fillna(train['Credit_History'].mode()[0], inplace=True)\n",
    "test['Loan_Amount_Term'].fillna(train['Loan_Amount_Term'].mode()[0], inplace=True)\n",
    "test['LoanAmount'].fillna(train['LoanAmount'].median(), inplace=True)"
   ]
  },
  {
   "cell_type": "markdown",
   "metadata": {},
   "source": [
    "**Outlier treatment**\n",
    "\n",
    "*`Having outliers often has a significant effect on the mean and standard deviation and hence affecting the distribution. We must take steps to remove outliers from our data sets.`*\n",
    "\n"
   ]
  },
  {
   "cell_type": "code",
   "execution_count": null,
   "metadata": {},
   "outputs": [],
   "source": [
    "sns.distplot(train.LoanAmount, fit=norm, kde=True,hist=True)"
   ]
  },
  {
   "cell_type": "code",
   "execution_count": null,
   "metadata": {},
   "outputs": [],
   "source": [
    "train.LoanAmount.describe(percentiles=[.001,.01,.05,.1,.25,.4,.5,.75,.85,.95,.96,.97,.98,.99])"
   ]
  },
  {
   "cell_type": "markdown",
   "metadata": {},
   "source": [
    "**The outlier is about 5% of the distribution at upper right side of the data**"
   ]
  },
  {
   "cell_type": "markdown",
   "metadata": {},
   "source": [
    "*Due to these outliers bulk of the data in the loan amount is at the left and the right tail is longer. This is called `right skewness.`*\n",
    "\n",
    "One way to remove the skewness is by doing the `log transformation.` As we take the log transformation, it does not affect the smaller values much, but reduces the larger values. `So, we get a distribution similar to normal distribution.`"
   ]
  },
  {
   "cell_type": "markdown",
   "metadata": {},
   "source": [
    "**Create a dataframe comparing the real values of LoanAmount to its log transformed values**"
   ]
  },
  {
   "cell_type": "code",
   "execution_count": null,
   "metadata": {
    "scrolled": true
   },
   "outputs": [],
   "source": [
    "# examine the effect of the log transformation\n",
    "realLog_LoanVal=pd.DataFrame(data={'real_value': train.LoanAmount,\n",
    "                     'log_transformed_value':np.log(train.LoanAmount)})\n",
    "\n",
    "realLog_LoanVal.sample(frac=0.05)\n"
   ]
  },
  {
   "cell_type": "code",
   "execution_count": null,
   "metadata": {},
   "outputs": [],
   "source": [
    "# filter the outlier\n",
    "realLog_LoanVal.loc[realLog_LoanVal.real_value>293,:]"
   ]
  },
  {
   "cell_type": "code",
   "execution_count": null,
   "metadata": {},
   "outputs": [],
   "source": [
    "# autheticate the log transform in the datasets\n",
    "train['LoanAmount_log'] = np.log(train['LoanAmount'])\n",
    "\n",
    "test['LoanAmount_log'] = np.log(test['LoanAmount'])\n",
    "\n",
    "plt.figure(figsize=(16,12))\n",
    "plt.subplot(221)\n",
    "ax=sns.distplot(train.LoanAmount, kde=False)\n",
    "ax.set_title('Distribution (Histogram) of Loan Amount before log transform')\n",
    "# train['LoanAmount'].hist(bins=20)\n",
    "\n",
    "\n",
    "plt.subplot(222)\n",
    "ax=sns.distplot(train.LoanAmount);\n",
    "ax.set_title('Normal Distribution of Loan Amount before log transform')\n",
    "\n",
    "plt.subplot(223)\n",
    "ax=sns.distplot(train.LoanAmount_log, kde=False)\n",
    "ax.set_title('Distribution (Histogram) of Loan Amount after log transform')\n",
    "# train['LoanAmount_log'].hist(bins=20)\n",
    "\n",
    "\n",
    "plt.subplot(224)\n",
    "ax=sns.distplot(train.LoanAmount_log);\n",
    "ax.set_title('Normal Distribution  of Loan Amount after log transform')"
   ]
  },
  {
   "cell_type": "markdown",
   "metadata": {},
   "source": [
    " *`Now the distribution looks much closer to normal and effect of extreme values has been significantly subsided.`*"
   ]
  },
  {
   "cell_type": "markdown",
   "metadata": {},
   "source": [
    "### Evaluating Metrics for Classification Problem Explained"
   ]
  },
  {
   "cell_type": "markdown",
   "metadata": {},
   "source": [
    "The process of `model building` is not complete without `evaluation of model’s performance`. Suppose we have the predictions from the model, how can we decide whether the predictions are accurate? We can plot the results and compare them with the actual values, i.e. calculate the distance between the predictions and actual values. Lesser this distance more accurate will be the predictions. \n",
    "\n",
    "*Since this is a classification problem, we can evaluate our models using any one of the following evaluation metrics:*"
   ]
  },
  {
   "cell_type": "markdown",
   "metadata": {},
   "source": [
    "![metrics_accuracy](image/metrics_accuracy.PNG)"
   ]
  },
  {
   "cell_type": "markdown",
   "metadata": {},
   "source": [
    "* True Positive - Targets which are actually true(Y) and we have predicted them true(Y)\n",
    "* True Negative - Targets which are actually false(N) and we have predicted them false(N)\n",
    "* False Positive - Targets which are actually false(N) but we have predicted them true(T)\n",
    "* False Negative - Targets which are actually true(T) but we have predicted them false(N)"
   ]
  },
  {
   "cell_type": "markdown",
   "metadata": {},
   "source": [
    "![accuracy_formula](image/accuracy_formual.png)"
   ]
  },
  {
   "cell_type": "markdown",
   "metadata": {},
   "source": [
    "**Precision**: It is a measure of correctness achieved in true prediction i.e. of observations labeled as true, how many are actually labeled true.\n",
    "\n",
    "$$Precision = \\frac{TP}{TP + FP}$$"
   ]
  },
  {
   "cell_type": "markdown",
   "metadata": {},
   "source": [
    "**Recall(Sensitivity)** - It is a measure of actual observations which are predicted correctly i.e. how many observations of true class are labeled correctly. It is also known as ‘Sensitivity’.\n",
    "$$Recall/SEnsitivity = \\frac{TP}{TP + FN}$$"
   ]
  },
  {
   "cell_type": "markdown",
   "metadata": {},
   "source": [
    "Specificity - It is a measure of how many observations of false class are labeled correctly.\n",
    " $$Specificity = \\frac{TN}{TN + FP}$$"
   ]
  },
  {
   "cell_type": "markdown",
   "metadata": {},
   "source": [
    "**ROC curve**\n",
    " \n",
    "`Receiver Operating Characteristic(ROC)` summarizes the model’s performance by evaluating the trade offs between true positive rate (sensitivity) and false positive rate(1- specificity).\n",
    "\n",
    "`The area under curve (AUC)`, referred to as index of accuracy(A) or concordance index, is a perfect performance metric for ROC curve. Higher the area under curve, better the prediction power of the model.\n",
    "\n",
    "`Specificity and Sensitivity plays a crucial role in deriving ROC curve.`"
   ]
  },
  {
   "cell_type": "markdown",
   "metadata": {},
   "source": [
    "**This how roc curve look likes**\n",
    "![roc_curve](image/roc_curve.png)"
   ]
  },
  {
   "cell_type": "markdown",
   "metadata": {},
   "source": [
    "The area of this curve measures the ability of the model to correctly classify true positives and true negatives. We want our model to predict the true classes as true and false classes as false.\n",
    "\n",
    "So it can be said that we want the true positive rate to be 1. But we are not concerned with the true positive rate only but the false positive rate too. For example in our problem, we are not only concerned about predicting the Y classes as Y but we also want N classes to be predicted as N.\n",
    "\n",
    "We want to increase the area of the curve which will be maximum for class 2,3,4 and 5 in the above example.\n",
    "For class 1 when the false positive rate is 0.2, the true positive rate is around 0.6. \n",
    "\n",
    "But for class 2 the true positive rate is 1 at the same false positive rate. So, the AUC for class 2 will be much more as compared to the AUC for class 1. So, the  model for class 2 will be better.\n",
    "\n",
    "The class 2,3,4 and 5 model will predict more accurately as compared to the class 0 and 1 model as the AUC is more for those classes."
   ]
  },
  {
   "cell_type": "markdown",
   "metadata": {},
   "source": [
    "### Model Development"
   ]
  },
  {
   "cell_type": "markdown",
   "metadata": {},
   "source": [
    "* **1. Logistic Regression**"
   ]
  },
  {
   "cell_type": "markdown",
   "metadata": {},
   "source": [
    "[`Logistic Regression`](https://www.analyticsvidhya.com/blog/2015/10/basics-logistic-regression/) is a classification algorithm. \n",
    "\n",
    "It is used to predict a binary outcome (1 / 0, Yes / No, True / False) given a set of independent variables.\n",
    "\n",
    "Logistic regression is an estimation of Logit function. \n",
    "\n",
    "Logit function is simply a log of odds in favor of the event.\n",
    "\n",
    "This function creates a s-shaped curve with the probability estimate, which is very similar to the required step wise function"
   ]
  },
  {
   "cell_type": "code",
   "execution_count": null,
   "metadata": {
    "code_folding": []
   },
   "outputs": [],
   "source": [
    "# Loan_Status have no effect on our model, so we need to drop it\n",
    "train=train.drop('Loan_ID',axis=1)\n",
    "test=test.drop('Loan_ID',axis=1)\n",
    "\n",
    "# drop all newly created binned variables\n",
    "train.drop(columns=['ApplicantIncome_bin',\n",
    "                    'Coapplicant_Income_bin','Total_Income_bin','LoanAmount_bin'],inplace=True)\n",
    "\n",
    "# other features except Loan Status becomes our predictor matrix\n",
    "X = train.drop('Loan_Status', axis=1) \n",
    "\n",
    "# the response vector\n",
    "y = train.Loan_Status"
   ]
  },
  {
   "cell_type": "code",
   "execution_count": null,
   "metadata": {},
   "outputs": [],
   "source": [
    "# make dummy variables for the categorical variables\n",
    "X=pd.get_dummies(X)\n",
    "train=pd.get_dummies(train)\n",
    "test=pd.get_dummies(test)"
   ]
  },
  {
   "cell_type": "markdown",
   "metadata": {},
   "source": [
    "***`Validation of trained Model`***\n",
    "\n",
    "*Can we validate our predictions?*\n",
    "\n",
    "One way of doing this is we can divide our train dataset into two parts: train and validation. We can train the model on this train part and using that make predictions for the validation part. In this way we can validate our predictions as we have the true predictions for the validation part (which we do not have for the test dataset)."
   ]
  },
  {
   "cell_type": "code",
   "execution_count": null,
   "metadata": {},
   "outputs": [],
   "source": [
    "# split train dataset into train and validation\n",
    "from sklearn.model_selection import train_test_split\n",
    "x_train, x_cv, y_train, y_cv = train_test_split(X,y, test_size =0.3)\n"
   ]
  },
  {
   "cell_type": "code",
   "execution_count": null,
   "metadata": {},
   "outputs": [],
   "source": [
    "from sklearn.linear_model import LogisticRegression\n",
    "from sklearn.metrics import accuracy_score\n",
    "model = LogisticRegression()\n",
    "model.fit(x_train, y_train)"
   ]
  },
  {
   "cell_type": "markdown",
   "metadata": {},
   "source": [
    "Here the C parameter represents inverse of regularization strength. \n",
    "\n",
    "Regularization is applying a penalty to increasing the magnitude of parameter values in order to reduce overfitting. Smaller values of C specify stronger regularization. To learn about other parameters, refer [here](http://scikit-learn.org/stable/modules/generated/sklearn.linear_model.LogisticRegression.html)"
   ]
  },
  {
   "cell_type": "code",
   "execution_count": null,
   "metadata": {},
   "outputs": [],
   "source": [
    "# Let’s predict the Loan_Status for validation set and calculate its accuracy.\n",
    "\n",
    "pred_cv = model.predict(x_cv)\n",
    "\n",
    "# Let us calculate how accurate our predictions are by calculating the accuracy."
   ]
  },
  {
   "cell_type": "code",
   "execution_count": null,
   "metadata": {},
   "outputs": [],
   "source": [
    "accuracy_score(y_cv,pred_cv)"
   ]
  },
  {
   "cell_type": "code",
   "execution_count": null,
   "metadata": {},
   "outputs": [],
   "source": [
    "test['Total_Income'] = train.Total_Income"
   ]
  },
  {
   "cell_type": "code",
   "execution_count": null,
   "metadata": {},
   "outputs": [],
   "source": [
    "pred_test = model.predict(test)"
   ]
  },
  {
   "cell_type": "code",
   "execution_count": null,
   "metadata": {},
   "outputs": [],
   "source": [
    "submission=pd.read_csv(\"Sample_Submission_ZAuTl8O_FK3zQHh.csv\")"
   ]
  },
  {
   "cell_type": "code",
   "execution_count": null,
   "metadata": {},
   "outputs": [],
   "source": [
    "submission"
   ]
  },
  {
   "cell_type": "code",
   "execution_count": null,
   "metadata": {},
   "outputs": [],
   "source": [
    "submission['Loan_Status']=pred_test\n",
    "submission['Loan_ID']=test_original['Loan_ID']\n",
    "\n",
    "submission['Loan_Status'].replace(0, 'N',inplace=True)\n",
    "submission['Loan_Status'].replace(1, 'Y',inplace=True)"
   ]
  },
  {
   "cell_type": "code",
   "execution_count": null,
   "metadata": {},
   "outputs": [],
   "source": [
    "submission"
   ]
  },
  {
   "cell_type": "code",
   "execution_count": null,
   "metadata": {},
   "outputs": [],
   "source": []
  }
 ],
 "metadata": {
  "celltoolbar": "Slideshow",
  "hide_input": false,
  "kernelspec": {
   "display_name": "Python 3",
   "language": "python",
   "name": "python3"
  },
  "language_info": {
   "codemirror_mode": {
    "name": "ipython",
    "version": 3
   },
   "file_extension": ".py",
   "mimetype": "text/x-python",
   "name": "python",
   "nbconvert_exporter": "python",
   "pygments_lexer": "ipython3",
   "version": "3.6.4"
  }
 },
 "nbformat": 4,
 "nbformat_minor": 2
}
