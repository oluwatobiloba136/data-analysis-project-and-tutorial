{
 "cells": [
  {
   "cell_type": "markdown",
   "metadata": {
    "deletable": false,
    "editable": false,
    "nbgrader": {
     "cell_type": "markdown",
     "checksum": "fa52255f782738d964dd3a5aed9f78cd",
     "grade": false,
     "grade_id": "cell-1ffe418bfa65d758",
     "locked": true,
     "schema_version": 2,
     "solution": false
    }
   },
   "source": [
    "![DSA log](dsalogo-Abuja.png)"
   ]
  },
  {
   "cell_type": "markdown",
   "metadata": {
    "deletable": false,
    "editable": false,
    "nbgrader": {
     "cell_type": "markdown",
     "checksum": "4d1479b0d38167136d07e71a7ba1627e",
     "grade": false,
     "grade_id": "cell-2bda4049eefaa761",
     "locked": true,
     "schema_version": 2,
     "solution": false
    }
   },
   "source": [
    "### Instructions"
   ]
  },
  {
   "cell_type": "markdown",
   "metadata": {
    "deletable": false,
    "editable": false,
    "nbgrader": {
     "cell_type": "markdown",
     "checksum": "70d4e8472626127277a97bde618720e2",
     "grade": false,
     "grade_id": "cell-61b3986f91b32c4c",
     "locked": true,
     "schema_version": 2,
     "solution": false
    }
   },
   "source": [
    "1. Make sure you are using a version of notebook greater than v.3. If you installed Anaconda with python 3 - this is likely to be fine. The next piece of code will check if you have the right version.\n",
    "2. The notebook has both some open test cases that you can use to test the functionality of your code - however it will be run on another set of test cases that you can't from which marks will be awarded. So passing all the tests in this notebook is not a guarantee that you have done things correctly - though its highly probable.\n",
    "3. Also make sure you submit a notebook that doesn't return any errors. One way to ensure this is to run all the cells before you submit the notebook.\n",
    "4. When you are done create a zip file of your notebook and upload that\n",
    "5. For each cell where you see \"YOUR CODE HERE\" delete the return notImplemented statement when you write your code there - don't leave it in the notebook.\n",
    "6. Once you are done, you are done."
   ]
  },
  {
   "cell_type": "markdown",
   "metadata": {
    "deletable": false,
    "editable": false,
    "nbgrader": {
     "cell_type": "markdown",
     "checksum": "53623a42ac7cb86d373ccffe15870d48",
     "grade": false,
     "grade_id": "cell-361ad68f072f9e29",
     "locked": true,
     "schema_version": 2,
     "solution": false
    }
   },
   "source": [
    "## Python Basics"
   ]
  },
  {
   "cell_type": "code",
   "execution_count": 296,
   "metadata": {
    "deletable": false,
    "editable": false,
    "nbgrader": {
     "cell_type": "code",
     "checksum": "f51030ca396d83636e8a1e32cd9dab46",
     "grade": true,
     "grade_id": "cell-0fc4baabfcf40810",
     "locked": true,
     "points": 1,
     "schema_version": 2,
     "solution": false
    }
   },
   "outputs": [],
   "source": [
    "# Import some stuff that you will use in this notebook\n",
    "from nose.tools import assert_equal\n",
    "import numpy as np\n",
    "import IPython\n",
    "assert IPython.version_info[0] >= 3, \"Your version of IPython is too old, please update it.\""
   ]
  },
  {
   "cell_type": "markdown",
   "metadata": {
    "deletable": false,
    "editable": false,
    "nbgrader": {
     "cell_type": "markdown",
     "checksum": "84f56d4a2803451d6fddf3e499289cb1",
     "grade": false,
     "grade_id": "cell-3981ba86de2d128b",
     "locked": true,
     "schema_version": 2,
     "solution": false
    }
   },
   "source": [
    "#### Question 1\n",
    "\n",
    "Complete the function to output a string which is the concatenation of the inputs to the function"
   ]
  },
  {
   "cell_type": "code",
   "execution_count": 297,
   "metadata": {
    "deletable": false,
    "nbgrader": {
     "cell_type": "code",
     "checksum": "bc7eef9ef6d88703623ec7ed7b81d8a0",
     "grade": false,
     "grade_id": "cell-cd8089abf6c58ed7",
     "locked": false,
     "schema_version": 2,
     "solution": true
    }
   },
   "outputs": [],
   "source": [
    "def get_string(x,y):\n",
    "    return str(x)+ str(y)"
   ]
  },
  {
   "cell_type": "code",
   "execution_count": 298,
   "metadata": {
    "deletable": false,
    "editable": false,
    "nbgrader": {
     "cell_type": "code",
     "checksum": "70fd1eed14bb2bf47de1a181f08cee39",
     "grade": true,
     "grade_id": "cell-056d72fe6275f378",
     "locked": true,
     "points": 1,
     "schema_version": 2,
     "solution": false
    }
   },
   "outputs": [],
   "source": [
    "assert_equal(get_string(4,5), '45')\n",
    "assert_equal(get_string('hello','world'), 'helloworld')"
   ]
  },
  {
   "cell_type": "markdown",
   "metadata": {
    "deletable": false,
    "editable": false,
    "nbgrader": {
     "cell_type": "markdown",
     "checksum": "4915fcc9c8ce9c7b1f107c76e85fb380",
     "grade": false,
     "grade_id": "cell-6095cdc4b1c87fa9",
     "locked": true,
     "schema_version": 2,
     "solution": false
    }
   },
   "source": [
    "#### Question 2\n",
    "\n",
    "Complete the function to output the value of $y$ given $x$ and $p$. Function definition is $y = 4 + 5x^p$ <br>\n",
    "**Condition:** If the $x$ is not positive the value of y should be 0"
   ]
  },
  {
   "cell_type": "code",
   "execution_count": 299,
   "metadata": {
    "deletable": false,
    "nbgrader": {
     "cell_type": "code",
     "checksum": "719441034256ad748045981070c4fafd",
     "grade": false,
     "grade_id": "cell-3468a2b044f2bc45",
     "locked": false,
     "schema_version": 2,
     "solution": true
    }
   },
   "outputs": [],
   "source": [
    "def ypolynomial(x,p):\n",
    "    if x > 0: y = 4 + 5*(x**p)\n",
    "    else: y = 0\n",
    "    return y"
   ]
  },
  {
   "cell_type": "code",
   "execution_count": 300,
   "metadata": {
    "deletable": false,
    "editable": false,
    "nbgrader": {
     "cell_type": "code",
     "checksum": "cc4806e032e90aaae7b73a490e20e3dc",
     "grade": true,
     "grade_id": "cell-f557c11ac2b4dcf9",
     "locked": true,
     "points": 2,
     "schema_version": 2,
     "solution": false
    }
   },
   "outputs": [],
   "source": [
    "assert_equal(ypolynomial(3,3), 139)\n",
    "assert_equal(ypolynomial(-2,3), 0)"
   ]
  },
  {
   "cell_type": "markdown",
   "metadata": {},
   "source": [
    "#### Question 3\n",
    "\n",
    "Complete the function to returns <i>'obese'</i> or <i>'not obese'</i> given weight (in Kg) and and height (in meters).  Note: one is obesse if the Body Mass Index (BMI) is greater or equal to 30 and $BMI = \\frac{weight}{height^2}$"
   ]
  },
  {
   "cell_type": "code",
   "execution_count": 301,
   "metadata": {
    "deletable": false,
    "nbgrader": {
     "cell_type": "code",
     "checksum": "a69a035ceff7244e030b87a897f30405",
     "grade": false,
     "grade_id": "cell-0b75e3e42e7dc6ea",
     "locked": false,
     "schema_version": 2,
     "solution": true
    }
   },
   "outputs": [],
   "source": [
    "def isObesse(weight, height):\n",
    "    bmi = weight/(height**2)\n",
    "    if bmi >= 30: return 'obese'\n",
    "    else: return 'not obese'"
   ]
  },
  {
   "cell_type": "code",
   "execution_count": 302,
   "metadata": {
    "deletable": false,
    "editable": false,
    "nbgrader": {
     "cell_type": "code",
     "checksum": "4a794c741c712c3a16ed02609e9bdd18",
     "grade": true,
     "grade_id": "cell-fc0d92d6e95d3056",
     "locked": true,
     "points": 2,
     "schema_version": 2,
     "solution": false
    }
   },
   "outputs": [],
   "source": [
    "assert_equal(isObesse(80,1.58), 'obese')\n",
    "assert_equal(isObesse(122,2.03), 'not obese' )\n"
   ]
  },
  {
   "cell_type": "markdown",
   "metadata": {
    "deletable": false,
    "editable": false,
    "nbgrader": {
     "cell_type": "markdown",
     "checksum": "df355efd121bab1bbd3ce8cd1135568e",
     "grade": false,
     "grade_id": "cell-2d41107ac33c2789",
     "locked": true,
     "schema_version": 2,
     "solution": false
    }
   },
   "source": [
    "#### Question 4\n",
    "\n",
    "Complete the function to return a list of numbers between 0 and a number $N$ that are perfectly divisible by $p$ (with out leaving a remainder). <br>\n",
    "**Hint**: $N$ should also be inclusive in the numbers being considered. If N is negative use N == 20"
   ]
  },
  {
   "cell_type": "code",
   "execution_count": 303,
   "metadata": {
    "deletable": false,
    "nbgrader": {
     "cell_type": "code",
     "checksum": "c7bf285afb1c84179a34b6f8beedf845",
     "grade": false,
     "grade_id": "cell-f60c36c52f5521ff",
     "locked": false,
     "schema_version": 2,
     "solution": true
    }
   },
   "outputs": [],
   "source": [
    "def divisibles(N, p):\n",
    "    if N < 0: N = 20\n",
    "    return [out for out in range(N+1) if out%p == 0]\n",
    "\n",
    "#   def divisibles(N, p):\n",
    "#     output_lst = []\n",
    "#     if N < 0: N = 20\n",
    "#     for out in range(N+1):\n",
    "#         if out%p == 0: output_lst.append(out)\n",
    "#     return output_lst\n"
   ]
  },
  {
   "cell_type": "code",
   "execution_count": 304,
   "metadata": {
    "deletable": false,
    "editable": false,
    "nbgrader": {
     "cell_type": "code",
     "checksum": "15703a6fa15f8ed7b3b667f53727ea8e",
     "grade": true,
     "grade_id": "cell-3b0136dc3012d384",
     "locked": true,
     "points": 2,
     "schema_version": 2,
     "solution": false
    }
   },
   "outputs": [],
   "source": [
    "assert_equal(divisibles(10,2), [0,2,4,6,8,10])\n",
    "assert_equal(divisibles(-10,2), [0,2,4,6,8,10,12,14,16,18,20])"
   ]
  },
  {
   "cell_type": "markdown",
   "metadata": {},
   "source": [
    "#### Question 5\n",
    "Complete the function to output the list, mylist, with duplicate values removed. "
   ]
  },
  {
   "cell_type": "code",
   "execution_count": 306,
   "metadata": {
    "deletable": false,
    "nbgrader": {
     "cell_type": "code",
     "checksum": "3d7ecba11e1250326e5925056ad1ff53",
     "grade": false,
     "grade_id": "cell-c53babe05da1c87e",
     "locked": false,
     "schema_version": 2,
     "solution": true
    }
   },
   "outputs": [],
   "source": [
    "def removeDuplicates(mylist):\n",
    "    return sorted(list(set(mylist)))\n",
    "#     new_list = []\n",
    "#     for a in mylist:\n",
    "#         if a not in new_list:\n",
    "#             new_list.append(a)\n",
    "#     return sorted(new_list) \n",
    "     "
   ]
  },
  {
   "cell_type": "code",
   "execution_count": 307,
   "metadata": {
    "deletable": false,
    "editable": false,
    "nbgrader": {
     "cell_type": "code",
     "checksum": "1b2b55b07869d03c232273dfdd462969",
     "grade": true,
     "grade_id": "cell-04d54a4e147911ae",
     "locked": true,
     "points": 2,
     "schema_version": 2,
     "solution": false
    }
   },
   "outputs": [],
   "source": [
    "assert_equal(removeDuplicates([1,3,2,3,4]), [1,2,3,4])\n",
    "assert_equal(removeDuplicates([4,1,4,3]), [1,3,4])"
   ]
  },
  {
   "cell_type": "markdown",
   "metadata": {
    "deletable": false,
    "editable": false,
    "nbgrader": {
     "cell_type": "markdown",
     "checksum": "8ad270ad04243df471d4ee17e586ddb8",
     "grade": false,
     "grade_id": "cell-58a84ec1cd03119b",
     "locked": true,
     "schema_version": 2,
     "solution": false
    }
   },
   "source": [
    "#### Question 6\n",
    "\n",
    "Complete the function to output the sum of the last and first numbers in the list. Note if list is empty return 0."
   ]
  },
  {
   "cell_type": "code",
   "execution_count": 308,
   "metadata": {
    "deletable": false,
    "nbgrader": {
     "cell_type": "code",
     "checksum": "c0b11c66e969fef983c36f5eec778e89",
     "grade": false,
     "grade_id": "cell-767f49260faf257d",
     "locked": false,
     "schema_version": 2,
     "solution": true
    }
   },
   "outputs": [],
   "source": [
    "def sumOfFirstAndLast(listx ):\n",
    "    if len(listx) == 0: return 0\n",
    "    else: return listx[0] + listx[-1]"
   ]
  },
  {
   "cell_type": "code",
   "execution_count": 309,
   "metadata": {
    "deletable": false,
    "editable": false,
    "nbgrader": {
     "cell_type": "code",
     "checksum": "1f7167155c76cff8b9f72fcbc871f73e",
     "grade": true,
     "grade_id": "cell-7f6c59d3fbfd68a1",
     "locked": true,
     "points": 2,
     "schema_version": 2,
     "solution": false
    }
   },
   "outputs": [],
   "source": [
    "assert_equal(sumOfFirstAndLast([3,8,2,12]), 15)\n",
    "assert_equal(sumOfFirstAndLast([4]), 8)\n"
   ]
  },
  {
   "cell_type": "markdown",
   "metadata": {
    "deletable": false,
    "editable": false,
    "nbgrader": {
     "cell_type": "markdown",
     "checksum": "ad4f955c52ebcb69cb3603926025129a",
     "grade": false,
     "grade_id": "cell-9135c29a2d616929",
     "locked": true,
     "schema_version": 2,
     "solution": false
    }
   },
   "source": [
    "#### Below is an sample code that reverses digits in a number. Modify this code, if you find it useful, to to attempt questions 7, 8, 9 and 10. "
   ]
  },
  {
   "cell_type": "code",
   "execution_count": 310,
   "metadata": {
    "deletable": false,
    "editable": false,
    "nbgrader": {
     "cell_type": "code",
     "checksum": "7f2f29e890a59c134ba86d998da41f59",
     "grade": false,
     "grade_id": "cell-c800d11fbcec1f94",
     "locked": true,
     "schema_version": 2,
     "solution": false
    }
   },
   "outputs": [],
   "source": [
    "def reverseNumber(number):\n",
    "\n",
    "    revnumber = 0\n",
    "    while(number>0):\n",
    "        lastdigit = number%10\n",
    "        revnumber = (revnumber*10)+lastdigit;\n",
    "        number = number//10\n",
    "        \n",
    "    return revnumber"
   ]
  },
  {
   "cell_type": "markdown",
   "metadata": {
    "deletable": false,
    "editable": false,
    "nbgrader": {
     "cell_type": "markdown",
     "checksum": "3309d9269686499d2b6bca357ab7adae",
     "grade": false,
     "grade_id": "cell-f3934f6905cb4ba1",
     "locked": true,
     "schema_version": 2,
     "solution": false
    }
   },
   "source": [
    "#### Question 7\n",
    "\n",
    "Complete the function to output the sum of digits of the input number."
   ]
  },
  {
   "cell_type": "code",
   "execution_count": 312,
   "metadata": {
    "deletable": false,
    "nbgrader": {
     "cell_type": "code",
     "checksum": "7756fdcdfb97eb1e602acd8d98ccf8e3",
     "grade": false,
     "grade_id": "cell-5151049547ad3052",
     "locked": false,
     "schema_version": 2,
     "solution": true
    }
   },
   "outputs": [],
   "source": [
    "def sumDigits(number):\n",
    "    return sum(int(digit) for digit in str(number))\n",
    "\n",
    "    \n",
    "    \n",
    "#     total = 0\n",
    "#     while number:\n",
    "#         total += number % 10\n",
    "#         number //= 10\n",
    "#     return total"
   ]
  },
  {
   "cell_type": "code",
   "execution_count": 313,
   "metadata": {
    "deletable": false,
    "editable": false,
    "nbgrader": {
     "cell_type": "code",
     "checksum": "7c77e28e55edc41cfa098c9faa5c70d4",
     "grade": true,
     "grade_id": "cell-b8753a3bc70a9af4",
     "locked": true,
     "points": 2,
     "schema_version": 2,
     "solution": false
    }
   },
   "outputs": [],
   "source": [
    "assert_equal(sumDigits(1234),10)\n",
    "assert_equal(sumDigits(172034),17)"
   ]
  },
  {
   "cell_type": "markdown",
   "metadata": {
    "deletable": false,
    "editable": false,
    "nbgrader": {
     "cell_type": "markdown",
     "checksum": "26b5fab8c1a9ca3bdd26bbc114dee8c9",
     "grade": false,
     "grade_id": "cell-8b62e6d2991ba330",
     "locked": true,
     "schema_version": 2,
     "solution": false
    }
   },
   "source": [
    "#### Question 8\n",
    "\n",
    "Complete the function to output the sum of even number digits of the input number."
   ]
  },
  {
   "cell_type": "code",
   "execution_count": 314,
   "metadata": {
    "deletable": false,
    "nbgrader": {
     "cell_type": "code",
     "checksum": "15f2f029cc9e6f812547e52ba857ebf6",
     "grade": false,
     "grade_id": "cell-bbe62c9bb21ac35d",
     "locked": false,
     "schema_version": 2,
     "solution": true
    }
   },
   "outputs": [],
   "source": [
    "def countEvenDigits(number):\n",
    "    return len([int(digit) for digit in str(number) if int(digit)%2 == 0])\n",
    "\n",
    "# lst = []\n",
    "# for digit in str(number):\n",
    "#     if int(digit)%2 == 0:\n",
    "#         lst.append(int(digit))\n",
    "# return len(lst)"
   ]
  },
  {
   "cell_type": "code",
   "execution_count": 315,
   "metadata": {
    "deletable": false,
    "editable": false,
    "nbgrader": {
     "cell_type": "code",
     "checksum": "b7f92f1fca350565e2ef790396a3f6f9",
     "grade": true,
     "grade_id": "cell-dd57add680b55a32",
     "locked": true,
     "points": 2,
     "schema_version": 2,
     "solution": false
    }
   },
   "outputs": [],
   "source": [
    "assert_equal(countEvenDigits(189156782),4)\n",
    "assert_equal(countEvenDigits(431728564),5)"
   ]
  },
  {
   "cell_type": "markdown",
   "metadata": {
    "deletable": false,
    "editable": false,
    "nbgrader": {
     "cell_type": "markdown",
     "checksum": "d60f138ed9e73b3d622faf614df5ed5c",
     "grade": false,
     "grade_id": "cell-6ab3e515ba4a6e8f",
     "locked": true,
     "schema_version": 2,
     "solution": false
    }
   },
   "source": [
    "#### Question 9\n",
    "\n",
    "Complete the function to output a dictionary with both the sum of even and odd digits with the\n",
    "keys 'even' and 'odd' respectively"
   ]
  },
  {
   "cell_type": "code",
   "execution_count": 316,
   "metadata": {
    "deletable": false,
    "nbgrader": {
     "cell_type": "code",
     "checksum": "7a26a8c2ed4e27c9309a3030218623be",
     "grade": false,
     "grade_id": "cell-695a2d2fdc6a4b67",
     "locked": false,
     "schema_version": 2,
     "solution": true
    }
   },
   "outputs": [],
   "source": [
    "def countOddEvenDigits(number):\n",
    "    odd_count = len([int(digit) for digit in str(number) if int(digit)%2 != 0])\n",
    "    even_count = len([int(digit) for digit in str(number) if int(digit)%2 == 0])\n",
    "    return {'odd':odd_count, 'even':even_count}\n",
    "\n",
    "# for digit in str(number):\n",
    "#     odd_lst=[]\n",
    "#     even_lst = []\n",
    "#     if int(digit)%2 != 0:\n",
    "#         odd_lst.append(int(digit))\n",
    "#     else:\n",
    "#         even_lst.append(int(digit))\n",
    "# return dict('odd'=len(odd_lst),'even'=len(even_lst))\n"
   ]
  },
  {
   "cell_type": "code",
   "execution_count": 317,
   "metadata": {
    "deletable": false,
    "editable": false,
    "nbgrader": {
     "cell_type": "code",
     "checksum": "489dd7cc363b25ce45075b826dc1f5b0",
     "grade": true,
     "grade_id": "cell-82c5f1e7e19418d6",
     "locked": true,
     "points": 2,
     "schema_version": 2,
     "solution": false
    }
   },
   "outputs": [],
   "source": [
    "assert_equal(countOddEvenDigits(189156782),{'odd':5,'even':4})\n",
    "assert_equal(countOddEvenDigits(431728564),{'odd':4,'even':5})"
   ]
  },
  {
   "cell_type": "markdown",
   "metadata": {},
   "source": [
    "#### Question 10\n",
    "\n",
    "\n",
    "The concept of <a href=\"https://en.wikipedia.org/wiki/Check_digit\">check digit</a> is widely used in identification codes including bank account numbers, International Standard Book Numbers (ISBNs) and Universal Product Codes (UPCs). Check digits are useful in reducing manual input errors in digital applications, as they the codes or numbers with check digits can be validated without any other extra information. This question will focus on ISBN 13 that uses the European Article Number (EAN) 13 barcode specification, described in the image below \n",
    "\n",
    "![ISBN 13 Calculation  Example](ISBN13example.png) [Extracted from Wikipedia]\n",
    "\n",
    "Using the information above complete the function to determine the validity of the ISBN13 and returns 'Valid' or 'Invalid for a valid or invalid ISBN13 respectively.\n"
   ]
  },
  {
   "cell_type": "code",
   "execution_count": 318,
   "metadata": {
    "deletable": false,
    "nbgrader": {
     "cell_type": "code",
     "checksum": "df3419f74b01e4d4e04df4f00a4725da",
     "grade": false,
     "grade_id": "cell-12046f0d6b5bdb38",
     "locked": false,
     "schema_version": 2,
     "solution": true
    }
   },
   "outputs": [],
   "source": [
    "from math import ceil\n",
    "def verify_ISBN13(ISBN):\n",
    "    rev_barcode = reverseNumber(ISBN)\n",
    "    lst = [int(digit) for digit in str(rev_barcode)]\n",
    "    checkdigit = lst[0]\n",
    "    lst = lst[1:len(lst)]\n",
    "    dic ={k:lst[k-1] for k in range(1,13)}\n",
    "    checksum = sum([v if k%2==0 else v*3 for k,v in dic.items()])\n",
    "    if (math.ceil(checksum/10.0)*10 - checksum) == checkdigit: return 'Valid'\n",
    "    else: return 'Invalid'\n"
   ]
  },
  {
   "cell_type": "code",
   "execution_count": 319,
   "metadata": {
    "deletable": false,
    "editable": false,
    "nbgrader": {
     "cell_type": "code",
     "checksum": "5b8f8366503f679671184765a1ae6c0d",
     "grade": true,
     "grade_id": "cell-47c64fad5b6e1655",
     "locked": true,
     "points": 2,
     "schema_version": 2,
     "solution": false
    }
   },
   "outputs": [],
   "source": [
    "assert_equal(verify_ISBN13(4006381333931), 'Valid')\n",
    "assert_equal(verify_ISBN13(9788175257665), 'Valid')\n",
    "assert_equal(verify_ISBN13(9788175257645), 'Invalid')"
   ]
  },
  {
   "cell_type": "code",
   "execution_count": null,
   "metadata": {},
   "outputs": [],
   "source": [
    "def checkDigit(isbn):\n",
    "    calculateDigit = 0\n",
    "    count = 1\n",
    "    calculateDigit = 10 - calculateDigit\n",
    "#     for count in range (1,14):\n",
    "#         mylist = int(input(\"Please enter the next digit of the ISBN: \"))\n",
    " #      isbn = mylist()\n",
    "    while (count <= 13):\n",
    "        calculateDigit = calculateDigit + isbn[count]\n",
    "        count = count + 1\n",
    "        calculateDigit = calculateDigit + (isbn[count] * 3)\n",
    "        count = count + 1\n",
    "    while (calculateDigit >= 10):\n",
    "        calculateDigit = calculateDigit - 10\n",
    "    if (calculateDigit == 10):\n",
    "        calculateDigit = 0\n",
    "    if (calculateDigit == isbn[13]):\n",
    "        print (\"Valid ISBN\")\n",
    "    else:\n",
    "        print (\"Invalid ISBN\")\n",
    "\n",
    "\n",
    "\n",
    "checkDigit()"
   ]
  },
  {
   "cell_type": "code",
   "execution_count": 2,
   "metadata": {},
   "outputs": [
    {
     "name": "stdout",
     "output_type": "stream",
     "text": [
      "[40, 80, 120, 80, 160, 240, 120, 240, 360]\n"
     ]
    }
   ],
   "source": [
    "my_list = []\n",
    "\n",
    "for x in [20, 40, 60]:\n",
    "    for y in [2, 4, 6]:\n",
    "        my_list.append(x * y)\n",
    "\n",
    "print(my_list)\n",
    "\n",
    "# my_list = [x * y for x in [20, 40, 60] for y in [2, 4, 6]]\n",
    "# print(my_list)"
   ]
  },
  {
   "cell_type": "code",
   "execution_count": 9,
   "metadata": {},
   "outputs": [
    {
     "name": "stdout",
     "output_type": "stream",
     "text": [
      "sys.version_info(major=3, minor=6, micro=4, releaselevel='final', serial=0)\n"
     ]
    }
   ],
   "source": [
    "import sys\n",
    "print(sys.version_info)"
   ]
  },
  {
   "cell_type": "code",
   "execution_count": 4,
   "metadata": {},
   "outputs": [],
   "source": [
    "from math import ceil"
   ]
  },
  {
   "cell_type": "code",
   "execution_count": 7,
   "metadata": {},
   "outputs": [
    {
     "data": {
      "text/plain": [
       "80"
      ]
     },
     "execution_count": 7,
     "metadata": {},
     "output_type": "execute_result"
    }
   ],
   "source": [
    "ceil(72/10.0)*10"
   ]
  },
  {
   "cell_type": "markdown",
   "metadata": {},
   "source": [
    "a python file end with `.py` "
   ]
  },
  {
   "cell_type": "markdown",
   "metadata": {},
   "source": [
    "    Now it's time for a challenge to bring together a lot of the concepts we've learned so far! In this challenge we're going to clean the storage column, which contains information about the disks within the laptops. Let's look at a sample of the data in that column:\n",
    "\n",
    "\n",
    "    print(laptops.loc[76:81, \"storage\"])\n",
    "\n",
    "    76                 2TB HDD\n",
    "    77    128GB SSD +  1TB HDD\n",
    "    78                 1TB HDD\n",
    "    79    128GB SSD +  1TB HDD\n",
    "    80               256GB SSD\n",
    "    81               512GB SSD\n",
    "    Name: storage, dtype: object\n",
    "    From this sample, we can observe:\n",
    "\n",
    "    Some laptops have two disks and some just have one.\n",
    "    Each disk has a capacity (eg 128GB) and a type (eg SSD).\n",
    "    Capacities are expressed in either gigabytes (GB) or terabytes (TB).\n",
    "    Our aim is to extract this data into several new columns. Our final data will looks like this:\n",
    "\n",
    "    storage_1_capacity_gb\tstorage_1_type\tstorage_2_capacity_gb\tstorage_2_type\n",
    "    76\t2000.0\tHDD\tNaN\tNone\n",
    "    77\t128.0\tSSD\t1000.0\tHDD\n",
    "    78\t1000.0\tHDD\tNaN\tNone\n",
    "    79\t128.0\tSSD\t1000.0\tHDD\n",
    "    80\t256.0\tSSD\tNaN\tNone\n",
    "    81\t512.0\tSSD\tNaN\tNone\n",
    "    The storage_1_capacity_gb and storage_2_capacity_gb columns are both float type, and both store the capacity with uniform units - gigabytes, where 1TB is 1000GB.\n",
    "    If there is only one disk in the laptop, both storage_2_capacity_gb and storage_2_type are null.\n",
    "    Your task is to create the four new columns as seen above, and remove the existing storage column. To remove a column, you can use the DataFrame.drop() method:\n",
    "\n",
    "\n",
    "    laptops = laptops.drop('storage', axis=1)\n",
    "    If you create any temporary columns along the way in order to complete these challenge, DataFrame.drop() accepts a list of labels so you can remove them all in one line.\n",
    "\n",
    "    While working on this challenge, you may also want to assign multiple columns at once from a second dataframe. To do this, you can assign using a list of new column labels:\n",
    "\n",
    "\n",
    "    # df1 and df2 have identical index labels\n",
    "    df1[[\"new_col1\", \"new_col2\"]] = df2[[\"existing_col1\", \"existing_col2\"]]\n",
    "    # df1 and df3 have identical index label, df3 has only two columns\n",
    "    df1[[\"new_col3\", \"new_col4\"]] = df3\n",
    "    Don't be discouraged if this challenge takes a few attempts to get correct. Working iteratively is a great way to work, and this challenge is more difficult than exercises you have previously completed. We have included some extra hints, but we encourage you to try without the hints first, and only use them if you need them!"
   ]
  },
  {
   "cell_type": "markdown",
   "metadata": {},
   "source": [
    "### Learn\n",
    "<p>Now it's time for a challenge to bring together a lot of the concepts we've learned so far!  In this challenge we're going to clean the <code>storage</code> column, which contains information about the disks within the laptops.  Let's look at a sample of the data in that column:</p>\n",
    "\n",
    "\n",
    "    print(laptops.loc[76:81, \"storage\"])\n",
    "    \n",
    "    76                 2TB HDD\n",
    "    77    128GB SSD +  1TB HDD\n",
    "    78                 1TB HDD\n",
    "    79    128GB SSD +  1TB HDD\n",
    "    80               256GB SSD\n",
    "    81               512GB SSD\n",
    "    Name: storage, dtype: object\n",
    "<p>From this sample, we can observe:</p>  \n",
    "<ul>\n",
    "<li>Some laptops have two disks and some just have one.</li>\n",
    "<li>Each disk has a capacity (eg <code>128GB</code>) and a type (eg <code>SSD</code>).</li>\n",
    "<li>Capacities are expressed in either <a target=\"_blank\" href=\"https://en.wikipedia.org/wiki/Gigabyte\">gigabytes</a> (GB) or <a target=\"_blank\" href=\"https://en.wikipedia.org/wiki/Terabyte\">terabytes</a> (TB).</li>\n",
    "</ul>\n",
    "<p>Our aim is to extract this data into several new columns.  Our final data will looks like this:</p>\n",
    "<table class=\"dataframe\">\n",
    "<thead>\n",
    "<tr>\n",
    "<th></th>\n",
    "<th>storage_1_capacity_gb</th>\n",
    "<th>storage_1_type</th>\n",
    "<th>storage_2_capacity_gb</th>\n",
    "<th>storage_2_type</th>\n",
    "</tr>\n",
    "</thead>\n",
    "<tbody>\n",
    "<tr>\n",
    "<th>76</th>\n",
    "<td>2000.0</td>\n",
    "<td>HDD</td>\n",
    "<td>NaN</td>\n",
    "<td>None</td>\n",
    "</tr>\n",
    "<tr>\n",
    "<th>77</th>\n",
    "<td>128.0</td>\n",
    "<td>SSD</td>\n",
    "<td>1000.0</td>\n",
    "<td>HDD</td>\n",
    "</tr>\n",
    "<tr>\n",
    "<th>78</th>\n",
    "<td>1000.0</td>\n",
    "<td>HDD</td>\n",
    "<td>NaN</td>\n",
    "<td>None</td>\n",
    "</tr>\n",
    "<tr>\n",
    "<th>79</th>\n",
    "<td>128.0</td>\n",
    "<td>SSD</td>\n",
    "<td>1000.0</td>\n",
    "<td>HDD</td>\n",
    "</tr>\n",
    "<tr>\n",
    "<th>80</th>\n",
    "<td>256.0</td>\n",
    "<td>SSD</td>\n",
    "<td>NaN</td>\n",
    "<td>None</td>\n",
    "</tr>\n",
    "<tr>\n",
    "<th>81</th>\n",
    "<td>512.0</td>\n",
    "<td>SSD</td>\n",
    "<td>NaN</td>\n",
    "<td>None</td>\n",
    "</tr>\n",
    "</tbody>\n",
    "</table>\n",
    "\n",
    "<ul>\n",
    "<li>The <code>storage_1_capacity_gb</code> and <code>storage_2_capacity_gb</code> columns are both <code>float</code> type, and both store the capacity with uniform units - gigabytes, where 1TB is 1000GB.</li>\n",
    "<li>If there is only one disk in the laptop, both <code>storage_2_capacity_gb</code> and <code>storage_2_type</code> are null.</li>\n",
    "</ul>\n",
    "<p>Your task is to create the four new columns as seen above, and remove the existing <code>storage</code> column. To remove a column, you can use the <a target=\"_blank\" href=\"http://pandas.pydata.org/pandas-docs/stable/generated/pandas.DataFrame.drop.html#pandas.DataFrame.drop\"><code>DataFrame.drop()</code> method</a>:</p>\n",
    "\n",
    "    laptops = laptops.drop('storage', axis=1)\n",
    "    \n",
    "<p>If you create any temporary columns along the way in order to complete these challenge, <code>DataFrame.drop()</code> accepts a list of labels so you can remove them all in one line.</p>\n",
    "\n",
    "<p>While working on this challenge, you may also want to assign multiple columns at once from a second dataframe.  To do this, you can assign using a list of new column labels:</p>\n",
    "\n",
    "    # df1 and df2 have identical index labels\n",
    "    df1[[\"new_col1\", \"new_col2\"]] = df2[[\"existing_col1\", \"existing_col2\"]]\n",
    "    # df1 and df3 have identical index label, df3 has only two columns\n",
    "    df1[[\"new_col3\", \"new_col4\"]] = df3\n",
    "    \n",
    "<p>Don't be discouraged if this challenge takes a few attempts to get correct.  Working iteratively is a great way to work, and this challenge is more difficult than exercises you have previously completed.  We have included some extra hints, but we encourage you to try without the hints first, and only use them if you need them!</p>\n",
    "\n",
    "### Instruction\n",
    "<ul>\n",
    "<li>Clean the <code>storage</code> column, creating four new columns:<ul>\n",
    "<li><code>storage_1_capacity_gb</code>, with <code>float</code> dtype.</li>\n",
    "<li><code>storage_1_type</code>.</li>\n",
    "<li><code>storage_2_capacity_gb</code>, with <code>float</code> dtype.  If there is only one drive, this column should be null.</li>\n",
    "<li><code>storage_2_type</code>. If there is only one drive, this column should be null.</li>\n",
    "</ul>\n",
    "</li>\n",
    "<li>Drop the original <code>storage</code> column and any temporary columns you made while completing the exercise.</li>\n",
    "</ul>\n",
    "\n",
    "### Hints\n",
    "<ul>\n",
    "<li>Start by replacing the substrings <code>GB</code> and <code>TB</code>.  You will need to replace <code>TB</code> with some numbers to convert the values from terabytes to gigabytes.</li>\n",
    "<li>Next, split the storage column into two new temporary columns for the first the first and second drives.</li>\n",
    "<li>Then, on each of the temporary drive columns, split into two new columns for capacity and type.</li>\n",
    "<li>Lastly, convert the capacity columns to the <code>float</code> dtype and drop the storage and temporary columns.</li>\n",
    "</ul>\n",
    "\n",
    "### Answer\n",
    "\n",
    "    # replace 'TB' with 000 and rm 'GB'\n",
    "    laptops[\"storage\"] = laptops[\"storage\"].str.replace('GB','').str.replace('TB','000')\n",
    "\n",
    "    # split out into two columns for storage\n",
    "    laptops[[\"storage_1\", \"storage_2\"]] = laptops[\"storage\"].str.split(\"+\", expand=True)\n",
    "\n",
    "    for s in [\"storage_1\", \"storage_2\"]:\n",
    "        s_capacity = s + \"_capacity_gb\"\n",
    "        s_type = s + \"_type\"\n",
    "        # create new cols for capacity and type\n",
    "        laptops[[s_capacity, s_type]] = laptops[s].str.split(n=1,expand=True)\n",
    "        # make capacity numeric (can't be int because of missing values)\n",
    "        laptops[s_capacity] = laptops[s_capacity].astype(float)\n",
    "\n",
    "    # remove unneeded columns\n",
    "    laptops.drop([\"storage\", \"storage_1\", \"storage_2\"], axis=1, inplace=True)"
   ]
  },
  {
   "cell_type": "code",
   "execution_count": null,
   "metadata": {},
   "outputs": [],
   "source": []
  }
 ],
 "metadata": {
  "kernelspec": {
   "display_name": "Python 3",
   "language": "python",
   "name": "python3"
  },
  "language_info": {
   "codemirror_mode": {
    "name": "ipython",
    "version": 3
   },
   "file_extension": ".py",
   "mimetype": "text/x-python",
   "name": "python",
   "nbconvert_exporter": "python",
   "pygments_lexer": "ipython3",
   "version": "3.6.4"
  },
  "widgets": {
   "state": {},
   "version": "1.1.2"
  }
 },
 "nbformat": 4,
 "nbformat_minor": 2
}
